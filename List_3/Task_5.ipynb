{
 "cells": [
  {
   "cell_type": "code",
   "execution_count": 14,
   "outputs": [],
   "source": [
    "from tqdm import tqdm\n",
    "import string"
   ],
   "metadata": {
    "collapsed": false,
    "pycharm": {
     "name": "#%%\n"
    }
   }
  },
  {
   "cell_type": "code",
   "execution_count": 15,
   "outputs": [],
   "source": [
    "# Pominięcie spacji\n",
    "# 1. Wczytywać plik 1gramów, ograniczyć go do długich i rzadkich słów.\n",
    "# 2. Próbować podzielić długie słowa na 2, tak, żeby oba były wśród tych krótszych.\n",
    "# 3. Przechodzić przez 2 gramy i jeśli dany 2 gram jest częsty niż połączone słowa, to uznajemy usunięcie spacji za błąd"
   ],
   "metadata": {
    "collapsed": false,
    "pycharm": {
     "name": "#%%\n"
    }
   }
  },
  {
   "cell_type": "code",
   "execution_count": 16,
   "outputs": [],
   "source": [
    "freq = {}\n",
    "with open('data/1grams', 'r') as f:\n",
    "    line = f.readline()\n",
    "    while line:\n",
    "        count, word = line.split()\n",
    "        freq[word] = int(count)\n",
    "        line = f.readline()"
   ],
   "metadata": {
    "collapsed": false,
    "pycharm": {
     "name": "#%%\n"
    }
   }
  },
  {
   "cell_type": "code",
   "execution_count": 17,
   "outputs": [],
   "source": [
    "long_words = {k:v for k, v in freq.items() if len(k) > 12 and int(v) < 500}"
   ],
   "metadata": {
    "collapsed": false,
    "pycharm": {
     "name": "#%%\n"
    }
   }
  },
  {
   "cell_type": "code",
   "execution_count": 18,
   "outputs": [
    {
     "data": {
      "text/plain": "388582"
     },
     "execution_count": 18,
     "metadata": {},
     "output_type": "execute_result"
    }
   ],
   "source": [
    "w = {}\n",
    "for word in long_words:\n",
    "    for i in range(3, len(word)-3):\n",
    "        if word[:i] in freq and word[i:] in freq:\n",
    "            if freq[word[:i]] > freq[word] and freq[word[i:]] > freq[word]:\n",
    "                w[word[:i] + \" \" + word[i:]] = {'word': word, 'count': freq[word]}\n",
    "len(w)"
   ],
   "metadata": {
    "collapsed": false,
    "pycharm": {
     "name": "#%%\n"
    }
   }
  },
  {
   "cell_type": "code",
   "execution_count": 19,
   "outputs": [],
   "source": [
    "errors_1 = []\n",
    "with open('data/2grams', 'r') as f:\n",
    "    line = f.readline()\n",
    "    while line:\n",
    "        count, word1, word2 = line.split()\n",
    "        word = word1 + \" \" + word2\n",
    "        if word in w:\n",
    "            if w[word]['count'] < int(count):\n",
    "                errors_1.append(w[word]['word'])\n",
    "        line = f.readline()"
   ],
   "metadata": {
    "collapsed": false,
    "pycharm": {
     "name": "#%%\n"
    }
   }
  },
  {
   "cell_type": "code",
   "execution_count": 20,
   "outputs": [
    {
     "data": {
      "text/plain": "7658"
     },
     "execution_count": 20,
     "metadata": {},
     "output_type": "execute_result"
    }
   ],
   "source": [
    "len(errors_1)"
   ],
   "metadata": {
    "collapsed": false,
    "pycharm": {
     "name": "#%%\n"
    }
   }
  },
  {
   "cell_type": "code",
   "execution_count": 21,
   "outputs": [
    {
     "data": {
      "text/plain": "['przedewszystkim',\n 'marszałku!wysoka',\n 'uniieuropejskiej.',\n 'dlawszystkich',\n 'jeszczebardziej',\n 'rzecznikprasowy',\n 'ochronyśrodowiska',\n 'dziękuję.proszę',\n 'szkołypodstawowej',\n 'ludzie,którzy',\n 'marszałku!wysoki',\n 'sprawwewnętrznych',\n 'samorząduterytorialnego',\n 'pomocyspołecznej',\n 'jaknajszybciej',\n 'jaknajbardziej',\n 'podwarunkiem,',\n 'drugiemiejsce',\n 'człowiek,który',\n 'dziękuję.dziękuję',\n 'papierówwartościowych',\n 'głosu?dziękuję.',\n 'człowieka,który',\n 'wojnyświatowej',\n 'centrumkultury',\n 'mamynadzieję,',\n 'polskiegozwiązku',\n 'wszystkich,którzy',\n 'trzeciemiejsce',\n 'ochronyśrodowiska,',\n 'całymświecie.',\n 'funduszyinwestycyjnych',\n 'takimprzypadku',\n 'prowadzoneprzez',\n 'wojskapolskiego',\n 'miejscu,gdzie',\n 'nieprzekracza',\n 'milionówzłotych.',\n 'posłów.większość',\n 'przedewszystkim,',\n 'istniejemożliwość',\n 'działalnościgospodarczej.',\n 'prowadzonejprzez',\n 'sięspodziewać',\n 'naszymmieście',\n 'naszymzdaniem',\n 'niepowinniśmy',\n 'trzebapamiętać,',\n 'możedoprowadzić',\n 'moimprzekonaniu',\n 'gdzieindziej.',\n 'przyjęta.poprawka',\n 'nieprzypominam',\n 'nieprzeszkadza',\n 'pierwszymmiejscu',\n 'komendywojewódzkiej',\n 'nieinteresuje',\n 'trzebazapłacić',\n 'bardzo.(oklaski)',\n 'niepowiedział',\n 'jeszczewięcej',\n 'bożegonarodzenia',\n 'ubiegłegoroku,',\n 'wyobrazićsobie',\n 'prowadzonyprzez',\n 'każdyczłowiek',\n 'czegośtakiego',\n 'pierwszydzień',\n 'wszystkim,którzy',\n 'telefonkomórkowy',\n 'przedpołudniem',\n 'mistrzostwaświata',\n 'kobieta,która',\n 'pucharuświata',\n 'rozwojuregionalnego',\n 'wnętrze.dzień.',\n 'pewnymstopniu',\n 'kobiety,które',\n 'ul.kościuszki',\n 'trzymiesiące.',\n 'parlamentueuropejskiego',\n 'właśniedlatego,',\n 'obrad:stanowisko',\n 'niewiedziałem',\n 'sądunajwyższego,',\n 'szkółzawodowych',\n 'człowiekiem,który',\n 'któryodbędzie',\n 'ludźmi,którzy',\n 'różnicemiędzy',\n 'tychwarunkach',\n 'oferowanychprzez',\n 'bardzo,bardzo',\n 'trybunałukonstytucyjnego,',\n 'prawczłowieka,',\n 'wszystko,czego',\n 'zastanawiałemsię,',\n 'przedsiębiorstwpaństwowych',\n 'uwagę.(oklaski)',\n 'gdzieindziej,',\n 'województwaśląskiego',\n 'gminnegoośrodka',\n 'szczególnymuwzględnieniem',\n 'jakikolwieksposób',\n 'telefonówkomórkowych',\n 'ręki.dziękuję.',\n 'prawamiejskie',\n 'zostałaresztowany',\n 'nieprzypomina',\n 'zupełnieinaczej.',\n 'proponowaneprzez',\n 'wówczas,kiedy',\n 'przycisku„za”',\n 'któraprowadzi',\n 'przeprowadzonychprzez',\n 'dziękuję.(oklaski)',\n 'związekmiędzy',\n 'możnapodzielić',\n 'duchaświętego',\n 'ministerstwozdrowia',\n 'dziękuję.pani',\n 'przypomniećsobie',\n 'nieuwzględnia',\n 'proc.wartości',\n 'towarzystwaprzyjaciół',\n 'wszystkichludzi',\n 'kobiety,która',\n 'wszystkichzainteresowanych',\n 'miejscapracy,',\n 'okoliczności,które',\n 'tys.mieszkańców',\n 'osobami,które',\n 'kilkasettysięcy',\n 'bożegonarodzenia.',\n 'pracowników,którzy',\n 'rządowyprojekt',\n 'telefonkomórkowy.',\n 'bardzodokładnie',\n 'ludzie,których',\n 'gospodarkirynkowej',\n 'ostatniejchwili,',\n 'najgorszejest',\n 'parlamentarnegounii',\n 'zgłoszonychprzez',\n 'niechciałabym',\n 'rodziców,którzy',\n 'urzędumiejskiego.',\n 'małoprawdopodobne,',\n 'niewszystkich',\n 'trudnąsytuację',\n 'komisjarewizyjna',\n 'mężczyzny,który',\n 'uniwersytetuwarszawskiego.',\n 'października2001',\n 'wszystkichświętych',\n 'celuzapewnienia',\n 'nieprzyniesie',\n 'niewidziałem,',\n 'niewyłączając',\n 'powiedziałapani',\n 'jaknajprędzej',\n 'możnausłyszeć',\n 'łącznawartość',\n 'strażymiejskiej,',\n 'jaknajszybsze',\n 'stuprocentach',\n 'możnaprzecież',\n 'środków,które',\n 'bankuświatowego',\n 'kobietę,która',\n 'którymśmomencie',\n 'stopięćdziesiąt',\n 'uważamjednak,',\n 'żadnychwątpliwości,',\n 'przycisku„przeciw”',\n 'placówekoświatowych',\n 'tereniewojewództwa',\n 'dolnegośląska.',\n 'niepowiedział.',\n 'giełdziepapierów',\n 'lepszewarunki',\n 'dlamłodzieży.',\n 'jaknajlepiej.',\n 'ul.sienkiewicza',\n 'nieodpowiada.',\n 'jaknajszybciej,',\n 'św.stanisława',\n 'każdypowinien',\n 'ul.mickiewicza',\n 'sądemokręgowym',\n 'nieprzedstawił',\n 'duchaświętego,',\n 'niewykorzystali',\n 'chciałabym,żeby',\n 'kierowców,którzy',\n 'rodzice,którzy',\n 'będzieznacznie',\n 'istniejejeszcze',\n 'nieprzypadkiem',\n 'złotychmiesięcznie.',\n 'przydźwiękach',\n 'nieodpowiadają',\n 'lekarza,który',\n 'kiedywszystko',\n 'wartozaznaczyć,',\n 'człowiek,którego',\n 'którejznajduje',\n 'podczaszawodów',\n 'nszz\"solidarność\"',\n 'nierozumieją,',\n 'podpseudonimem',\n 'województwaśląskiego.',\n 'województwieśląskim',\n 'wśródwszystkich',\n 'dziecka,które',\n 'pow.rybnicki.',\n 'kolegów,którzy',\n 'bliskimwschodzie',\n 'ul.piłsudskiego',\n 'świadczonychprzez',\n 'żadnychwątpliwości',\n 'tys.mieszkańców.',\n 'radęnadzorczą',\n 'października1991',\n 'ligimistrzów.',\n 'wszystkichpracowników',\n 'przedzamknięciem',\n 'pozytywnąopinię',\n 'prezydentaaleksandra',\n 'resortfinansów',\n 'młodychmężczyzn',\n 'protestprzeciwko',\n 'ul.powstańców',\n 'naszychczasach',\n 'imprezaodbędzie',\n 'wnioskodawcy.proszę',\n 'niewytrzymała',\n 'nieobowiązuje',\n 'niepowiedziałem',\n 'którzypracowali',\n 'własnymzakresie.',\n 'krajóweuropejskich',\n 'fot.krzysztof',\n 'łącznejpowierzchni',\n 'miliardówdolarów',\n 'krótkimokresie',\n 'nieprzekraczają',\n 'byćwykorzystywane',\n 'ul.grunwaldzkiej',\n 'przedewszystkim.',\n 'milionyzłotych',\n 'dziewczyna,która',\n 'dziękuję.przystępujemy',\n 'pracownicyfirmy',\n 'niewidzieliśmy',\n 'duchaświętego.',\n 'wydarzeń,które',\n 'chłopca,który',\n 'komisji.dziękuję',\n 'książki,które',\n 'dlaczłowieka,',\n 'nieuwzględniono',\n 'salawidowiskowa',\n 'św.franciszka',\n 'karzeograniczenia',\n 'źródło:opracowanie',\n 'początkusezonu',\n 'najmniejjeden',\n 'niepozostanie',\n 'jezuschrystus',\n 'przyprowadzeniu',\n 'piłkarskiejreprezentacji',\n 'należyskładać',\n 'wiedział,gdzie',\n 'głównymproblemem',\n 'politycy,którzy',\n 'dziewczynajest',\n 'uczniowiegimnazjum',\n 'dlanauczycieli.',\n 'października1997',\n 'ul.słowackiego',\n 'żadnegoznaczenia',\n 'szerokopojętej',\n 'państwa,który',\n 'inwestycjajest',\n '(jeleniagóra)',\n 'warszawieoraz',\n 'możnaprzeprowadzić',\n 'niepozwalając',\n 'przystosowaniu',\n 'ds.marketingu',\n 'arturmakowiecki',\n 'europejskiegotrybunału',\n 'nieznajdziesz',\n 'nieprzeszkadzają',\n 'niespodziewałam',\n 'towarzystwaemerytalnego',\n 'niewiedzieliśmy',\n 'prof.stanisław',\n 'sprawie,która',\n 'powiatowegoinspektora',\n 'sciencefiction',\n 'rodziny,która',\n 'niewykorzystuje',\n 'ul.kilińskiego',\n 'możliwości,żeby',\n 'pismaświętego',\n 'podbudownictwo',\n 'niezapominajmy,',\n 'wielekontrowersji',\n 'więcejpieniędzy.',\n 'nieprzekraczającej',\n 'innych,którzy',\n 'celuzapewnienie',\n 'orazpracowników',\n 'podczaswczorajszego',\n 'jakiekorzyści',\n 'nieprzeszkadzał',\n 'pożytkupublicznego.',\n 'sali,oklaski)',\n 'dziświeczorem',\n 'wzrostwydatków',\n 'pow.rybnicki,',\n 'ul.warszawskiej',\n 'nieprzekraczała',\n 'nieusprawiedliwia',\n 'wcześniejbyły',\n 'pytanie:jakie',\n 'końcaubiegłego',\n 'listopada1995',\n 'dziewczynę,która',\n 'indywidualnychmistrzostw',\n 'mariuszpawłowski',\n 'reformyubezpieczeń',\n 'wysokorozwiniętych',\n 'innymiludźmi,',\n 'niespodziewali',\n 'człowiekowi,który',\n 'dziękuję.zgodnie',\n 'dziedzictwakulturowego',\n 'jestwykorzystywany',\n 'przedostatnią',\n 'kosztutrzymania',\n 'regulaminkonkursu',\n 'finałupucharu',\n 'któryspowodował',\n 'gen.sikorskiego',\n 'swojedziałania',\n 'umowyzlecenia',\n '\"gazetywyborczej\",',\n 'świeżoupieczony',\n 'innychużytkowników',\n 'należywykonać',\n 'nadprzebiegiem',\n 'zostałwykonany',\n 'zajęciaprowadzone',\n 'byłszczególnie',\n 'niedostosował',\n 'października2009',\n 'granicamikraju',\n 'ugrupowania,które',\n 'października1994',\n 'przyjęciempoprawki?',\n 'niedoprowadzi',\n 'nieposiadając',\n 'ul.sikorskiego',\n 'niewidziałam,',\n '(74)867-42-18',\n 'ciszy...pieśń:',\n 'jarosławkaczyński.',\n 'ul.sobieskiego',\n 'nieuwzględniają',\n 'którymwcześniej',\n 'nieposiadających',\n 'ul.żeromskiego',\n 'międzynarodowyfundusz',\n 'bezpośrednictwa',\n 'prawejstronie,',\n 'prof.andrzeja',\n 'stupięćdziesięciu',\n 'pierwszypunkt',\n 'pozdrawiamserdecznie',\n 'dzieckopowinno',\n 'dziękujęwszystkim',\n 'najważniejszychwydarzeń',\n 'lekarze,którzy',\n 'poprawek.dziękuję.',\n 'm.st.warszawy',\n 'władzypaństwowej',\n 'przedpołudniem.',\n 'mieszkania,które',\n 'imię,nazwisko',\n 'jednostki,które',\n 'nowopowstałej',\n 'groclingrodzisk',\n 'kościoła,który',\n 'odprawionazostanie',\n 'sztukiludowej',\n 'zdaniemtrenerów',\n 'bardzorozumiem,',\n 'przestrzegaprzed',\n 'dobrymsposobem',\n 'ludźmi,których',\n 'innychobiektów',\n 'legnica@gazeta.wroc.pl',\n 'zjawisko,które',\n 'chcąwiedzieć,',\n 'przedpołudniem,',\n 'nienajlepszej',\n 'dwóchpracowników',\n 'kierowcy,który',\n 'niedopuszczając',\n 'nieprzestanie',\n 'niezapominając',\n 'dziękuję.przypominam,',\n 'zachowań,które',\n 'postępowaniuprzygotowawczym',\n 'urządmarszałkowski.',\n 'wprowadzeniestanu',\n 'podciśnieniem',\n 'rokudziałalności',\n 'strażmiejska,',\n 'ul.kościuszki.',\n 'ponaddwukrotnie',\n 'nadwyżkiponad',\n 'mieście,gdzie',\n 'zostałpozbawiony',\n 'jednejosobie.',\n 'realizacjiustawy',\n 'sytuacjimaterialnej,',\n 'człowieka,któremu',\n 'delowicza(kserokopia',\n 'innychdziedzin',\n 'nienajlepiej.',\n 'wszechczasów.',\n 'jaknajlepszym',\n 'nieposiadające',\n 'godz.18.00miejsce:',\n 'jegonajbardziej',\n 'przedwieczorem',\n 'nieprzyjedzie',\n 'chłopcy,którzy',\n '\"superexpress\"',\n 'choćwiększość',\n 'bardzointeresujący',\n 'możefaktycznie',\n 'przebiegaprzez',\n 'proponowanegoprzez',\n 'al.niepodległości',\n 'miasta,którzy',\n 'możliwadzięki',\n 'finansowanyprzez',\n 'niezauważyli,',\n 'historii,która',\n 'nienajlepszym',\n 'nieodpowiadała',\n 'panaleksander',\n 'sciencefiction,',\n 'dwudziestukilku',\n 'wszystkiespotkania',\n 'stanamizjednoczonymi.',\n 'uniawolności,',\n 'nienamyślając',\n 'św.franciszek',\n 'nieodzwierciedla',\n 'wieluuczestników',\n 'chrystusa,który',\n 'niezauważyłem.',\n 'status:zdjęcia',\n 'takiegoprogramu',\n 'wśródjuniorów',\n 'ds.ubezpieczeń',\n 'lekkiejatletyki',\n 'nierozumiesz.',\n 'wszystkichzainteresowanych.',\n 'stowarzyszeniamiłośników',\n 'powiedziećjeszcze',\n 'przedreferendum',\n 'wydarzenie,które',\n 'dostawcówusług',\n 'lekarzorzecznik',\n 'szczególnychzasadach',\n 'ul.jagiellońskiej',\n 'dzieci,którym',\n 'dziękuję.otwieram',\n 'przypadkach,kiedy',\n 'kościół,który',\n 'nienajgorzej.',\n 'orazgimnazjum',\n 'sprzedażynowych',\n 'jestprezydent',\n 'możnazrozumieć,',\n 'tysiącpięćset',\n 'proszępana...',\n 'fot.magdalena',\n 'naddzieckiem.',\n 'powiedział,żeby',\n 'zdjęcie,które',\n 'gdytemperatura',\n 'trzebawymienić',\n 'komisji.dziękuję.',\n 'libertydirect',\n 'nazwisko,adres',\n 'niedopuszczać',\n 'nszz\"solidarność\".',\n 'krakowa,gdzie',\n 'czym:ekranizacja',\n 'niewytrzymałem',\n 'sprawązajmuje',\n 'niestety,okazało',\n 'panieprofesorze',\n 'sposóbmyślenia.',\n 'spotkaniepoświęcone',\n 'ważnychsprawach',\n 'całąprocedurę',\n 'senatu.proszę',\n 'wszystkiedziedziny',\n 'górników,którzy',\n 'ludzi,zwłaszcza',\n 'stokilkadziesiąt',\n 'instytucjifinansowej',\n 'jegoprzyjaciół',\n 'niewykorzystaliśmy',\n 'aktorów,którzy',\n 'któregowchodzi',\n 'listopada1992',\n 'nieposiadający',\n 'nowopowstałych',\n 'bramkarzgości',\n 'facetów,którzy',\n 'oczyszczalnięścieków',\n 'południowyzachód',\n 'wysokośćpodatku',\n 'wysokopostawionych',\n 'niedopuszczono',\n 'parkówkrajobrazowych',\n 'policja,straż',\n 'południowywschód',\n 'stowarzyszenia,które',\n 'waszymzdaniem',\n '(0:0).bramki:',\n 'im.powstańców',\n 'godz.17.00miejsce:',\n 'mieszkańcówwojewództwa',\n 'niebawembędzie',\n 'odpowiedzialnościodszkodowawczej',\n 'pojazdu,który',\n 'raiffeisenbank',\n 'zaprzecza,jakoby',\n 'nienajlepiej,',\n 'podgrunwaldem',\n 'proc.wydatków',\n 'środkóweuropejskiego',\n 'dziękuję.informuję,',\n 'ludziom,których',\n 'nazwiska,które',\n 'nowopowstałego',\n 'świętego,który',\n 'któregojednak',\n 'niepodejmować',\n 'pomocąjednego',\n 'wiesz,dlaczego',\n 'dwudziestegotrzeciego',\n 'któreuczestniczyły',\n 'przedinauguracją',\n 'telewizyjnegoprogramu',\n 'byćwprowadzony',\n 'północnywschód',\n 'proc.polskich',\n 'św.wojciecha.',\n 'izbo!chciałem',\n 'obligacjeskarbowe',\n 'roku.tymczasem',\n 'samoistnienie',\n 'wyjaśniatadeusz',\n 'bardzotrudno,',\n 'św.katarzyny,',\n 'ul.broniewskiego',\n 'ul.wyszyńskiego',\n 'członkamiunii',\n 'nieprzepadają',\n 'pilnować,żeby',\n 'przedostatnimi',\n 'rpiela@gazeta.wroc.pl',\n 'starymtestamencie',\n 'minister,który',\n 'niezauważyłam',\n 'nowonarodzone',\n 'obiektówużyteczności',\n 'jezuschrystus,',\n 'nieodpowiadać',\n 'niewykluczamy,',\n 'ul.mickiewicza.',\n 'kobiety,którą',\n 'niepamiętają,',\n 'części.pierwsza',\n 'miejski@gazeta.wroc.pl',\n 'listopada1993',\n 'pogorszeniestanu',\n 'swojegowłasnego',\n 'tragicznywypadek',\n 'zarządgospodarki',\n 'innychatrakcji.',\n 'nieprzedłużać',\n '\"superexpressu\"',\n 'tego,dlaczego',\n 'ul.poznańskiej',\n 'człowiekaprzed',\n 'podatkudochodowym,',\n 'szkodęinteresu',\n 'teninstrument',\n 'niesprawdzają',\n 'niebezpośrednio',\n 'prof.władysław',\n 'senatorowiesprawozdawcy',\n 'uczucie,które',\n 'warszawa1999,',\n 'xelion.doradcy',\n 'jastrzębiuzdroju',\n 'jużprzedmiotem',\n 'któryistnieje',\n 'parexcellence',\n 'październiku1956',\n 'przezchrystusa',\n 'przychodówewidencjonowanych',\n 'rakówczęstochowa',\n 'szkołachpodstawowych,',\n 'volkswagengolf',\n 'warszawa,tel.',\n '(0:0).bramka:',\n 'łatwodostępne',\n 'niewymagające',\n '„pulsbiznesu”',\n 'nagrodągłówną',\n 'naszeoczekiwania.',\n 'prezesempolskiego',\n 'bliskiegowschodu,',\n 'poniżejpublikujemy',\n 'poprawki.poprawka',\n 'lat.wcześniej',\n 'północnyzachód',\n 'wyjaśniawojciech',\n 'godzinie15.00',\n 'nieprzymierzając',\n 'sąsiada,który',\n 'strażypożarnych,',\n 'sytuacjachkryzysowych',\n 'choroba,która',\n 'ul.kościelnej',\n 'jestnieporozumieniem.',\n 'nieprzekraczający',\n 'nszz\"solidarność\",',\n 'ul.rzgowskiej',\n 'wszystko,tylko',\n 'zagospodarowaniaterenów',\n 'kardynaławyszyńskiego',\n 'kierunku,który',\n 'trenera,który',\n 'woj.śląskiego',\n 'zarządutelewizji',\n 'abielawska@gazeta.wroc.pl',\n 'dlaczego?dlatego',\n 'fragmenttekstu',\n 'nieodpowiedzieć',\n 'socjologiiuniwersytetu',\n 'tolerancjiwobec',\n 'bardzo.zamykam',\n 'franklintempleton',\n 'nowesamochody',\n 'nowoutworzonej',\n 'państwowegomuzeum',\n '\"przedewszystkim',\n 'którynakazuje',\n 'nieprzesadzajmy',\n 'rodzinę,która',\n 'tak.natomiast',\n 'trzydzieścikilka',\n 'wydatkimajątkowe',\n 'pierwszyalbum',\n 'fragmenty,które',\n 'komisji.komisja',\n 'organizacjeekologiczne',\n 'przykuchennym',\n 'ul.grunwaldzkiej.',\n 'wolałabym,żeby',\n 'każdegotygodnia',\n 'trudnodostępnych',\n 'cieniawątpliwości',\n 'fudali,prezydent',\n 'nieprzekraczające',\n 'nowowybudowanym',\n 'trudnodostępne',\n 'walbrzych@gazeta.wroc.pl',\n 'wyglądała,jakby',\n 'zakładówprzemysłowych.',\n 'złotych.jednak',\n 'bezwarunkowego',\n 'chelsealondyn',\n 'energii,która',\n 'niepozbawione',\n 'nieprzejdzie.',\n 'papieża,który',\n 'stefanleśniowski',\n 'długooczekiwana',\n 'nwellmann@gazeta.wroc.pl',\n 'obecnykształt',\n 'osóbdorosłych,',\n 'trenerapoloniusz',\n 'gen.władysława',\n 'nadczłowiekiem',\n 'numerze„gazety',\n 'roku.najpierw',\n 'skutecznychdziałań',\n 'wysokorozwiniętych,',\n 'wysokorozwiniętych.',\n 'deutschebank,',\n 'możnazrezygnować',\n 'św.bartłomieja',\n 'ul.przemysłowej',\n 'kilkudziesięciuminutach',\n 'lubin@gazeta.wroc.pl',\n 'niedotrzymuje',\n 'nowonarodzonego',\n 'oo.franciszkanów',\n 'rynkutelekomunikacyjnego',\n 'ul.partyzantów',\n 'zawodów,które',\n 'zostałkrzysztof',\n 'dobrze,dobrze',\n 'julianatuwima',\n 'listopada1967',\n 'wszechczasów,',\n 'częstotowarzyszy',\n 'grochowalskafot.',\n 'niezastosowano',\n 'organizator:fundacja',\n 'polsce,którzy',\n 'pracowniprof.',\n 'premier,który',\n 'proc.produkcji',\n 'komputerowy,który',\n 'nienajgorzej,',\n 'nienajlepszych',\n 'niepozbawiony',\n 'nowowybudowanej',\n 'ogłoszonyzostanie',\n 'przedwstąpieniem',\n 'ramachposzczególnych',\n 'ul.gliwickiej',\n '(niedziela,godz.',\n 'nieznalazłszy',\n 'św.franciszka,',\n 'ul.warszawska',\n 'zamierzawystąpić',\n '(2:0).bramki:',\n 'dwudziestuparu',\n 'naciskpołożony',\n 'nowowybranego',\n 'nowowybudowanego',\n 'volkswagenbank',\n 'dataurodzenia',\n 'debatypublicznej',\n 'jestprzedsiębiorstwo',\n 'niepotraficie',\n 'nieprzekraczających',\n 'rozmowy,która',\n 'wiedział,czym',\n 'wysokowykwalifikowanych',\n 'godz.19.00miejsce:',\n 'kobietatrafiła',\n 'lekkiejatletyce.',\n 'nieprzymierzając,',\n 'nowoprzyjętych',\n 'polityki,która',\n 'żadnychinformacji,',\n 'egzekucjiadministracyjnej',\n 'najlepszeokazały',\n 'orazspotkanie',\n 'długooczekiwane',\n 'szkodliwychsubstancji',\n 'ul.wólczańskiej',\n 'bielskubiałej.',\n 'bliskiejosoby,',\n 'dyskusję,która',\n 'internetsecurity',\n 'nazwisko,które',\n 'nieudzielając',\n 'nowopowstałym',\n 'protestowaliprzeciw',\n 'pytanie:gdzie',\n 'szerokopojęte',\n 'utworzeniuuniwersytetu',\n 'wiceprezesurzędu',\n 'gwiazdy,które',\n 'kulturafizyczna',\n 'niewymagających',\n 'nowoutworzonego',\n 'stopniazaawansowania',\n 'sytuacji.jeśli',\n 'udziałposzczególnych',\n 'uratowaćprzed',\n 'dyrektor,który',\n 'lat,natomiast',\n 'niedostrzegać.',\n 'świeżoupieczona',\n 'wielkiejtajemnicy',\n 'więcej,ponieważ',\n 'jednakponownie',\n 'niepotrzebują.',\n 'pracęznajdzie',\n 'rpalacz@gazeta.wroc.pl',\n 'środkatransportu',\n 'ul.pułaskiego',\n 'unijnychfunduszy.',\n 'wspólnotaeuropejska',\n 'godz.10.00miejsce:',\n 'godz.16.00miejsce:',\n 'konkurs,który',\n 'nieprzesadzajmy,',\n 'swojezdrowie,',\n 'szczerzepowiedziawszy',\n 'codziennieprzed',\n 'dladotychczasowych',\n 'koniec,kropka.',\n 'kortytenisowe,',\n 'menukontekstowe',\n 'senator.dziękuję',\n 'sprzedażydziałki',\n 'jeszczeinaczej:',\n 'kaczyński,który',\n 'lekówrefundowanych',\n 'marszałku!chciałbym',\n 'ul.krasińskiego',\n 'znienawidzonyprzez',\n 'jestniedopuszczalna.',\n 'lechowiwałęsie',\n 'nieszczędzono',\n 'nowomianowany',\n 'nowopowstających',\n 'odbieranyjako',\n 'serenawilliams',\n 'umowęzlecenie',\n 'jednakpotrzeba',\n 'niepodlegający',\n 'nowegopokolenia',\n 'pomysłzałożenia',\n 'kryzysu,który',\n 'miałwcześniej',\n 'nawozówsztucznych',\n 'organizator:rybnickie',\n 'układupokarmowego,',\n 'ul.warszawskiej.',\n 'gen.stanisław',\n 'jaknajszybszej',\n 'kolegom,którzy',\n 'niedopatrzyła',\n 'niedowierzając',\n 'pochłonieokoło',\n 'sprawdzanajest',\n 'ul.piłsudskiego,',\n 'wlk.brytanii,',\n 'wysokokwalifikowanych',\n 'celecharytatywne',\n 'godz.18:00miejsce:',\n 'przyklasztorze',\n 'bezświadomości',\n 'czytelników„gazety',\n 'miasta.dlatego',\n 'nagrodaprzyznawana',\n 'niedenerwować',\n 'nienależących',\n 'senatu.bardzo',\n 'stukilkudziesięciu',\n 'św.augustyna,',\n 'legiawarszawa,',\n 'marszałku.bardzo',\n 'ostatnim,który',\n 'przywszelkich',\n 'samoposiadanie',\n 'skalipodatkowej.',\n 'wartośćpoczątkowa',\n 'fantemzrobić.',\n 'lekkiejatletyki,',\n 'niezapomnijcie',\n 'tekstem,który',\n 'tys.obywateli',\n 'ul.władysława',\n 'wszystko.jest',\n 'byłospróbować',\n 'faktach,które',\n 'politykę,która',\n 'procesówtechnologicznych',\n 'rzeczywistości,którą',\n 'całejszerokości',\n 'dziennikzachodni',\n 'koszteminnych.',\n 'którewspółpracują',\n 'którympowierzono',\n 'miejsce:warszawa,',\n 'miłewspomnienia',\n 'osóbnajbardziej',\n 'bolesławchrobry',\n 'energia,która',\n 'godziny,kiedy',\n 'sędziegotrybunału',\n 'ul.poniatowskiego',\n 'ul.wyspiańskiego',\n 'zajęciaedukacyjne',\n 'związkułowieckiego.',\n 'czasemzdarzają',\n 'doradztwazawodowego',\n 'godzinie18.00.',\n 'jednegohektara',\n 'księża,którzy',\n 'marcinwasilewski',\n 'niekorzystając',\n 'wszystko.nawet',\n 'zachowanie,które',\n 'ds.europejskich',\n 'każdejwiększej',\n '(legiawarszawa),',\n 'lekkiejatletyki.',\n 'miejskiesprawy',\n 'niedobczyce,tel.',\n 'nieposiadającym',\n 'niepozbawiona',\n 'nowootwartego',\n 'nowoprzybyłych',\n 'nowowybranych',\n 'samorząduwojewódzkiego.',\n 'siebie.dlatego',\n 'wysokorozwinięte',\n 'bielskubiałej',\n 'gliwickiegoteatru',\n 'klatkąschodową',\n 'koledze,który',\n 'ludzi,zwierząt',\n 'management(polska)',\n 'miasta.podczas',\n 'niezapominajcie',\n 'niezauważyłam.',\n 'niezrealizowano',\n 'nowonarodzonych',\n 'prawamiejskie,',\n 'pucharukontynentalnego',\n 'ryszardwieczorek',\n 'szwajcarii,gdzie',\n 'umowyzlecenia.',\n 'zawodników,których',\n 'deutschebank.',\n 'energię,która',\n 'każdego,nawet',\n 'kulturyspektakl',\n 'małoprawdopodobny.',\n 'opowiadatomasz',\n 'państwa,jeszcze',\n 'pieniędzymożna',\n 'pomyślenia,żeby',\n 'rządzietadeusza',\n 'św.wawrzyńca.',\n 'wieczoremprzez',\n 'koordynacjędziałań',\n 'niewiedziałeś',\n 'pedagogspecjalny',\n 'poprawkapolega',\n 'przyjechałoponad',\n 'równieżsprzedaż',\n 'tamtegomomentu',\n 'całestworzenie',\n 'jest,ponieważ',\n '(legiawarszawa)',\n 'poglądów,które',\n 'przezspecjalistów,',\n 'przyjaciółoraz',\n 'rodziców,nauczycieli,',\n 'śląskiemwrocław.',\n 'trójcyświętej.',\n 'ul.raciborskiej',\n 'windowsupdate',\n 'woj.pomorskiego',\n 'złotych.obecnie',\n 'związków,które',\n 'andrzejnowak,',\n 'czterechnajlepszych',\n 'miasta.według',\n 'niecierpiących',\n 'respondentówuważa,',\n 'św.franciszka.',\n 'trudnowymagać,',\n 'ul.wyzwolenia',\n 'usługadostępna',\n 'większegowysiłku.',\n '„esensji”jest',\n 'libertydirect.',\n 'muzeumauschwitz-birkenau',\n 'niewystarczają.',\n 'nowowybudowanych',\n 'październikagodz.',\n 'pracy.większość',\n 'tematdziałania',\n ...]"
     },
     "execution_count": 21,
     "metadata": {},
     "output_type": "execute_result"
    }
   ],
   "source": [
    "errors_1"
   ],
   "metadata": {
    "collapsed": false,
    "pycharm": {
     "name": "#%%\n"
    }
   }
  },
  {
   "cell_type": "code",
   "execution_count": 4,
   "outputs": [
    {
     "name": "stderr",
     "output_type": "stream",
     "text": [
      "100%|██████████| 1100606/1100606 [02:28<00:00, 7403.96it/s] \n"
     ]
    },
    {
     "data": {
      "text/plain": "438085"
     },
     "execution_count": 4,
     "metadata": {},
     "output_type": "execute_result"
    }
   ],
   "source": [
    "exclude = set(string.punctuation)\n",
    "w = {}\n",
    "for word in tqdm(long_words):\n",
    "    for i in range(3, len(word)-3):\n",
    "        w1 = ''.join(ch for ch in word[:i] if ch not in exclude)\n",
    "        w2 = ''.join(ch for ch in word[i:] if ch not in exclude)\n",
    "        if w1 in freq and w2 in freq:\n",
    "            if freq[w1] > freq[word] and freq[w2] > freq[word]:\n",
    "                w[w1 + \" \" + w2] = {'word': word, 'count': freq[word]}\n",
    "len(w)"
   ],
   "metadata": {
    "collapsed": false,
    "pycharm": {
     "name": "#%%\n"
    }
   }
  },
  {
   "cell_type": "code",
   "execution_count": null,
   "outputs": [],
   "source": [
    "errors_2 = []\n",
    "with open('data/2grams', 'r') as f:\n",
    "    line = f.readline()\n",
    "    while line:\n",
    "        count, word1, word2 = line.split()\n",
    "        word = word1 + \" \" + word2\n",
    "        if word in w:\n",
    "            if w[word]['count'] < int(count):\n",
    "                errors_2.append(w[word]['word'])\n",
    "        line = f.readline()"
   ],
   "metadata": {
    "collapsed": false,
    "pycharm": {
     "name": "#%%\n"
    }
   }
  },
  {
   "cell_type": "code",
   "execution_count": 11,
   "outputs": [],
   "source": [
    "errors_2 = [error for error in errors_2 if error[-1] not in exclude or error[-2] not in exclude]"
   ],
   "metadata": {
    "collapsed": false,
    "pycharm": {
     "name": "#%%\n"
    }
   }
  },
  {
   "cell_type": "code",
   "execution_count": 12,
   "outputs": [
    {
     "data": {
      "text/plain": "14233"
     },
     "execution_count": 12,
     "metadata": {},
     "output_type": "execute_result"
    }
   ],
   "source": [
    "len(errors_2)"
   ],
   "metadata": {
    "collapsed": false,
    "pycharm": {
     "name": "#%%\n"
    }
   }
  },
  {
   "cell_type": "code",
   "execution_count": 13,
   "outputs": [
    {
     "data": {
      "text/plain": "['........poprostu',\n '_na_podstawie_',\n 'jeszcze....nie',\n 'jednak....nie',\n '[naszczęście]',\n 'nie...!!jestem',\n 'na...poziomie.',\n 'tak!!!!!!!!!!nie',\n 'uniieuropejskiej.',\n 'który......nie',\n 'jest...jeszcze',\n 'nie...wiadomo',\n 'dlawszystkich',\n 'lat...............i',\n 'jeszczebardziej',\n 'moim_zdaniem:',\n 'rzecznikprasowy',\n 'ochronyśrodowiska,',\n 'dlaczego?nie!',\n 'czy.......może',\n 'ubiegłegoroku,',\n 'oczywiście.nie',\n 'szkołypodstawowej',\n 'sądunajwyższego,',\n 'nie...wszyscy',\n 'sprawwewnętrznych',\n 'są):)))jeszcze',\n 'samorząduterytorialnego',\n 'wszystko....w',\n 'ma(...)charakter',\n 'pomocyspołecznej',\n 'jaknajszybciej,',\n 'jak,najbardziej',\n 'to\"oczywiście',\n 'prawczłowieka,',\n 'się....będzie',\n 'działalnościgospodarczej.',\n 'i........chyba',\n 'we...francji.',\n 'nie..............to',\n 'drugiemiejsce',\n '...niestety,nie',\n '\"tom\".......i',\n 'papierówwartościowych',\n ',,doprowadzenia',\n 'się...dobrze!',\n '\"naprowadzenie',\n 'ostatniejchwili,',\n 'wojnyświatowej',\n 'trzymiesiące.',\n 'całymświecie.',\n 'to!!!!!!pierwszy',\n 'centrumkultury',\n 'umowy-ubezpieczenia,',\n 'wcześniej...nie',\n 'ale....trzeba',\n 'jest.oczywiście',\n 'podatkudochodowym,',\n 'lewicy-demokratycznej.',\n 'polskiegozwiązku',\n 'trzeciemiejsce',\n 'stanówzjedno-czonych.',\n 'podwarunkiem,',\n 'prawie...\"nie',\n 'pieniądze...i',\n 'opowiada...o,',\n 'się!.przecież',\n 'bynajmniej/nie',\n 'w...,,czterech',\n 'trybunałukonstytucyjnego,',\n 'funduszyinwestycyjnych',\n 'takimprzypadku',\n 'przyjęciempoprawki?',\n 'nie!!!!!!!!!!!!!!!!jak',\n 'tak...dobrze.',\n 'tak.........z',\n 'jest...przede',\n 'niewidziałem,',\n 'wcześniej,niż',\n 'prowadzoneprzez',\n 'później....niż',\n 'strażymiejskiej,',\n 'wojskapolskiego',\n 'właśniedlatego,',\n 'do:korzystania',\n 'nieprzekracza',\n 'dlatego!!!tak',\n 'gdzieindziej;',\n 'bardzotrudno,',\n 'istniejemożliwość',\n 'prowadzonejprzez',\n 'wszystko.[/i]',\n 'sięspodziewać',\n '(naprzykładzie',\n 'urzędumiejskiego.',\n 'i...natychmiast',\n 'naszymmieście',\n 'naszymzdaniem',\n 'nieodpowiada.',\n 'najważniejsze-jest',\n 'jednego......,ze',\n 'niepowinniśmy',\n 'tego...właśnie',\n 'dzięki,której',\n 'dlamłodzieży.',\n 'pieniędzy...w',\n 'zwłaszcza,gdy',\n 'możedoprowadzić',\n 'moimprzekonaniu',\n 'nieprzypominam',\n 'nieprzeszkadza',\n 'pieniędzy,nie',\n 'z...internetu.',\n 'dziękuję.pani',\n 'pierwszymmiejscu',\n 'komendywojewódzkiej',\n '(jeleniagóra)',\n 'wychowania-fizycznego.',\n 'komisji:ustawodawczej',\n 'nie-inte-re-su-je!',\n 'trzebazapłacić',\n 'milionówzłotych.',\n 'miejscapracy,',\n 'mnie...bardzo',\n 'jeszczewięcej',\n 'że........chyba',\n 'bożegonarodzenia.',\n 'wyobrazićsobie',\n 'zupełnieinaczej.',\n 'prawejstronie,',\n 'prowadzonyprzez',\n 'jaknajlepiej.',\n 'każdyczłowiek',\n 'czegośtakiego',\n 'aleksander_kwaśniewski:',\n 'pierwszydzień',\n 'stycznia.2003)',\n 'wszystko.......nie',\n 'strażmiejska,',\n 'lech_kaczyński:',\n 'jarosławkaczyński.',\n 'telefonkomórkowy.',\n 'leszekmiller!',\n 'przedpołudniem,',\n 'mistrzostwaświata',\n 'roku(szkolnym)',\n 'się-oczywiście',\n 'pucharuświata',\n 'rozwojuregionalnego',\n 'pewnymstopniu',\n 'pierwszy...na',\n 'wcześniej.czy',\n 'jednak....dla',\n 'temat.....nie',\n 'wszystkim.nie',\n 'śmierci....?......i',\n 'do-stosowania',\n 'parlamentueuropejskiego',\n 'niewiedziałem',\n 'do-określenia',\n 'szkółzawodowych',\n 'podopieczni_trenera',\n '11-listopada.',\n 'któryodbędzie',\n 'na-pograniczu',\n 'ponieważ...na',\n 'różnicemiędzy',\n 'tychwarunkach',\n 'oferowanychprzez',\n 'dlaczłowieka,',\n 'niewidziałam,',\n 'pieniądze?nie',\n 'były...jednak',\n 'lat.wcześniej',\n 'więcejpieniędzy.',\n 'przedsiębiorstwpaństwowych',\n 'dlanauczycieli.',\n 'marek_borowski:',\n 'wcześniej???i',\n 'mnie.....jeszcze',\n 'województwaśląskiego.',\n 'stycznia.2000',\n '(doubezpieczenia',\n 'gminnegoośrodka',\n 'dokładnie,nie',\n 'szczególnymuwzględnieniem',\n 'jakprzystało,',\n 'w(...)szpitalach',\n 'jakikolwieksposób',\n 'samochodów...i',\n 'telefonówkomórkowych',\n 'prawamiejskie,',\n 'zostałaresztowany',\n 'nieprzypomina',\n 'szczęścia...i',\n 'jest,wszystko',\n 'proponowaneprzez',\n 'przycisku„za”',\n 'któraprowadzi',\n 'poseł-sprawozdawca',\n 'przeprowadzonychprzez',\n 'problem...nie',\n 'urządmarszałkowski.',\n 'sobie....nawet',\n 'zapanować.nad',\n 'problemy....i',\n 'związekmiędzy',\n 'możnapodzielić',\n 'co??.......jak',\n 'duchaświętego.',\n 'niespełniają,',\n 'człowieka,nie',\n 'zastanawiałemsię,',\n 'ministerstwozdrowia',\n 'uniawolności,',\n 'miejsce!!!!!!!!!z',\n 'tak...................ale',\n '_________________________.s$$_____________s$',\n 'znaczenia,jest',\n 'przypomniećsobie',\n 'dolnegośląska\"',\n 'dobrze?!...nie',\n 'teraz...tylko',\n 'nieuwzględnia',\n 'miłość...jest',\n 'towarzystwaprzyjaciół',\n 'wyglądała,jak',\n 'wszystkichludzi',\n 'wszystkichzainteresowanych.',\n 'kobieta...jest',\n 'bardzo,serdecznie',\n 'pozdrowienia-dla',\n 'kilkasettysięcy',\n 'sposóbmyślenia.',\n 'jest.potrzebny',\n 'rządowyprojekt',\n '(kościół),nie',\n 'bardzodokładnie',\n 'dzień.........z',\n 'gospodarkirynkowej',\n 'przez...................................................5.',\n '29-listopada,',\n 'uniwersytetuwarszawskiego.',\n 'pożytkupublicznego.',\n 'przez...rzecznika',\n 'tam.......coś',\n '27.października',\n 'dziecka...nie',\n 'najgorszejest',\n 'powiedzieć!-na',\n 'parlamentarnegounii',\n 'zgłoszonychprzez',\n 'deutschebank.',\n '(\"oświadczenie',\n 'okoliczności.....i',\n '\"zaprowadzenie',\n 'do...klientów.',\n 'niechciałabym',\n '19.października.',\n 'ble!......................ble',\n 'niewszystkich',\n 'wakacje.....w',\n 'trudnąsytuację',\n 'dnia..........................do',\n 'komisjarewizyjna',\n 'człowiek...na',\n 'października2001',\n 'wszystkichświętych',\n 'ligimistrzów.',\n 'własnymzakresie.',\n 'celuzapewnienia',\n 'nierozumieją,',\n 'n-a-p-r-a-w-d-ę.',\n 'tego...jednak',\n 'rodzicami...i',\n 'trzebapamiętać,',\n 'nieprzyniesie',\n 'śląsk/wrocław',\n 'prokuratury.....w',\n 'na....trzecie',\n 'niewyłączając',\n 'poprawki...nie',\n 'powiedziała:>>pani',\n 'jaknajprędzej',\n 'to!!!!!!!!!!!!a',\n 'możnausłyszeć',\n 'łącznawartość',\n 'jaknajszybsze',\n '...niemających',\n 'ksiądz-proboszcz',\n 'pytanie...czy',\n 'stuprocentach',\n 'możnaprzecież',\n 'bankuświatowego',\n 'jedna-czwarta,',\n 'którymśmomencie',\n 'sytuacjimaterialnej,',\n 'stopięćdziesiąt',\n 'przycisku„przeciw”',\n 'placówekoświatowych',\n 'tereniewojewództwa',\n 'przecież,nawet',\n 'spotkanie...i',\n 'wszystkiego!!!nie',\n 'giełdziepapierów',\n 'w.................w',\n 'miejscowości...?w',\n 'mnie...zawsze',\n 'chociaż.....jest',\n 'lepszewarunki',\n 'niepotrzebują.',\n \"zapisywania'się\",\n 'rodziców....nie',\n 'do...wczoraj.',\n 'szkołachpodstawowych,',\n 'każdypowinien',\n 'ubezpieczeniu-społecznym',\n 'teraz:/bardzo',\n 'sądemokręgowym',\n 'legiawarszawa,',\n 'którzyprzyszli,',\n 'niewiele.jest',\n 'strażypożarnych,',\n 'nieprzedstawił',\n 'niewykorzystali',\n 'ponadto...nie',\n 'kultury?polskiej.',\n 'będzie.znacznie',\n 'istniejejeszcze',\n 'nieprzypadkiem,',\n 'się...strasznie',\n 'dziewczyna...w',\n 'przydźwiękach',\n 'nieodpowiadają,',\n 'józef_oleksy:',\n 'rodzina...nie',\n 'tak.......przecież',\n 'wszystko;?idzie',\n 'kiedywszystko',\n 'nieprzyniosło,',\n 'amplico-life.',\n 'razie-jeszcze',\n 'którejznajduje',\n 'rozmowy...nie',\n 'podczaszawodów',\n '(14.września)',\n 'jezusa-chrystusa,',\n 'podpseudonimem',\n 'wysokości....50',\n 'województwieśląskim',\n 'wśródwszystkich',\n 'tak...jeszcze',\n 'bliskimwschodzie',\n 'czeka.jeszcze',\n 'jest....czasem',\n 'wykorzystywane,przez',\n 'nieprzynoszą-',\n 'świadczonychprzez',\n 'cieka-wostkąjest',\n 'do-wi-dze-nia.',\n 'było?przecież',\n 'postaci.....w',\n 'żadnychwątpliwości,',\n '(...)doprawdy,',\n 'radęnadzorczą',\n 'października1991',\n 'dokładnie...i',\n 'i...pieniędzy',\n 'swoją\"karierę\"',\n 'wszystkichpracowników',\n 'przedzamknięciem',\n 'jest:tworzenie',\n 'mają...kłopoty.',\n 'pozytywnąopinię',\n 'prezydentaaleksandra',\n 'resortfinansów',\n 'senator-sprawozdawca,',\n 'właściwie..do',\n 'meczu...trener',\n 'młodychmężczyzn',\n 'protestprzeciwko',\n 'przezspecjalistów,',\n 'naszychczasach',\n 'stare-miasto,',\n '_stwierdza_się_',\n 'imprezaodbędzie',\n 'negocjacji...w',\n 'niewytrzymała',\n 'nieobowiązuje',\n 'telewizji,nie',\n 'niepowiedziałem',\n 'credit/suisse',\n 'inaczej....to',\n 'którzypracowali',\n 'dlaczego?ludzie',\n '(dookreślonej',\n 'leszek_balcerowicz:',\n 'zwłaszcza/kiedy',\n 'krajóweuropejskich',\n 'łącznejpowierzchni',\n '\"gospodarzenie\"',\n 'miliardówdolarów',\n 'chłopak...nie',\n 'wszędzie,jest',\n 'krótkimokresie',\n 'które:zawierają',\n 'naddzieckiem.',\n 'nieprzekraczają',\n 'oczywiście...bardzo,',\n 'byćwykorzystywane',\n 'marian_krzaklewski:',\n 'pogoń-szczecin',\n 'milionyzłotych',\n '\"zagłosowało\"',\n 'dalekoidących,',\n 'daleko.....nie',\n 'żadnychinformacji,',\n 'jako...nauczyciel',\n 'pracownicyfirmy',\n '\"naprowadzeniu',\n 'niezauważyłem.',\n 'odpowiedzi...i',\n 'niewidzieliśmy',\n 'składać:wnioski',\n 'zostanie...\"to',\n '...ale...choć',\n 'września1998,',\n 'jutro......mam',\n 'sprawdzić,czy',\n 'jednak...ktoś',\n 'nieuwzględniono',\n 'zrobić......nie',\n 'salawidowiskowa',\n 'ma).oczywiście',\n 'jednejosobie.',\n 'karzeograniczenia',\n 'niezapominajmy,',\n 'początkusezonu',\n '(udział-około',\n 'chociaż...może',\n 'mam\"przyjemność\"',\n 'najmniejjeden',\n 'niepozostanie',\n 'wszystkim,bardzo',\n 'jezuschrystus,',\n 'miejscach...(na',\n 'powołane....do',\n 'przyprowadzeniu',\n 'jeszcze,nawet',\n 'naprawdę...tak',\n 'piłkarskiejreprezentacji',\n 'senatorów-sekretarzy:',\n 'się.dodatkowo',\n 'należyskładać',\n 'teraz...czeka',\n 'wiem......ale',\n 'głównymproblemem',\n 'dziewczynajest',\n 'jeszcze,trzeba',\n 'problemów,nie',\n 'uczniowiegimnazjum',\n 'października1997',\n 'żadnegoznaczenia',\n 'ale...widocznie',\n 'dlaczego!mamy',\n '_bardzo_małe_',\n 'szerokopojętej',\n 'pozdrawiam...i',\n '(zaparkowanie',\n 'inwestycjajest',\n 'był,,najbardziej',\n 'asset-management.',\n 'warszawieoraz',\n 'z...wałbrzycha.',\n 'ale...niektóre',\n 'możnaprzeprowadzić',\n 'niepozwalając',\n 'senatu.proszę',\n 'zawsze...tylko',\n 'arturmakowiecki',\n 'europejskiegotrybunału',\n 'nieznajdziesz',\n 'dziećmi....na',\n 'nieprzeszkadzają',\n 'niespodziewałam',\n 'towarzystwaemerytalnego',\n 'szczęścia.nie',\n 'książka...nie',\n 'niewiedzieliśmy',\n 'publicznych.jest',\n 'znajomości....i',\n 'powiatowegoinspektora',\n '(dofinansowania,',\n 'osobiście...i',\n 'sciencefiction,',\n 'nierozumiesz.',\n 'niewykorzystuje',\n 'śląska/wrocław',\n 'historii\",jest',\n 'pismaświętego',\n 'podbudownictwo',\n 'wielekontrowersji',\n 'nieprzekraczającej:',\n 'społeczeństwa,nie',\n 'złotychmiesięcznie.',\n 'znalazł....na',\n 'szpitala?-nie',\n 'andrzej_wajda:',\n 'celuzapewnienie',\n 'dziewczynę...z',\n 'rzeczywistość....i',\n 'orazpracowników',\n 'podczaswczorajszego',\n 'tym,oczywiście',\n 'union-investment,',\n 'jakiekorzyści',\n 'nieprzeszkadzał',\n 'chorób:układu',\n 'dziświeczorem',\n 'wzrostwydatków',\n 'widzenia,jest',\n 'mamynadzieję,',\n 'innymiludźmi,',\n 'nieprzekraczała',\n 'nieusprawiedliwia',\n 'zbigniew_ziobro:',\n 'możnazrozumieć,',\n 'niezwiązanych)',\n 'wcześniejbyły',\n 'końcaubiegłego',\n 'facet.......nie',\n 'listopada1995',\n 'niepamiętają,',\n 'homo-sapiens,',\n 'indywidualnychmistrzostw',\n 'powiedzieć?!to',\n 'system.windows.',\n 'mariuszpawłowski',\n 'reformyubezpieczeń',\n 'wszystkiego...w',\n 'wysokoroz-winiętych',\n 'niespodziewali',\n 'pozostało?.tylko',\n 'stanamizjednoczonymi.',\n 'mogę......tak',\n 'noweprodukty.',\n 'sytuacje....(i',\n 'dziedzictwakulturowego',\n 'jestwykorzystywany',\n 'joint-venture)',\n '(przedostatnią',\n 'wysokości...30',\n 'kosztutrzymania',\n 'na...jedzenie.',\n 'regulaminkonkursu',\n 'biblioteki....i',\n 'finałupucharu',\n 'któryspowodował',\n 'szczęście,nikt',\n 'swojedziałania',\n 'umowyzlecenia.',\n 'należy:zgłosić',\n 'poniedziałek/rano',\n 'świeżoupieczony',\n 'wreszcie.udało',\n 'gazeta_wyborcza:',\n 'wszystkich..nie',\n 'buenos-aires.',\n 'dobrze....ale',\n 'innychużytkowników',\n 'lepiej...niech',\n 'na...skrzypcach.',\n 'ludzie,którzy',\n 'należywykonać',\n 'miejscu,gdzie',\n 'nadprzebiegiem',\n 'rodzice-dzieci.',\n 'okolicy...nie',\n 'zostałwykonany',\n 'jest....zespół',\n 'nieprzejdzie.',\n 'powiedzieć.nie',\n 'maciej_żurawski:',\n 'na-\"najlepszy',\n '\"rozmowa\".nie',\n 'wiadomo.jeszcze',\n 'zajęciaprowadzone',\n 'byłszczególnie',\n 'niedostosował',\n 'okoliczności\".nie',\n 'października2009',\n 'bliskiegowschodu,',\n 'serdecznie.zapraszamy',\n 'wiele,ważnych',\n 'wojewódzkiego-sądu',\n 'granicamikraju',\n 'marszałek.nie',\n 'i...kolejnych',\n 'niezauważyli,',\n 'października1994',\n 'nasze...wspólne',\n 'niedoprowadzi',\n 'nieposiadając',\n 'na...kasprowy',\n 'niedostrzegać.',\n 'mężczyzną...i',\n '\"przedwyborem\"',\n 'kulczyk-holding',\n 'mnie/wszystko',\n 'osóbdorosłych,',\n 'gerling-polska',\n 'i...wzajemnie',\n 'niestety....tylko',\n 'rudzie-śląskiej',\n 'to...przypadek.',\n 'miesiące!!!!nie',\n 'nieuwzględniają',\n 'otrzymali:nagrody',\n 'witam!!!serdecznie',\n 'którymwcześniej',\n 'nie-posiadających',\n '(reality-show,',\n 'związku...nie',\n 'międzynarodowyfundusz',\n 'bezpośrednictwa',\n 'stupięćdziesięciu',\n 'niewystarczają.',\n 'pierwszypunkt.',\n '\"przedświtem\"',\n 'przypadków(nie',\n 'polsce.tylko,',\n 'pozdrawiamserdecznie,',\n 'dzieckopowinno',\n 'dziękujęwszystkim',\n 'inaczej...jak',\n 'najważniejszychwydarzeń',\n 'niewykluczamy,',\n 'gospodarki,nie',\n 'posła-sprawozdawcy',\n 'proszę...panie',\n 'władzypaństwowej',\n 'imprezsportowych?',\n 'pracownikówochrony.',\n 'przyszłość.jest',\n 'publicznej.nie',\n 'jeszczeinaczej:',\n 'przewodupokarmowego:',\n 'prania<brudnych',\n 'zobaczymy.....jak',\n 'nowopowstałej',\n 'polskichspółek,',\n 'bardzoszerokie:',\n 'jednoznaczne...z',\n 'komunizmu...w',\n 'groclin/grodzisk',\n 'odprawionazostanie',\n 'państwa-prawa',\n 'sztukiludowej',\n 'roku,rozpoczął',\n 'wcześniej...to',\n 'zdaniemtrenerów',\n 'człowiek.miał',\n 'mężczyzn...nie',\n '^-*-microsoft\\\\windows',\n 'przestrzegaprzed',\n 'rzeczy,bardzo',\n 'dobrymsposobem',\n 'jest.krzysztof',\n 'od-dawać-się:',\n 'finansowe,nie',\n 'miejsce_urodzenia',\n 'dziennikarze,nie',\n 'wielugatunków,',\n 'hdi-asekuracja.',\n 'innychobiektów',\n 'jako...\"zespół',\n 'kasperskylab,',\n 'siebie...bardzo',\n 'że...komunizm',\n 'rodzin:-)))))))))o',\n 'bronisław_geremek:',\n 'nie...jeszcze',\n 'nienajlepszej',\n '\"boga\"?......z',\n 'dwóchpracowników',\n 'niedopuszczając',\n 'nieprzestanie',\n 'niezapominając,',\n 'siebie,wszystko',\n 'ja-kiegoś-tam.',\n '(odprowadzenia:',\n '\"samorządnie\"',\n 'swojezdrowie,',\n 'wszystkie.takie',\n 'postępowaniuprzygotowawczym',\n 'dokładnie.....jak',\n 'istnieją...tylko',\n 'małoprawdopodobne,',\n 'wprowadzeniestanu',\n 'merrill-lynch.',\n 'niewyłącznie,',\n 'port-lotniczy',\n 'rokudziałalności',\n 'umowy-dzierżawy',\n 'godziny...(nie',\n 'ponaddwukrotnie?',\n 'krzysztof_zanussi:',\n 'nadwyżkiponad',\n '(naznaczenie,',\n 'dzisiaj\"-bardzo',\n 'niemczech.czy',\n 'nie-przeszła)',\n 'pierwszegomeczu,',\n 'psychologa...i',\n 'strony-państwa',\n 'teraz.wszystkie',\n 'zostałpozbawiony',\n 'konsekwencji.....nie',\n 'problemy?nie.',\n 'realizacjiustawy',\n 'innychdziedzin',\n '(polska/reprezentacja',\n 'powiedzieć,czy',\n 'jaknajlepszym',\n 'nieposiadające.',\n 'realu-madryt,',\n 'jestem.......nie',\n 'jegonajbardziej',\n 'przedwieczorem',\n 'czarne)włosy,',\n 'nieprzyjedzie',\n 'praktycznie...nic',\n 'prokom--trefl',\n 'spółdzielczego-własnościowego.',\n 'nienajlepszy?',\n 'o-siem-ra-zy!',\n 'polsce???...czy',\n 'wszystkie)grupy',\n 'sonyericsson.',\n 'spotkanie.się',\n 'strony...może',\n 'choćwiększość',\n 'do:wyłączenia',\n 'przyszłość(nie',\n 'spółdzielcze-własnościowe.',\n '(azsczęstochowa',\n 'bardzointeresujący',\n 'możefaktycznie',\n 'przebiegaprzez',\n 'żaden,człowiek',\n 'bardzo...chciałabym',\n 'mam.....chyba',\n 'proponowanegoprzez',\n 'ale...powinien',\n 'majestacie-prawa,',\n 'możliwadzięki',\n 'finansowanyprzez',\n 'widziałem..tylko',\n 'mieszkanie.nie',\n 'skóry/.../nie',\n 'nienajlepszym.',\n 'nieodpowiadała',\n 'panaleksander',\n 'wyborach!-nie',\n 'ale......najlepiej',\n 'dwudziestu-kilku',\n 'wszystkiespotkania',\n 'z...zachowania',\n 'chociaż...nigdy',\n 'warta-poznań.',\n 'miałem..okazji',\n 'mieszkaniu,nie',\n '\"napełnienie\"',\n 'nienamyślając',\n 'tego....potrzebna',\n 'demokracji,jest',\n 'instytucji.nie',\n 'nieodzwierciedla',\n '(nie)przegrał',\n 'pytanie....co',\n 'rzeczywistość,nie',\n 'wieluuczestników',\n 'senatora-sekretarza.',\n 'się:prezentacja',\n 'koszteminnych.',\n 'lekarza-orzecznika.',\n 'takiegoprogramu',\n 'wśródjuniorów',\n 'bardzo...chcę',\n 'lekkiejatletyki.',\n '(poddziałaniem)',\n '\"doinformowania\"',\n 'inni-mieszkańcy',\n 'stowarzyszeniamiłośników',\n 'powiedziećjeszcze',\n 'przedreferendum',\n 'widziałem,jak',\n 'rzeczy,trzeba',\n 'jednak..jeżeli',\n 'pioneer/pekao,',\n 'po...internecie',\n 'różnychpoziomach,',\n 'dostawcówusług',\n 'lekarz-orzecznik.',\n 'przedigrzyskami.',\n 'szczególnychzasadach',\n 'białej-podlaskiej.',\n 'dlategoludzie,',\n 'stomil-olsztyn,',\n 'sytuacjach,nie',\n 'człowiek...jak',\n 'jednostki.nie',\n 'ludzie...tacy',\n 'policji...przy',\n 'człowiek{jako',\n '............dzisiaj',\n 'orazgimnazjum',\n 'sprzedażynowych',\n 'zakładówprzemysłowych.',\n 'zrobić???........jak',\n 'jestprezydent',\n 'komisji,będzie',\n 'konto:fundacji',\n 'polityki.jest',\n 'tomasz_sikora:',\n 'tysiącpięćset',\n 'andrzej_olechowski:',\n 'doskonale...w',\n 'niedzielę.nie',\n 'venture-capital,',\n 'jestem.bardziej',\n 'gdytemperatura',\n 'księdza-proboszcza,',\n 'no,oczywiście',\n 'trzebawymienić',\n 'libertydirect',\n 'm^2powierzchni',\n 'niedopuszczać.',\n 'poszczególnychkategorii:',\n 'nowy/dokument',\n 'polityczna,jest',\n 'właściwie...dlaczego',\n 'dolby-digital.',\n 'niewytrzymałem',\n 'sprawązajmuje',\n 'wynikówinwestycyjnych.',\n 'za-świadczenia',\n 'firmy?....czy',\n 'gminy/powiatu',\n 'odpowiada...i',\n 'renault-megane',\n 'więcej...tylko',\n '\"pracować/nie',\n 'dobrze....tylko',\n 'natychmiast!!!nie',\n 'panieprofesorze',\n 'później...jak',\n 'bardzorozumiem,',\n 'spotkaniepoświęcone',\n 'sprawie...nic',\n 'ważnychsprawach',\n 'całąprocedurę',\n 'chrystusa-króla',\n 'lekarzy-specjalistów:',\n 'wszystkiedziedziny',\n 'z...filozofii',\n 'matki--polki,',\n 'stokilkadziesiąt',\n 'artystów-plastyków,',\n 'były....cztery',\n 'instytucjifinansowej',\n 'jegoprzyjaciół',\n 'niewykorzystaliśmy',\n 'polanicy-zdroju,',\n 'trener.wojciech',\n 'któregowchodzi',\n 'listopada1992',\n 'nie-posiadający',\n 'nowopowstałych,',\n '(ośmiu)miesięcy',\n 'potrzeby...nie',\n 'sytuacji..\"trzeba',\n 'bramkarzgości',\n 'oczyszczalnięścieków',\n 'pytanie...jak',\n 'unijnychfunduszy.',\n 'wysokośćpodatku',\n 'wysokopostawionych',\n 'druga.dotyczy',\n 'najlepiej.nie',\n 'niedopuszczono',\n 'orazinstytucje.',\n 'parkówkrajobrazowych',\n 'południowy--wschód',\n 'pytanie...\"dlaczego',\n 'stwierdzenie...o',\n 'waszymzdaniem',\n 'konkurencji,nie',\n 'lepiej....jak',\n 'pierwszy-lepszy',\n 'spokoju...nie',\n 'charakternie,',\n 'dlaczego?!!!wszyscy',\n 'internetowej...i',\n 'jest:uświadomienie',\n 'mieszkańcówwojewództwa',\n 'niebawembędzie',\n 'odpowiedzialnościodszkodowawczej',\n 'raiffeisenbank.',\n 'jarosław_kalinowski:',\n 'kategorii/klas,',\n 'podgrunwaldem',\n '..chyba...jak',\n 'konsekwencji...dla',\n '.........przez',\n 'senatora-sprawozdawcy',\n 'środkóweuropejskiego',\n 'może/powinien',\n 'nowopowstałego,',\n 'wychodzi....i',\n 'względzie.nie,',\n 'któregojednak',\n 'niepodejmować',\n 'poezji-polskiej',\n 'politycznej,nie',\n 'pomocąjednego',\n 'spółdzielczego-lokatorskiego',\n 'często...trzeba',\n 'dwudziestegotrzeciego',\n 'któreuczestniczyły',\n 'możliwe...?/na',\n 'niego..będzie',\n 'przedinauguracją',\n 'społeczeństwa,oraz',\n 'sukcesem,było',\n 'telewizyjnegoprogramu',\n 'zadowoleni....i',\n 'związek-nauczycielstwa',\n 'byćwprowadzony',\n 'północny-wschód,',\n 'sytuacji........było',\n 'większegowysiłku.',\n 'zabraknie.również',\n 'związkułowieckiego.',\n 'do...nienawiści',\n 'karnego-skarbowego',\n 'niedoceniają,',\n 'nowopowstałe)',\n 'obligacjeskarbowe',\n 'samoistnienie',\n 'wyjaśniatadeusz',\n 'i...ostatnim,',\n 'śmierci...dla',\n '20-kilometrów.',\n 'członkamiunii',\n 'nieprzepadają',\n 'przedostatnimi',\n 'starymtestamencie',\n 'naszeoczekiwania.',\n 'niezauważyłam.',\n 'nowonarodzone',\n 'obiektówużyteczności',\n 'wszystko.....tylko',\n 'demokratycznej.nie',\n '!$#%^&(%^*i)():l',\n 'nieodpowiadać',\n 'kupić?...tylko',\n 'niewytrzymały.',\n 'sytuacji.będzie',\n '100-procentach',\n 'komisja,powołana',\n 'ludzie????tego',\n 'naszej-klasie,',\n 'pracy...trzeba',\n 'dlaczego?jego',\n 'listopada1993',\n 'pogorszeniestanu',\n 'swojegowłasnego',\n 'tragicznywypadek',\n 'zarządgospodarki',\n 'kosztuje!!!)i',\n 'krakowie.jest',\n 'nieprzedłużać',\n 'polityczna.nie',\n 'skalipodatkowej.',\n 'człowiekaprzed',\n 'dyskusja:jest',\n 'krystyna_janda:',\n 'robert_korzeniowski:',\n 'starszych,osób',\n 'szkodęinteresu',\n 'teninstrument',\n 'do/specjalnie.',\n 'kosma-szczęściarz,',\n 'niestety.....i',\n 'niesprawdzają',\n 'sobie....dzisiaj',\n 'meczu...polska',\n 'naszegoczytelnika.',\n 'niebezpośrednio?',\n ...]"
     },
     "execution_count": 13,
     "metadata": {},
     "output_type": "execute_result"
    }
   ],
   "source": [
    "errors_2"
   ],
   "metadata": {
    "collapsed": false,
    "pycharm": {
     "name": "#%%\n"
    }
   }
  },
  {
   "cell_type": "code",
   "execution_count": 74,
   "outputs": [],
   "source": [
    "# Dodanie spacji\n",
    "\n",
    "# 1. Przechodzimy przez 2 gramy\n",
    "# 2. Łączymy je i patrzymy na ich freq w 1gramach - jeśli jest znacznie większa, to to błąd. Nie zawsze działa: pora dnia i poradnia\n",
    "\n",
    "errors_3 = []\n",
    "with open('data/2grams', 'r') as f:\n",
    "    line = f.readline()\n",
    "    while line:\n",
    "        count, word1, word2 = line.split()\n",
    "        if len(word1) > 4 and len(word2) > 3:\n",
    "            word = word1 + word2\n",
    "            if word in freq:\n",
    "                if freq[word] > 25 * int(count):\n",
    "                    errors_3.append(word1 + \" \" + word2)\n",
    "        line = f.readline()"
   ],
   "metadata": {
    "collapsed": false,
    "pycharm": {
     "name": "#%%\n"
    }
   }
  },
  {
   "cell_type": "code",
   "execution_count": 75,
   "outputs": [
    {
     "data": {
      "text/plain": "2876"
     },
     "execution_count": 75,
     "metadata": {},
     "output_type": "execute_result"
    }
   ],
   "source": [
    "len(errors_3)"
   ],
   "metadata": {
    "collapsed": false,
    "pycharm": {
     "name": "#%%\n"
    }
   }
  },
  {
   "cell_type": "code",
   "execution_count": 76,
   "outputs": [
    {
     "data": {
      "text/plain": "['między czasie',\n 'gdzie niegdzie',\n 'dziewięć dziesiątych',\n 'między narodowym',\n 'jakich kolwiek',\n 'powie dział',\n 'osiem dziesiątych',\n 'wszyst kich',\n 'przed wczoraj',\n 'społeczno- gospodarczego',\n 'szkolno- wychowawczego',\n 'jakiej kolwiek',\n 'kujawsko- pomorskiego',\n 'przede dniu',\n 'przed nich',\n 'przed wojenną',\n 'skład owej',\n 'automobil klub',\n 'części owej',\n 'gdzie kolwiek',\n 'jakie kolwiek',\n 'ponad podstawowych',\n 'powie działa',\n 'prawdo podobnie',\n 'pricewaterhouse coopers',\n 'przed wojennym',\n 'przyczyn owego',\n 'sanitarno- epidemiologicznej',\n 'sumie nie.',\n 'widowiskowo- sportowej',\n 'zadość uczynienie',\n 'założ enia',\n 'bielsko- biała',\n 'bielsku- białej,',\n 'części owego',\n 'dalaj lama',\n 'jednak owej',\n 'kujawsko- pomorskie',\n 'powie dział,',\n 'powie dzieć',\n 'powie dzieć,',\n 'przed świątecznym',\n 'społeczno- gospodarczej',\n 'super puchar',\n '1000- lecia',\n 'bielska- białej,',\n 'chcieli byśmy',\n 'jakim kolwiek',\n 'kiedy kolwiek',\n 'kujawsko- pomorskiego.',\n 'master card',\n 'między narodowymi',\n 'mogli byśmy',\n 'opiekuńczo- wychowawczych',\n 'podstaw owej',\n 'ponad gimnazjalnych.',\n 'północno- wschodniej',\n 'problem owych',\n 'proces owego',\n 'przed dzień',\n 'przed szkolnym',\n 'przed tem,',\n 'przed wczesną',\n 'przed wczesnym',\n 'przykład owego',\n 'przypo mniała',\n 'psychologiczno- pedagogicznej',\n 'skłodowskiej- curie',\n 'sześć dziesiątych',\n 'szkolno -wychowawczym',\n 'umiej ętności',\n 'wraże nie,',\n 'zakoń czenie',\n '–&#160; mówi',\n '2000- 2001',\n '2002/ 2003',\n '2007- 2013',\n 'automobil klubu',\n 'bezpieczeń stwa',\n 'biało -czerwoni',\n 'biało- czerwonych',\n 'białym stoku',\n 'całko wicie',\n 'ciężar owych',\n 'curie- skłodowskiej',\n 'cywilno prawnych',\n 'czarno- białe',\n 'dwóch -trzech',\n 'dziewięć dziesiątych.',\n 'ekstra ligi',\n 'finał owej',\n 'jakiego kolwiek',\n 'jakości owych',\n 'jednak owych',\n 'jednak owym',\n 'kilka naście',\n 'kilku dziesięciu',\n 'kilku letnich',\n 'kilku osobowa',\n 'którym kolwiek',\n 'listo pada',\n 'miejsko- gminnego',\n 'mieli byśmy',\n 'miesz kania',\n 'między ludzkie',\n 'możli wości',\n 'musieli byśmy',\n 'okres owej',\n 'pierw szym',\n 'polsko- niemieckie',\n 'polsko- niemieckiej',\n 'powie działa.',\n 'powie działem',\n 'projekt owej',\n 'przed ostatnie',\n 'pseudo kibiców',\n 'rolno- spożywczego',\n 'skarbiec -emerytura',\n 'środkowo -wschodniej,',\n 'ubiegło tygodniowej',\n 'udział owych',\n 'wartości owego',\n 'wcześ niej',\n 'wielo krotnie',\n 'wyglą dało',\n 'zagranicz nych',\n 'zatrzy mała',\n '17.00 miejsce:',\n '1939- 1945.',\n '1991- 1992',\n '2000/ 2001',\n '2001- 2002',\n '2001/ 2002',\n '2007- 2013.',\n 'aglome racji',\n 'bezpieczeń stwo',\n 'białego stoku',\n 'biało- czerwona',\n 'bielsko- biała,',\n 'bielsku- białej',\n 'biznes plany',\n 'boya- żeleńskiego',\n 'branż owych',\n 'broni sław',\n 'budżet owej',\n 'całości owego',\n 'central nych',\n 'chciał abym',\n 'ciemno ści.',\n 'ciężar owego',\n 'czarno- biała',\n 'czarno- białym',\n 'czechowice- dziedzice',\n 'czego kolwiek',\n 'ćwierć finale',\n 'długo terminowej.',\n 'dobra noc,',\n 'dobra noc.',\n 'dyrek torki.',\n 'dyskusy jnych',\n 'dział alność',\n 'dziew czyn',\n 'dziew czyny.',\n 'dźwięk owych',\n 'ekonomiczno- usługowych',\n 'emerytalno- rentowe',\n 'emerytalno- rentowego',\n 'funkcj onowanie',\n 'gadu- gadu,',\n 'gromadzka- anzelewicz',\n 'gronkiewicz- waltz,',\n 'gronkiewicz -waltz',\n 'handlowo- usługowe',\n 'humanistyczno- ekonomicznej',\n 'inter city.',\n 'inter risk',\n 'jakimi kolwiek',\n 'jedno brzmiące',\n 'jedno dniowe',\n 'jedno znacznie',\n 'kaszubsko- pomorskiego',\n 'kilkana ście',\n 'kilku letnim',\n 'kilku miesięcznego',\n 'kilku nastoletnich',\n 'kilku nastu',\n 'konfor mizmu,',\n 'kontekst owego',\n 'korwin- mikke',\n 'kozie głowy',\n 'krakowsko- częstochowskiej.',\n 'krótko trwały',\n 'kujawsko- pomorskiej',\n 'kupna -sprzedaży',\n 'leszczyń ski,',\n 'magda lena',\n 'miejsko -gminnego',\n 'miejsko- gminnej',\n 'miejsko -gminny',\n 'miejsko- gminnym',\n 'mieli byście',\n 'mieszka nia,',\n 'między narodowy',\n 'milcze niu.',\n 'mniej szych',\n 'modli twy,',\n 'modyfi kacjami',\n 'modyfi kowane',\n 'mogły byśmy',\n 'możli wość',\n 'multi media,',\n 'najbar dziej',\n 'najokrutniej szych',\n 'najświe ższy',\n 'nasza- klasa',\n 'nationale- nederlanden',\n 'nauczy cieli',\n 'naukowo- badawcze',\n 'naukowo- badawczych',\n 'niech ętnie',\n 'niedowierza niem',\n 'obser wować',\n 'opiekuńczo- wychowawczej',\n 'osiem dziesiąt',\n 'otaczają cych',\n 'podmiot owych',\n 'podstaw owych',\n 'pogró żkami.',\n 'polsko- niemieckich',\n 'polsko- niemieckich,',\n 'polsko- niemieckich.',\n 'polsko -niemieckiej',\n 'południowo- wschodniej',\n 'południowo- zachodniej',\n 'ponad gimnazjalnych',\n 'ponad przeciętne',\n 'ponad przeciętnych',\n 'powiedział abym',\n 'powierz chni',\n 'powie działa,',\n 'probo szcz.',\n 'proces owej',\n 'projekt owego',\n 'prosił abym',\n 'prywat nych,',\n 'przeciw działaniu',\n 'przeciw pożarowych.',\n 'przeciw wskazań',\n 'przeczy tałam',\n 'przedmiot owych',\n 'przedm iotom',\n 'przed emerytalne',\n 'przed mową',\n 'przed ostatniej',\n 'przed stawienie',\n 'przed stawieniem',\n 'przed stawiono',\n 'przed wojennymi',\n 'przekazy wano',\n 'przemiesz czania',\n 'przyj ęcia',\n 'przymu sowi',\n 'przynaj mniej',\n 'przypad kiem',\n 'przysia dając',\n 'psychologiczno -pedagogicznej',\n 'radio aktywne',\n 'radio odtwarzacz',\n 'ratowniczo- gaśniczej',\n 'ribbentrop- mołotow',\n 'rozło żyła',\n 'rozpocz ęcia',\n 'rozpocz ęciu',\n 'rzeczą pospolitą',\n 'rzeczy wiście',\n 'rzecz owego',\n 'rzecz pospolita',\n 'rzecz pospolita,',\n 'rzymsko katolickiego',\n 'rzymsko katolickiej',\n 'sanitarno- epidemiologiczna',\n 'skarbiec- emerytura',\n 'sklepie nie.',\n 'skład owego',\n 'skład owych',\n 'sound track',\n 'społeczeń stwem',\n 'społeczeń stwo',\n 'społeczno- ekonomicznej',\n 'społeczno- gospodarczego,',\n 'społeczno- gospodarczej,',\n 'społeczno- kulturalne',\n 'społeczno- politycznych',\n 'społe czeństwa',\n 'sportowo -rekreacyjnych',\n 'sportowo- widowiskowej',\n 'stowarzy szenia',\n 'struk turę',\n 'szcze gólne',\n 'szcze gólności',\n 'szczęśli wych',\n 'szkolno- przedszkolnego',\n 'szkolno- przedszkolnym',\n 'szkolno -wychowawczego',\n 'śląsko- dąbrowskiego',\n 'środkowo- wschodniej',\n 'środkowo- wschodniej,',\n 'środkowo- wschodniej.',\n 'środkowo wschodniej.',\n 'świat owych',\n 'talk- show',\n 'tekst owej',\n 'teren owego',\n 'trzech -czterech',\n 'tytuł owego',\n 'ubiegło tygodniowym',\n 'uczest nictwa',\n 'uzale żniają',\n 'uzale żnienie',\n 'warmińsko- mazurskiego',\n 'warmińsko- mazurskim',\n 'warmińsko- mazurskim.',\n 'weryfi kowania',\n 'white water',\n 'wiary godnej',\n 'widok owego',\n 'widowiskowo- sportowa',\n 'wieczo rem,',\n 'wielko powierzchniowych',\n 'wodno- ściekowej',\n 'wojownik 1988',\n 'wpływ owej',\n 'wschód -zachód',\n 'wszech ogarniającą',\n 'wszech rzeczy',\n 'wycią gnęła',\n 'wyglą dała',\n 'wymiar owej',\n 'wyprosto wała',\n 'wystę pują',\n 'xviii- wieczny',\n 'zaangaż owania',\n 'zachodnio europejskiej',\n 'zadość uczynienia',\n 'zainte resowanie',\n 'zakoń czeniu',\n 'zatrzy mali',\n 'zauwa żył,',\n 'zdefin iowane',\n 'zegar mistrza',\n 'zrozu miałem,',\n '..... .....',\n '0-502 -499-345',\n '10.00 -12.00',\n '1000- 1500',\n '10.00 miejsce:',\n '11.00 miejsce:',\n '15.00 miejsce:',\n '17.30 miejsce:',\n '18:00 miejsce:',\n '1939- 1945',\n '1944- 1989',\n '1980- 1981',\n '1990- 1991',\n '1993- 1997',\n '1995- 1997',\n '1996- 2000',\n '1997- 2000',\n '1998/ 1999',\n '1999- 2000',\n '1999- 2000.',\n '1999- 2003',\n '2004/ 2005',\n '2004/ 2005.',\n '2004- 2006',\n '2004- 2006,',\n '2007/ 2008',\n '2008/ 2009',\n '2008/ 2009.',\n '31.12. 2001',\n '7-dnio wego',\n 'absor buje',\n 'absur dalnie',\n 'active scan',\n 'administ racji',\n 'adminis tratorem',\n 'adopcyjno- opiekuńczy',\n 'agniesz ko...',\n 'agrotury stycznych',\n 'agro- handel',\n 'agusia- malusia',\n 'akcen tem.',\n 'aktua lnie',\n 'aktyw ność',\n 'alkoholo wych',\n 'ameryka nie.',\n 'amery kanie',\n 'amery kański',\n 'aminoacylo -trna',\n 'angielsko języcznej',\n 'aniel skiej',\n 'ankiet owego',\n 'antyk oncepcyjnych',\n 'antyk wariatów',\n 'archeo lodzy.',\n 'arche ologiczne.',\n 'archit ektura',\n 'aresztowa nia,',\n 'aresz towany',\n 'artyle ryjskiego.',\n 'artys tami',\n 'arysto kratycznym',\n 'atmosferycz nego.',\n 'audio tele',\n 'augusty niak,',\n 'auschwitz- birkenau',\n 'austro- węgier.',\n 'automa tyczne',\n 'autostra dach',\n 'baczy ńskiego',\n 'badawczo -rozwojowe',\n 'badawczo- rozwojowych,',\n 'badaw czych.',\n 'baleto wych',\n 'balko nie,',\n 'bandzio rów,',\n 'bankowo- ubezpieczeniowych',\n 'bench mark',\n 'benzy nową',\n 'bezpieczeń stwa?',\n 'bezpieczeń stwa.',\n 'bezpiecz nie,',\n 'bezpie czeństwa',\n 'bezrad nego',\n 'białego stoku,',\n 'białego stoku.',\n 'biało-czer wona',\n 'biało- czerwony',\n 'biało- czerwonych.',\n 'biało -czerwonych',\n 'biało -czerwonych.',\n 'biało- czerwonymi',\n 'biało -niebieskie',\n 'biało -zieloni',\n 'białym stoku.',\n 'biały stok',\n 'biblio grafia',\n 'bieda kowi',\n 'bielska- białej',\n 'bielska -białej',\n 'bielska -białej.',\n 'bielsko- biała.',\n 'bielsku- białej.',\n 'bilans owego',\n 'bioch emicznych',\n 'biskupi nie.',\n 'bismar cka.',\n 'biznes woman',\n 'black hawks',\n 'black rock',\n 'blasza nego',\n 'błogo sławionym,',\n 'błyska wica',\n 'błyszczą cych',\n 'błysz czały',\n 'bogucka- skowrońska',\n 'bogucka- skowrońska.',\n 'brako wałoby',\n 'branż owych.',\n 'bryga diera',\n 'buczek- płachtowa',\n 'budowla nego',\n 'budow niczych',\n 'budzą cych',\n 'budżet owego',\n 'butel kach',\n 'bynajm niej',\n 'całkow icie',\n 'całko wicie,',\n 'całko wicie.',\n 'całko wity',\n 'całości owych',\n 'cechują cych',\n 'cena/ zysk',\n 'central wings',\n 'centro lewicy',\n 'centy metr',\n 'centy metry',\n 'champion ship',\n 'charaktery styka',\n 'charak terystyczną',\n 'chciała bym,',\n 'chcia łam,',\n 'chcielib yśmy',\n 'chcieli byście',\n 'chłop skiej',\n 'choci ażby',\n 'chodnik iem,',\n 'chole sterolu',\n 'choro wała,',\n 'chrono logia',\n 'chrono logicznie,',\n 'chrześcijańsko- narodowego',\n 'chrześcijańsko- narodowego,',\n 'chrześcijań ska,',\n 'chrześcijań stwa,',\n 'chrześcij anin',\n 'chrześci jańskie',\n 'chrześci jańskiej',\n 'chrześc ijańską',\n 'chrze stnymi',\n 'ciągną cego',\n 'cielę ciny,',\n 'ciemnoś ciach,',\n 'ciemno włosy',\n 'ciemno zielone',\n 'ciemno zielony',\n 'cierp liwie,',\n 'ciężarów kami',\n 'cięża rówkach',\n 'cięża rówką,',\n 'cięża rówki',\n 'coca- cola,',\n 'coca- coli,',\n 'codzien nych',\n 'codzie nnie',\n 'codzi ennym',\n 'contr ario',\n 'c:\\\\pro gram',\n 'cudzo ziemskiej,',\n 'curie -skłodowskiej',\n 'cywilno prawna',\n 'cywilno prawną',\n 'cywilno prawnej',\n 'cywilno prawnych,',\n 'czarnkowsko -trzcianeckiego',\n 'czarno- białe.',\n 'czarno -białej',\n 'czarno -biały,',\n 'czarno skóra',\n 'czarno włosy',\n 'czasowo- częstotliwościowej',\n 'czaso pismo',\n 'cząstecz kowej',\n 'cząste czek',\n 'cząste czki',\n 'czechosło wacji,',\n 'czechowicach- dziedzicach',\n 'czechowic- dziedzic',\n 'czegokol wiek.',\n 'czego kolwiek,',\n 'czego kolwiek.',\n 'czerwionce- leszczynach',\n 'czerwionka- leszczyny',\n 'czerwionka -leszczyny',\n 'często chowa',\n 'części owych',\n 'częśc iami.',\n 'częśc iowo',\n 'człon kowie',\n 'człowi eka.',\n 'czterna ście',\n 'cztero gwiazdkowy',\n 'cztero letnie',\n 'cztero miesięczne',\n 'cztero miesięczny',\n 'cztery- pięć',\n 'czwar tek,',\n 'czwora kach.',\n 'czwór kami',\n 'czymkol wiek',\n '\"czytel nika\".',\n 'ćwiczą cych',\n 'ćwierć finał',\n 'ćwierć finałach',\n 'damsko- męskich.',\n 'damsko -męskich',\n 'damsko- męskie',\n 'decydo wali',\n 'decydo wała',\n 'delikat nością,',\n 'demok ratycznej,',\n 'dener wować,',\n 'dener wuje',\n 'derdo wskiego',\n 'deter minacją',\n 'deter minuje',\n 'disco- polo',\n 'długo falowa',\n 'długo letnie',\n 'długo terminowe.',\n 'długo trwałym',\n 'długo włosy',\n 'dobro bytu',\n 'dobro dziejstwem',\n 'dobro wolny',\n 'dochodzeniowo- śledczego',\n 'dochodzeniowo -śledczego',\n 'dochodzeniowo- śledczej',\n 'dochodzeniowo -śledczej',\n 'docho dzące',\n 'docie rały',\n 'dodatk owym',\n 'dodat kiem',\n 'dojrza łych',\n 'dojrza łych,',\n 'dokony wała',\n 'dokumen tów,',\n 'dolegliwo ści.',\n 'dolegli wości.',\n 'dolno śląski',\n 'dołęgowska- wysocka',\n 'dołęgowska -wysocka',\n 'dołęgowska -wysocka:',\n 'dominika nie.',\n 'domowni ków.',\n 'dorzu ciła',\n 'dosko nale',\n 'dosta tek.',\n 'dosta wały',\n 'dostojew skiego,',\n 'dosto jewskiego,',\n 'dosto sować',\n 'dostrze żony',\n 'doswiadc zenie',\n 'doszli byśmy',\n 'dośrodko wanie',\n 'dotychczas owej',\n 'dotych czasowym',\n 'dotyczą cych',\n 'dotycz ących',\n 'dotyc zące',\n 'dowie działa',\n 'dowie dzieliśmy',\n 'dozna nych',\n 'drama tycznej',\n 'drasty czne',\n 'dream weaver',\n 'drożdżo wego',\n 'drugo rzędna.',\n 'drutex- bytovia',\n 'drzwicz kach',\n 'drzwi czek',\n 'drzwi owej',\n 'ducho wieństwa',\n 'dunin -wąsowicz',\n 'dwadzie ścia',\n 'dwana ście.',\n 'dwie- trzy',\n 'dwóch- trzech',\n 'dwudziesto letni',\n 'dwudzie stej',\n 'dydakty czny',\n 'dyplomatycz nej,',\n 'dyrygen towi',\n 'dyspo nuje',\n 'działal ność.',\n 'dział ania',\n 'dział kowe',\n 'dzieciń stwa:',\n 'dziec kiem',\n 'dzied ziny',\n 'dziej ach,',\n 'dziel nicy',\n 'dziennikar skich',\n 'dzien nika',\n 'dzien nikarze.',\n 'dzierży ńskiego,',\n 'dzier żawcą',\n 'dziewczy ną...',\n 'dziewcz ęta.',\n 'dziewią tego',\n 'dziew czyn.',\n 'dziew czyna',\n 'dziew czyną,',\n 'dziew czynka.',\n 'dziew czynkami',\n 'dziew czynką,',\n 'dziew czynom,',\n 'dźwię kiem',\n 'egzekwo wania',\n 'egzempla rzach',\n 'egzysten cjalnych',\n 'ekonomiczno- finansowej',\n 'ekonomiczno- finansowych',\n 'ekonomiczno- socjologicznego',\n 'ekonomiczno- socjologicznym',\n 'eksperymental nie.',\n 'eksper tów,',\n 'ekspe rtyz,',\n 'eksplo atacją',\n 'ekstra klasa',\n 'ekstra klasa.',\n 'ekstra klasę',\n 'ekstra liga',\n 'ekstra ligi.',\n 'elbląs kiego',\n 'elektro magnetyczne',\n 'emerytalno- rentowych',\n 'emerytalno -rentowych',\n 'emerytal nego.',\n 'emery tury',\n 'emery turze',\n 'emocjonal nym.',\n 'energe tyczny',\n 'energoosz czędnych',\n 'enerlich- kamińska',\n 'entuz jasta',\n 'etyki eta.',\n 'eukariotycz nych',\n 'europej czyka.',\n 'europ ejskiej.',\n 'ewentual nego',\n 'ewentu alnymi',\n 'ewiden cji,',\n 'fartu chów',\n 'filmo wego,',\n 'finansowo- ubezpieczeniowych',\n 'finans owych,',\n 'fizjo logiczna',\n 'fizyko chemicznych',\n 'fleet wood',\n 'forma cje.',\n 'forte pianie.',\n 'fotograf icznym.',\n 'frakc jach',\n 'franciszka nów.',\n 'francisz kanie,',\n 'francu skiego',\n 'fundamenta listów',\n 'fundamen talna',\n 'funkcjonow anie',\n 'funkcjono wała',\n 'funkcjono wało',\n 'funkcj onariusze',\n 'funkc jonariuszy.',\n 'futer kiem',\n 'garmisch -partenkirchen',\n 'garnitu rach',\n 'gatun kowej',\n '@gazeta. wroc.pl',\n 'gazeta. wroc.pl',\n 'gdańsk ich.',\n 'gdańs kich',\n 'gdzie niegdzie,',\n 'geologicz nych',\n 'geologicz nych.',\n 'gimnastycz nej.',\n 'ginekologiczno- położniczego',\n 'ginekologiczno -położniczego',\n 'glikopro tein',\n 'gładko lufowej.',\n 'głębok iego',\n 'głębo kich',\n 'główno dowodzący',\n 'głucho niemych,',\n 'golań ski.',\n 'golubiu- dobrzyniu',\n 'gospodar czych',\n 'gospodar czymi',\n 'gospoda rstwa',\n 'górniczo- hutniczej',\n 'górniczo- hutniczej,',\n 'grana towy',\n 'grawitacyj nego',\n 'grawita cji.',\n 'green house',\n 'green peace',\n 'gronkiewicz- waltz',\n 'gronkiewicz -waltz.',\n 'grota- roweckiego',\n 'grota- roweckiego.',\n 'grota -roweckiego.',\n 'handlo wali',\n 'hewlett- packard',\n 'hiper marketów.',\n 'histo rii,',\n 'histo rycy,',\n 'histo ryczną',\n 'hiszpa nią,',\n 'hitler jugend,',\n 'hitler jugend.',\n 'hitler owskiego',\n 'hitle rowskie',\n 'homol ogacji',\n 'homosek sualny',\n 'honoro wej.',\n 'honor owym',\n 'http://wydawnictwo wam.pl',\n 'hudders field',\n 'humanita ryzmu',\n 'huzarska- szumiec',\n 'hydro forni',\n 'identyfi kację',\n 'identyfi kacji',\n 'identyfi kacyjny',\n '„ikata- gazety',\n 'ilości owych',\n 'imieni nach',\n 'imitu jącą',\n 'indyw idualne',\n 'informa cją,',\n 'inform acje',\n 'inform uje,',\n 'infor macyjnego.',\n 'infor muję,',\n 'infrastru ktury',\n 'inicj acje',\n 'innowa cyjnego',\n 'innym i...',\n 'instala cji,',\n 'insta lacji',\n 'instyt ucjami.',\n 'instyt ucje',\n 'insty tucji',\n 'intensyfi kuje',\n 'inten sywnie',\n 'intereso wało.',\n 'interne towa',\n 'interpre tacji',\n 'interwencyjn ych.',\n 'inter credit',\n 'inter esami',\n 'inter necie',\n 'inter operacyjności',\n 'inter pretacji',\n 'irracjo nalne,',\n 'istnie jące',\n 'istni ejącego',\n 'istni enia',\n 'jakości owej',\n 'jaskra wych',\n 'jasno włosy',\n 'jasno zielony',\n 'jaworz nickiej',\n 'jądro wych,',\n 'jean- marie',\n 'jednak owe,',\n 'jedna k...',\n 'jedno bramkową',\n 'jedno czesne',\n 'jedno cześnie',\n 'jedno głośne',\n 'jedno nawowy',\n 'jedno osobowe',\n 'jedno razowe',\n 'jedno rodzinne',\n 'jedno rodzonego',\n 'jedno stronne',\n 'jedno znacznej',\n 'jedze nia,',\n 'jedze nia.',\n 'jelczu- laskowicach.',\n 'język owej',\n 'język owych',\n 'józef ,więzień',\n 'jugosłowiań skie',\n 'kafel kami',\n 'kalifo rnijskiej',\n 'kamela -sowińska',\n 'kamien nego.',\n 'kamie nic,',\n 'kamie nic.',\n 'kamie niem',\n 'kamizel kach',\n 'kapita łem,',\n 'karmi nowe',\n 'karto fle.',\n 'kaszubsko- pomorskiego,',\n 'kaszubsko- pomorskiego.',\n 'katoli kami',\n 'katowi cach,',\n 'katowi cach.',\n 'katowi ckich',\n 'kawał kiem',\n 'kawiar niach.',\n 'kawiar nie,',\n 'kazim iera',\n 'kędzierzynie- koźlu',\n 'kędzierzynie -koźlu',\n 'kędzierzyn- koźle',\n 'kiedy kolwiek?',\n 'kieli szek.',\n 'kiero wnica',\n 'kieruj ącego',\n 'kierun kach,',\n 'kieszon kowe.',\n 'kilka- kilkanaście',\n 'kilka krotnie',\n 'kilkudziesięcio osobowa',\n 'kilkudziesi ęciu',\n 'kilkuset osobowa',\n 'kilkuset osobową',\n 'kilku dniowym',\n 'kilku godzinne',\n 'kilku godzinnym',\n 'kilku letnią',\n 'kilku letniego',\n 'kilku miesięczną',\n 'kilku miesięcznych',\n 'kilku osobową',\n 'kilku osobowych',\n 'kilku procentowy',\n 'kilku tygodniowym',\n 'kilku tysięczne',\n 'kilogra mami',\n 'kilome trów',\n 'klasycy styczny,',\n 'klasycy stycznych',\n 'klien tek,',\n 'kluzik- rostkowska',\n 'know- how,',\n 'know- how.',\n 'kobie cości.',\n 'kochająca inaczej',\n 'kocha cie,',\n 'kodowa nych',\n 'kolej owej',\n 'kolor owego',\n 'komento wała',\n 'komen danta,',\n 'komen tatorów',\n 'komórko wej,',\n 'komór kowych,',\n 'komple mentował',\n 'kompute rem.',\n 'kompute rowa,',\n 'komunikacyj nych',\n 'koncerto wały',\n 'koncert ach,',\n 'konce ntracji',\n 'konflikt owych',\n 'konfl ikt,',\n 'konfl iktu',\n 'konie czna,',\n 'konkur encja',\n 'konku rencji.',\n 'konsek wencji',\n 'konsek wentnego',\n 'konser watystów',\n 'konstanty nowa.',\n 'konstruk cji,',\n 'konst antyna',\n 'kontekst owych',\n 'konte nery',\n 'kontro lowaną',\n 'kontr olowanych',\n 'końco wych',\n 'kopen hadze.',\n 'koper nika,',\n 'koreań czycy,',\n 'korespo ndencji.',\n 'koronko wych',\n 'koryta rzu,',\n 'korze nie,',\n 'korzy stając',\n 'koszar owego',\n 'koszma rem,',\n 'koszy kówki',\n 'kościel nego.',\n 'kościel nych',\n 'kości erzyna',\n 'kowals kiego.',\n 'kradzio nych',\n 'krajo brazu',\n 'krakowa- śródmieścia',\n 'krakowsko-częs tochowskiej.',\n 'krawa tach.',\n 'kremato rium,',\n 'kręgo słup.',\n 'kręgo wców,',\n 'królew skim,',\n 'króle stwa,',\n 'krótko trwała.',\n 'krótko trwałe,',\n 'krótko trwały.',\n 'kruczo czarne',\n 'krupska -tyszkiewicz',\n 'krysz tałowo',\n 'krysz tałowy',\n 'krysz tałowych',\n 'krysz tałów',\n 'krzykną łem.',\n 'krzyk nęła,',\n 'krzyk nęła.',\n 'krzyż owe.',\n 'krzyż owej',\n 'książ kach',\n 'książ kami.',\n 'księgo wości.',\n 'kszta łtowały',\n 'która kolwiek',\n 'który kolwiek',\n 'kujawsko -pomorskie.',\n 'kujawsko- pomorskiego,',\n 'kujawsko -pomorskiego',\n 'kujawsko- pomorskim',\n 'kujawsko- pomorskim,',\n 'kulis tych',\n 'kupna- sprzedaży',\n ...]"
     },
     "execution_count": 76,
     "metadata": {},
     "output_type": "execute_result"
    }
   ],
   "source": [
    "errors_3"
   ],
   "metadata": {
    "collapsed": false,
    "pycharm": {
     "name": "#%%\n"
    }
   }
  }
 ],
 "metadata": {
  "kernelspec": {
   "display_name": "Python 3",
   "language": "python",
   "name": "python3"
  },
  "language_info": {
   "codemirror_mode": {
    "name": "ipython",
    "version": 2
   },
   "file_extension": ".py",
   "mimetype": "text/x-python",
   "name": "python",
   "nbconvert_exporter": "python",
   "pygments_lexer": "ipython2",
   "version": "2.7.6"
  }
 },
 "nbformat": 4,
 "nbformat_minor": 0
}