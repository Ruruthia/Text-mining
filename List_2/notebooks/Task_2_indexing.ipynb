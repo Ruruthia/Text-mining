{
 "cells": [
  {
   "cell_type": "code",
   "execution_count": 1,
   "outputs": [],
   "source": [
    "import gc\n",
    "from collections import defaultdict\n",
    "\n",
    "import morfeusz2\n",
    "from tqdm.auto import tqdm"
   ],
   "metadata": {
    "collapsed": false,
    "pycharm": {
     "name": "#%%\n"
    }
   }
  },
  {
   "cell_type": "code",
   "execution_count": 2,
   "outputs": [],
   "source": [
    "def read_text(lines):\n",
    "    content = []\n",
    "    from_title = 0\n",
    "    contents = []\n",
    "    titles = []\n",
    "    for line in tqdm(lines):\n",
    "        if \"TITLE:\" in line:\n",
    "            from_title = 0\n",
    "            title = line[7:].strip()\n",
    "            titles.append([title])\n",
    "            if len(content) > 0:\n",
    "                contents.append(content)\n",
    "            content = []\n",
    "        elif len(line.strip()) > 0:\n",
    "            content.append(line.strip())\n",
    "        from_title += 1\n",
    "    if len(content) > 0:\n",
    "        contents.append(content)\n",
    "    return contents, titles"
   ],
   "metadata": {
    "collapsed": false,
    "pycharm": {
     "name": "#%%\n"
    }
   }
  },
  {
   "cell_type": "code",
   "execution_count": 3,
   "outputs": [],
   "source": [
    "def index_documents(texts):\n",
    "    processed_texts = []\n",
    "    for text in tqdm(texts):\n",
    "        text = \" \".join(text)\n",
    "        processed_texts.append(text)\n",
    "    return processed_texts"
   ],
   "metadata": {
    "collapsed": false,
    "pycharm": {
     "name": "#%%\n"
    }
   }
  },
  {
   "cell_type": "code",
   "execution_count": 15,
   "outputs": [],
   "source": [
    "def process_texts(texts):\n",
    "    processed_texts = []\n",
    "    for text in tqdm(texts):\n",
    "        text = [w.strip().split() for w in text]\n",
    "        text = sum(text, [])\n",
    "        text = [w.lower() for w in text if w.isalpha()]\n",
    "        processed_texts.append(set(text))\n",
    "    return processed_texts"
   ],
   "metadata": {
    "collapsed": false,
    "pycharm": {
     "name": "#%%\n"
    }
   }
  },
  {
   "cell_type": "code",
   "execution_count": 16,
   "outputs": [],
   "source": [
    "def lematize_text(text, morph):\n",
    "    text = \" \".join(list(text))\n",
    "    lematized_text = []\n",
    "    analysis = morph.analyse(text)\n",
    "    for i, j, interp in analysis:\n",
    "        lematized_text.append(interp[1].partition(\":\")[0])\n",
    "    return list(set(lematized_text))"
   ],
   "metadata": {
    "collapsed": false,
    "pycharm": {
     "name": "#%%\n"
    }
   }
  },
  {
   "cell_type": "code",
   "execution_count": 17,
   "outputs": [],
   "source": [
    "def lematize_texts(texts, morph):\n",
    "    stemmed_texts = []\n",
    "    for text in tqdm(texts):\n",
    "        stemmed_texts.append(lematize_text(text, morph))\n",
    "    return stemmed_texts"
   ],
   "metadata": {
    "collapsed": false,
    "pycharm": {
     "name": "#%%\n"
    }
   }
  },
  {
   "cell_type": "code",
   "execution_count": 18,
   "outputs": [],
   "source": [
    "def prepare_postinglists(texts):\n",
    "    postinglists = defaultdict(list)\n",
    "    for i in tqdm(range(len(texts))):\n",
    "        text = texts[i]\n",
    "        for word in text:\n",
    "            postinglists[word].append(str(i))\n",
    "    return postinglists"
   ],
   "metadata": {
    "collapsed": false,
    "pycharm": {
     "name": "#%%\n"
    }
   }
  },
  {
   "cell_type": "code",
   "execution_count": 4,
   "outputs": [],
   "source": [
    "with open(\"../data/fp_wiki.txt\", \"r\") as f:\n",
    "    lines = f.readlines()"
   ],
   "metadata": {
    "collapsed": false,
    "pycharm": {
     "name": "#%%\n"
    }
   }
  },
  {
   "cell_type": "code",
   "execution_count": 5,
   "outputs": [
    {
     "data": {
      "text/plain": "  0%|          | 0/6074907 [00:00<?, ?it/s]",
      "application/vnd.jupyter.widget-view+json": {
       "version_major": 2,
       "version_minor": 0,
       "model_id": "5712694145cc41b98d3366cd85ab6bb2"
      }
     },
     "metadata": {},
     "output_type": "display_data"
    }
   ],
   "source": [
    "contents, titles = read_text(lines)"
   ],
   "metadata": {
    "collapsed": false,
    "pycharm": {
     "name": "#%%\n"
    }
   }
  },
  {
   "cell_type": "code",
   "execution_count": 9,
   "outputs": [
    {
     "data": {
      "text/plain": "  0%|          | 0/1208362 [00:00<?, ?it/s]",
      "application/vnd.jupyter.widget-view+json": {
       "version_major": 2,
       "version_minor": 0,
       "model_id": "9be79e2412e14fdc80a80c407a39933f"
      }
     },
     "metadata": {},
     "output_type": "display_data"
    },
    {
     "data": {
      "text/plain": "  0%|          | 0/1208362 [00:00<?, ?it/s]",
      "application/vnd.jupyter.widget-view+json": {
       "version_major": 2,
       "version_minor": 0,
       "model_id": "492c3d33606c4230b371ca12e62174b2"
      }
     },
     "metadata": {},
     "output_type": "display_data"
    }
   ],
   "source": [
    "processed_contents, processed_titles = process_texts(contents), process_texts(titles)"
   ],
   "metadata": {
    "collapsed": false,
    "pycharm": {
     "name": "#%%\n"
    }
   }
  },
  {
   "cell_type": "code",
   "execution_count": 10,
   "outputs": [
    {
     "data": {
      "text/plain": "  0%|          | 0/1208362 [00:00<?, ?it/s]",
      "application/vnd.jupyter.widget-view+json": {
       "version_major": 2,
       "version_minor": 0,
       "model_id": "4fa3b5ff314940e9a1260d009536c373"
      }
     },
     "metadata": {},
     "output_type": "display_data"
    }
   ],
   "source": [
    "contents_exact_postinglists = prepare_postinglists(processed_contents)\n",
    "with open('../outputs/contents_exact_postinglists.txt', 'w') as f:\n",
    "    for k, v in contents_exact_postinglists.items():\n",
    "        if len(v) < 1000:\n",
    "            f.write(f'{k}: {\", \".join(v)} \\n')"
   ],
   "metadata": {
    "collapsed": false,
    "pycharm": {
     "name": "#%%\n"
    }
   }
  },
  {
   "cell_type": "code",
   "execution_count": null,
   "outputs": [],
   "source": [
    "titles_exact_postinglists = prepare_postinglists(processed_titles)\n",
    "with open('../outputs/titles_exact_postinglists.txt', 'w') as f:\n",
    "    for k, v in titles_exact_postinglists.items():\n",
    "        counts_in_contents = contents_exact_postinglists.get(k)\n",
    "        if counts_in_contents is None or len(counts_in_contents) < 1000:\n",
    "            f.write(f'{k}: {\", \".join(v)} \\n')"
   ],
   "metadata": {
    "collapsed": false,
    "pycharm": {
     "name": "#%%\n"
    }
   }
  },
  {
   "cell_type": "code",
   "execution_count": 12,
   "outputs": [],
   "source": [
    "morph = morfeusz2.Morfeusz()"
   ],
   "metadata": {
    "collapsed": false,
    "pycharm": {
     "name": "#%%\n"
    }
   }
  },
  {
   "cell_type": "code",
   "execution_count": 13,
   "outputs": [
    {
     "data": {
      "text/plain": "  0%|          | 0/1208362 [00:00<?, ?it/s]",
      "application/vnd.jupyter.widget-view+json": {
       "version_major": 2,
       "version_minor": 0,
       "model_id": "39e042c0b86a47febd7183cb5fa9bb07"
      }
     },
     "metadata": {},
     "output_type": "display_data"
    }
   ],
   "source": [
    "lematized_contents = lematize_texts(processed_contents, morph)"
   ],
   "metadata": {
    "collapsed": false,
    "pycharm": {
     "name": "#%%\n"
    }
   }
  },
  {
   "cell_type": "code",
   "execution_count": 16,
   "outputs": [
    {
     "data": {
      "text/plain": "  0%|          | 0/1208362 [00:00<?, ?it/s]",
      "application/vnd.jupyter.widget-view+json": {
       "version_major": 2,
       "version_minor": 0,
       "model_id": "cf4e5bf53e7f4e179d0b891a73b4968a"
      }
     },
     "metadata": {},
     "output_type": "display_data"
    }
   ],
   "source": [
    "contents_lematized_postinglists = prepare_postinglists(lematized_contents)\n",
    "with open('../outputs/contents_lematized_postinglists.txt', 'w') as f:\n",
    "    for k, v in contents_lematized_postinglists.items():\n",
    "        if len(v) < 1000:\n",
    "            f.write(f'{k}: {\", \".join(v)} \\n')"
   ],
   "metadata": {
    "collapsed": false,
    "pycharm": {
     "name": "#%%\n"
    }
   }
  },
  {
   "cell_type": "code",
   "execution_count": 22,
   "outputs": [
    {
     "data": {
      "text/plain": "  0%|          | 0/1208362 [00:00<?, ?it/s]",
      "application/vnd.jupyter.widget-view+json": {
       "version_major": 2,
       "version_minor": 0,
       "model_id": "0ea7e9cd146f4ad3bc1a1c0706e3f229"
      }
     },
     "metadata": {},
     "output_type": "display_data"
    }
   ],
   "source": [
    "lematized_titles = lematize_texts(processed_titles, morph)"
   ],
   "metadata": {
    "collapsed": false,
    "pycharm": {
     "name": "#%%\n"
    }
   }
  },
  {
   "cell_type": "code",
   "execution_count": 25,
   "outputs": [
    {
     "data": {
      "text/plain": "  0%|          | 0/1208362 [00:00<?, ?it/s]",
      "application/vnd.jupyter.widget-view+json": {
       "version_major": 2,
       "version_minor": 0,
       "model_id": "b302754b6b63441789570bb186ff47f4"
      }
     },
     "metadata": {},
     "output_type": "display_data"
    }
   ],
   "source": [
    "titles_lematized_postinglists = prepare_postinglists(lematized_titles)\n",
    "with open('../outputs/titles_lematized_postinglists.txt', 'w') as f:\n",
    "    for k, v in titles_lematized_postinglists.items():\n",
    "        counts_in_contents = contents_lematized_postinglists.get(k)\n",
    "        if counts_in_contents is None or len(counts_in_contents) < 1000:\n",
    "            f.write(f'{k}: {\", \".join(v)} \\n')"
   ],
   "metadata": {
    "collapsed": false,
    "pycharm": {
     "name": "#%%\n"
    }
   }
  },
  {
   "cell_type": "code",
   "execution_count": null,
   "outputs": [],
   "source": [],
   "metadata": {
    "collapsed": false,
    "pycharm": {
     "name": "#%%\n"
    }
   }
  }
 ],
 "metadata": {
  "kernelspec": {
   "display_name": "Python 3",
   "language": "python",
   "name": "python3"
  },
  "language_info": {
   "codemirror_mode": {
    "name": "ipython",
    "version": 2
   },
   "file_extension": ".py",
   "mimetype": "text/x-python",
   "name": "python",
   "nbconvert_exporter": "python",
   "pygments_lexer": "ipython2",
   "version": "2.7.6"
  }
 },
 "nbformat": 4,
 "nbformat_minor": 0
}