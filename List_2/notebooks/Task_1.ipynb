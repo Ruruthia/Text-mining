{
 "cells": [
  {
   "cell_type": "code",
   "execution_count": 2,
   "outputs": [],
   "source": [
    "import re\n",
    "import html\n",
    "import morfeusz2\n",
    "\n",
    "import numpy as np\n",
    "\n",
    "from tqdm.auto import tqdm\n",
    "from time import sleep"
   ],
   "metadata": {
    "collapsed": false,
    "pycharm": {
     "name": "#%%\n"
    }
   }
  },
  {
   "cell_type": "code",
   "execution_count": 2,
   "outputs": [],
   "source": [
    "with open(\"../data/cytaty.txt\", \"r\") as f:\n",
    "    text = f.read()"
   ],
   "metadata": {
    "collapsed": false,
    "pycharm": {
     "name": "#%%\n"
    }
   }
  },
  {
   "cell_type": "code",
   "execution_count": 3,
   "outputs": [],
   "source": [
    "def preprocess_quotes(quotes, size = 100000):\n",
    "    quotes = re.split('[*.!?]', quotes)\n",
    "    quotes = [html.unescape(sentence.strip()) for sentence in quotes]\n",
    "    quotes = [sentence for sentence in quotes if len(sentence) > 12]\n",
    "    return np.array(quotes)[:size]"
   ],
   "metadata": {
    "collapsed": false,
    "pycharm": {
     "name": "#%%\n"
    }
   }
  },
  {
   "cell_type": "code",
   "execution_count": 4,
   "outputs": [],
   "source": [
    "def lematize_quote(quote, morph):\n",
    "        analysis = morph.analyse(quote)\n",
    "        current_idx = 0\n",
    "        current_stemmed_quote = []\n",
    "        for i, j, interp in analysis:\n",
    "            if i == current_idx:\n",
    "                current_stemmed_quote.append(interp[1].partition(\":\")[0])\n",
    "                current_idx += 1\n",
    "        current_stemmed_quote = [word for word in current_stemmed_quote if word.isalpha()]\n",
    "        current_stemmed_quote = [word for word in current_stemmed_quote if len(word) > 3]\n",
    "        return set(current_stemmed_quote)"
   ],
   "metadata": {
    "collapsed": false,
    "pycharm": {
     "name": "#%%\n"
    }
   }
  },
  {
   "cell_type": "code",
   "execution_count": 5,
   "outputs": [],
   "source": [
    "def lematize_quotes(quotes, morph):\n",
    "    stemmed_quotes = []\n",
    "    for quote in tqdm(quotes):\n",
    "        stemmed_quotes.append(lematize_quote(quote, morph))\n",
    "    # unique_stemmed_quotes, unique_idx = np.unique(stemmed_quotes, return_index=True)\n",
    "    # return unique_stemmed_quotes, quotes[unique_idx]\n",
    "    return stemmed_quotes"
   ],
   "metadata": {
    "collapsed": false,
    "pycharm": {
     "name": "#%%\n"
    }
   }
  },
  {
   "cell_type": "code",
   "execution_count": 6,
   "outputs": [],
   "source": [
    "def score_quotes(quotes, target):\n",
    "    scores = []\n",
    "    for quote in quotes:\n",
    "        score = (len(quote & target))/(0.2*len(quote) + len(target))\n",
    "        scores.append(score)\n",
    "    return np.array(scores)"
   ],
   "metadata": {
    "collapsed": false,
    "pycharm": {
     "name": "#%%\n"
    }
   }
  },
  {
   "cell_type": "code",
   "execution_count": 7,
   "outputs": [],
   "source": [
    "def prepare_response(scores, quotes, randomize=True):\n",
    "    idx = scores.argsort()[-10:]\n",
    "    top10 = quotes[idx]\n",
    "    top10_scores = scores[idx]**2\n",
    "    top10_scores = top10_scores/top10_scores.sum()\n",
    "    if top10_scores[-1] < 0.1:\n",
    "        return \"Postępuj tak, abyś długo żył i dobrze ci się powodziło.\"\n",
    "    if not randomize:\n",
    "        choice = 9\n",
    "    else:\n",
    "        choice = np.random.choice(range(10), 1, p=top10_scores)[0]\n",
    "    return top10[choice], idx[choice]"
   ],
   "metadata": {
    "collapsed": false,
    "pycharm": {
     "name": "#%%\n"
    }
   }
  },
  {
   "cell_type": "code",
   "execution_count": 3,
   "outputs": [],
   "source": [
    "morph = morfeusz2.Morfeusz()"
   ],
   "metadata": {
    "collapsed": false,
    "pycharm": {
     "name": "#%%\n"
    }
   }
  },
  {
   "cell_type": "code",
   "execution_count": 8,
   "outputs": [
    {
     "data": {
      "text/plain": "  0%|          | 0/100000 [00:00<?, ?it/s]",
      "application/vnd.jupyter.widget-view+json": {
       "version_major": 2,
       "version_minor": 0,
       "model_id": "4b10b90fd2a24a3bb2182dcb8268a0fc"
      }
     },
     "metadata": {},
     "output_type": "display_data"
    },
    {
     "name": "stderr",
     "output_type": "stream",
     "text": [
      "replacing invalid utf8 sequence with replacement character\n",
      "replacing invalid utf8 sequence with replacement character\n",
      "replacing invalid utf8 sequence with replacement character\n"
     ]
    }
   ],
   "source": [
    "quotes = preprocess_quotes(text)\n",
    "lematized_quotes = lematize_quotes(quotes, morph)"
   ],
   "metadata": {
    "collapsed": false,
    "pycharm": {
     "name": "#%%\n"
    }
   }
  },
  {
   "cell_type": "code",
   "execution_count": 9,
   "outputs": [
    {
     "name": "stdout",
     "output_type": "stream",
     "text": [
      "JA: Byłem wczoraj w kinie.\n",
      "MCR: Inaczej jest w kinie\n",
      "JA: ale formę europejską mają nasi sportowcy!\n",
      "MCR: Te hurysy anielskie mają dusze, to te właśnie Byron kochał po europejsku\n",
      "JA: ostatnie lata w historii polski były raczej udane\n",
      "MCR: Także polscy inteligenci w większości mają w swej historii rodzinnej gwałtowny awans społeczny zazwyczaj w pierwszych latach PRL\n",
      "JA: czytałem wesele Wyspiańskiego, ale wolę wesele Smarzowskiego\n",
      "MCR: Czytam Czechowa\n",
      "JA: czyli się zgadzamy\n",
      "MCR: <br />'''Haruka:''' Zgadza się\n",
      "JA: jesteś pesymistą\n",
      "MCR: Czasem mamy pesymistów, którzy nam mówią: „Żegnamy dziś ostatniego prawdziwego Polaka”\n",
      "JA: a czym dla ciebie jest szczęście?\n",
      "MCR: Co to jest szczęście\n",
      "JA: czyli wracamy do sportu. jaki sport uprawiasz?\n",
      "MCR: Byłem świadkiem zdzierstwa, jakie uprawiano po parafiach\n",
      "JA: przecież w ten sposób niszczysz swoje życie!\n",
      "MCR: Ochroni się jedno życie, a potem trzeba reszt swego strawić na walce, by to uratowane nie niszczyło życia innych\n",
      "JA: a siebie samego rozumiesz?\n",
      "MCR: <br />'''Kosmita II:''' Nie rozumiem\n",
      "JA: Koniec\n",
      "MCR: Cześć!\n"
     ]
    }
   ],
   "source": [
    "prompts = []\n",
    "while True:\n",
    "    current_prompt = input(\"JA: \")\n",
    "    print(f\"JA: {current_prompt}\")\n",
    "    if current_prompt == \"Koniec\":\n",
    "        print(\"MCR: Cześć!\")\n",
    "        break\n",
    "    prompts.append(current_prompt)\n",
    "    lematized_current_prompt = lematize_quote(current_prompt, morph)\n",
    "    scores = score_quotes(lematized_quotes, lematized_current_prompt)\n",
    "    response, idx = prepare_response(scores, quotes)\n",
    "    print(f\"MCR: {response}\")\n",
    "    np.delete(lematized_quotes, idx)\n",
    "    np.delete(quotes, idx)\n",
    "    sleep(1)"
   ],
   "metadata": {
    "collapsed": false,
    "pycharm": {
     "name": "#%%\n"
    }
   }
  }
 ],
 "metadata": {
  "kernelspec": {
   "display_name": "Python 3",
   "language": "python",
   "name": "python3"
  },
  "language_info": {
   "codemirror_mode": {
    "name": "ipython",
    "version": 2
   },
   "file_extension": ".py",
   "mimetype": "text/x-python",
   "name": "python",
   "nbconvert_exporter": "python",
   "pygments_lexer": "ipython2",
   "version": "2.7.6"
  }
 },
 "nbformat": 4,
 "nbformat_minor": 0
}