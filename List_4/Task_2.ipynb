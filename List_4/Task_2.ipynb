{
 "cells": [
  {
   "cell_type": "code",
   "execution_count": 1,
   "outputs": [],
   "source": [
    "import re\n",
    "from collections import defaultdict\n",
    "\n",
    "import morfeusz2 as morfeusz2\n",
    "import numpy as np\n",
    "from tqdm import tqdm\n",
    "from utils import score_documents, prepare_question, scaled_editdist\n",
    "from itertools import product"
   ],
   "metadata": {
    "collapsed": false,
    "pycharm": {
     "name": "#%%\n"
    }
   }
  },
  {
   "cell_type": "code",
   "execution_count": 2,
   "outputs": [],
   "source": [
    "with open(\"../List_2/outputs/indexed_contents.txt\", \"r\") as f:\n",
    "    content_lines = f.readlines()\n",
    "\n",
    "with open(\"../List_2/outputs/indexed_titles.txt\", \"r\") as f:\n",
    "    titles_lines = f.readlines()\n",
    "\n",
    "morph = morfeusz2.Morfeusz()"
   ],
   "metadata": {
    "collapsed": false,
    "pycharm": {
     "name": "#%%\n"
    }
   }
  },
  {
   "cell_type": "code",
   "execution_count": 3,
   "outputs": [],
   "source": [
    "def get_definition_from_wiki(content):\n",
    "    i = 1\n",
    "    sents = re.split(r'(?<=[^A-Z].[.?]) +(?=[A-Z])', content)\n",
    "    definition = str(sents[0])\n",
    "    while len(definition) < 20 and len(sents) > i + 1:\n",
    "        i+=1\n",
    "        definition += str(sents[i])\n",
    "\n",
    "    return definition\n",
    "\n",
    "def get_definition_from_question(question):\n",
    "    definition = []\n",
    "    beginnings = [\"Co oznacza\", \"Co po polsku oznacza\", \"Jak miał na imię\", \"Jak miała na imię\", \"Jak nazywa się\", \"Jak w\", \"Jak z\", \"Jak brzmi\"]\n",
    "    for beginning in beginnings:\n",
    "        l = len(beginning)\n",
    "        if question[:l] == beginning:\n",
    "            definition = question[l:]\n",
    "            break\n",
    "    if len(definition) > 0:\n",
    "        definition = definition.split()\n",
    "        definition = [w for w in definition if not (\"oznacza\" in w or \"nazywa\" in w)]\n",
    "        definition = \" \".join(definition)\n",
    "        definition = definition[:-1]\n",
    "    return definition\n",
    "\n",
    "def preprocess_definition(definition, only_first = True):\n",
    "    if len(definition) == 0:\n",
    "        return set()\n",
    "    definition = definition.strip().split()\n",
    "    definition = [w for w in definition if w.isalpha() and len(w) > 2]\n",
    "    current_idx = 0\n",
    "    current_def = []\n",
    "    analysis = morph.analyse(\" \".join(definition))\n",
    "    if only_first:\n",
    "        for i, j, interp in analysis:\n",
    "            if i == current_idx:\n",
    "                current_def.append(interp[1].partition(\":\")[0])\n",
    "                current_idx += 1\n",
    "    else:\n",
    "        for i, j, interp in analysis:\n",
    "            current_def.append(interp[1].partition(\":\")[0])\n",
    "    return \" \".join(definition), set(current_def)\n",
    "\n",
    "def prepare_rare_words(prepared_definitions, min, max):\n",
    "    word_freq = defaultdict(int)\n",
    "    for definition in tqdm(prepared_definitions):\n",
    "        for word in definition[1]:\n",
    "            word_freq[word] +=1\n",
    "    rare_words = set([k for k, v in word_freq.items() if min < v < max])\n",
    "    rare_words_freq = {k:v for k, v in word_freq.items() if min < v < max}\n",
    "    return rare_words, rare_words_freq\n",
    "\n",
    "def filter_definitions(definitions, titles, definition_features):\n",
    "    filtered_definitions, filtered_titles, filtered_definition_features = [], [], []\n",
    "    for i, features in enumerate(definition_features):\n",
    "        if len(features) > 0:\n",
    "            filtered_definitions.append(definitions[i])\n",
    "            filtered_titles.append(titles[i])\n",
    "            filtered_definition_features.append(features)\n",
    "    return filtered_definitions, filtered_titles, filtered_definition_features\n",
    "\n",
    "def find_similar_definitions(definition, titles, definitions, definition_features, return_titles=False):\n",
    "    max_match = 0\n",
    "    best_definitions_idx = []\n",
    "    definition = preprocess_definition(definition, only_first=False)[1]\n",
    "    for i, features in enumerate(definition_features):\n",
    "        match = len(definition & features)\n",
    "        if match == max_match:\n",
    "            best_definitions_idx.append(i)\n",
    "        if match > max_match:\n",
    "            best_definitions_idx = [i]\n",
    "            max_match = match\n",
    "    if return_titles:\n",
    "        return [titles[i] for i in best_definitions_idx]\n",
    "    else:\n",
    "        return [definitions[i][0] for i in best_definitions_idx]\n",
    "\n",
    "def answer(definition, titles, definition_features, rare_words_freq):\n",
    "\n",
    "    definition = preprocess_definition(definition, only_first=False)[1]\n",
    "    max_score = 0\n",
    "    best_definitions_idx = []\n",
    "    for i, features in enumerate(definition_features):\n",
    "        match = definition & features\n",
    "        score = len(match)\n",
    "        if score == max_score:\n",
    "            best_definitions_idx.append((i, match))\n",
    "        if score > max_score:\n",
    "            best_definitions_idx = [(i, match)]\n",
    "            max_score = score\n",
    "    min_score = np.inf\n",
    "    best_idx = 0\n",
    "    for candidate_idx, candidate_match in best_definitions_idx:\n",
    "        score = 0\n",
    "        for word in candidate_match:\n",
    "            score += rare_words_freq[word]\n",
    "        if score < min_score:\n",
    "            min_score = score\n",
    "            best_idx = candidate_idx\n",
    "    return titles_lines[titles[best_idx]]"
   ],
   "metadata": {
    "collapsed": false,
    "pycharm": {
     "name": "#%%\n"
    }
   }
  },
  {
   "cell_type": "code",
   "execution_count": 4,
   "outputs": [],
   "source": [
    "def answer_mod(question, weights, threshold, titles, definitions, definition_features):\n",
    "    yes_or_no = question.split()[0] == \"Czy\"\n",
    "    definition = get_definition_from_question(question)\n",
    "    if len(definition) > 0:\n",
    "        candidates = find_similar_definitions(definition, titles, definitions, definition_features, return_titles=True)\n",
    "    else:\n",
    "        candidates = []\n",
    "    _, question = prepare_question(question, morph)\n",
    "    question = [token.lower() for token in question if len(token) > 1]\n",
    "    while question:\n",
    "        query = ' '.join(q for q in question)\n",
    "        results = score_documents(query, weights, morph, candidates)\n",
    "        search_results = list(results.keys())[:10]\n",
    "        print(search_results)\n",
    "        search_scores = list(results.values())[:10]\n",
    "        search_results = zip(search_results, search_scores)\n",
    "        for result, score in search_results:\n",
    "            if yes_or_no:\n",
    "                print(score / len(question))\n",
    "                if score / len(question) < threshold:\n",
    "                    return \"nie\"\n",
    "                else:\n",
    "                    return \"tak\"\n",
    "            title = titles_lines[result]\n",
    "            print(title)\n",
    "            _, res_tokens = prepare_question(title, morph)\n",
    "            to_remove = False\n",
    "            # for t1, t2 in product(res_tokens, question):\n",
    "            #     if scaled_editdist(t1, t2) <= 0.4:\n",
    "            #         to_remove = True\n",
    "            # if not to_remove:\n",
    "            paren_index = title.find('(')\n",
    "            if paren_index != -1:\n",
    "                title = title[:paren_index]\n",
    "            return title\n",
    "\n",
    "        # if answer not found, remove first token of query\n",
    "        del question[0]\n",
    "\n",
    "    return 'nie mam pojęcia, sorry \\n'"
   ],
   "metadata": {
    "collapsed": false,
    "pycharm": {
     "name": "#%%\n"
    }
   }
  },
  {
   "cell_type": "code",
   "execution_count": 5,
   "outputs": [
    {
     "name": "stderr",
     "output_type": "stream",
     "text": [
      "100%|██████████| 1208362/1208362 [03:58<00:00, 5057.60it/s]\n"
     ]
    }
   ],
   "source": [
    "prepared_definitions = []\n",
    "prepared_titles = []\n",
    "for i in tqdm(range(len(content_lines))):\n",
    "    current_def = preprocess_definition(get_definition_from_wiki(content_lines[i]))\n",
    "    if len(current_def[1]) > 3:\n",
    "        prepared_definitions.append(current_def)\n",
    "        prepared_titles.append(i)"
   ],
   "metadata": {
    "collapsed": false,
    "pycharm": {
     "name": "#%%\n"
    }
   }
  },
  {
   "cell_type": "code",
   "execution_count": 6,
   "outputs": [
    {
     "name": "stderr",
     "output_type": "stream",
     "text": [
      "100%|██████████| 1116454/1116454 [00:02<00:00, 405279.48it/s]\n",
      "100%|██████████| 1116454/1116454 [00:05<00:00, 220529.63it/s]\n"
     ]
    }
   ],
   "source": [
    "rare_words, rare_words_freq = prepare_rare_words(prepared_definitions, 0, 1000)\n",
    "definition_features = []\n",
    "for definition in tqdm(prepared_definitions):\n",
    "    definition_features.append(rare_words & definition[1])"
   ],
   "metadata": {
    "collapsed": false,
    "pycharm": {
     "name": "#%%\n"
    }
   }
  },
  {
   "cell_type": "code",
   "execution_count": 7,
   "outputs": [],
   "source": [
    "filtered_definitions, filtered_titles, filtered_definition_features = filter_definitions(prepared_definitions, prepared_titles, definition_features)"
   ],
   "metadata": {
    "collapsed": false,
    "pycharm": {
     "name": "#%%\n"
    }
   }
  },
  {
   "cell_type": "code",
   "execution_count": 8,
   "outputs": [
    {
     "name": "stdout",
     "output_type": "stream",
     "text": [
      "CPU times: user 338 ms, sys: 15 µs, total: 338 ms\n",
      "Wall time: 337 ms\n"
     ]
    },
    {
     "data": {
      "text/plain": "['ATW ATW ang around the world pot dookoła świata element techniki piłkarskiej polegający wykonaniu nogą pełnego obrotu nad piłką trakcie żonglowania',\n 'Zespół bolesnych nóg ruchów palców Zespół bolesnych nóg ruchów palców ang painful toes syndrome rzadki zespół chorobowy objawiający się bólem kończyn dolnych mimowolnymi ruchami stóp lub palców',\n 'Komendy polecenia Taekwondo ANPALMOK promieniowa część przedramienia strony kciuka ANURO wewnątrz ANJOT usiąść komenda przód JOOMUK powierzchnia uderzeniowa przedniej części pięści głowy dalsze kości śródręcza APCHA BUSIGI kopnięcie przodu APCHA OLLIGI blok stopą przodu góry noga prosta kolanie również wymach nogi przodu APKUMCHI powierzchnia uderzeniowa stopy którą tworzą główki dalsze kości śródstopia BAKATPALMOK łokciowa część przedramienia strony palca małego',\n 'Wymyk Wymyk przejście półzwisu zwisu podporu przodem tyłem przez przeniesienie nóg środka ciężkości ciała ponad osią chwytu ramion obrót ciała wokół osi poprzecznej nóg przód',\n 'Torsja ślimaki Torsja zjawisko zachodzące wczesnym rozwoju ontogenetycznym ślimaków Gastropoda polegające obrocie worka trzewiowego stosunku cefalopodium nogi głowy',\n 'Szagaj njaslach Szagaj njaslach dosł pstrykanie palcami tradycyjna mongolska gra kości które najczęściej były wykonane kości dolnej części nóg owcy']"
     },
     "execution_count": 8,
     "metadata": {},
     "output_type": "execute_result"
    }
   ],
   "source": [
    "%%time\n",
    "find_similar_definitions(\"szybki obrót wykonywany na palcach jednej nogi\", filtered_titles, filtered_definitions, filtered_definition_features)"
   ],
   "metadata": {
    "collapsed": false,
    "pycharm": {
     "name": "#%%\n"
    }
   }
  },
  {
   "cell_type": "code",
   "execution_count": 9,
   "outputs": [
    {
     "data": {
      "text/plain": "[247902, 595270, 734333, 804901, 842587, 1179155]"
     },
     "execution_count": 9,
     "metadata": {},
     "output_type": "execute_result"
    }
   ],
   "source": [
    "find_similar_definitions(\"szybki obrót wykonywany na palcach jednej nogi\", filtered_titles, filtered_definitions, filtered_definition_features, return_titles=True)"
   ],
   "metadata": {
    "collapsed": false,
    "pycharm": {
     "name": "#%%\n"
    }
   }
  },
  {
   "cell_type": "code",
   "execution_count": 10,
   "outputs": [
    {
     "name": "stdout",
     "output_type": "stream",
     "text": [
      "CPU times: user 390 ms, sys: 3.91 ms, total: 394 ms\n",
      "Wall time: 393 ms\n"
     ]
    },
    {
     "data": {
      "text/plain": "['Układ heksagonalny Układ heksagonalny układ krystalograficzny którym trzy czterech osi leżą jednej płaszczyźnie mają jednakową długość kąt między nimi wynosi',\n 'Fala płaska Fala płaska jest fala której powierzchnie falowe powierzchnie jednakowej fazie tworzą równoległe siebie linie proste gdy fala rozchodzi się powierzchni lub płaszczyzny gdy rozchodzi się przestrzeni trójwymiarowej']"
     },
     "execution_count": 10,
     "metadata": {},
     "output_type": "execute_result"
    }
   ],
   "source": [
    "%%time\n",
    "find_similar_definitions(\"zbiór wszystkich punktów płaszczyzny znajdujący się w jednakowej odległości od jednego punktu\", filtered_titles, filtered_definitions, filtered_definition_features)"
   ],
   "metadata": {
    "collapsed": false,
    "pycharm": {
     "name": "#%%\n"
    }
   }
  },
  {
   "cell_type": "code",
   "execution_count": 11,
   "outputs": [
    {
     "name": "stdout",
     "output_type": "stream",
     "text": [
      "ASCII \n",
      "\n",
      "Twierdzenie Ptolemeusza \n",
      "\n",
      "Pierwiastek chemiczny \n",
      "\n",
      "Staw eliptyczny \n",
      "\n",
      "Buszyzm \n",
      "\n",
      "Bazylika konkatedralna Świętej Trójcy w Chełmży \n",
      "\n",
      "Lista niematerialnego dziedzictwa kulturowego wymagającego pilnej ochrony \n",
      "\n",
      "Faryngalizacja \n",
      "\n",
      "Kuba \n",
      "\n",
      "James Bond \n",
      "\n",
      "Świnka (herb szlachecki) \n",
      "\n",
      "Bambrzy \n",
      "\n",
      "Dekiel \n",
      "\n",
      "Runek (Beskid Sądecki) \n",
      "\n",
      "Bitwa pod Oliwą \n",
      "\n",
      "Ēostre \n",
      "\n",
      "Set (gra) \n",
      "\n",
      "Katoda \n",
      "\n",
      "SST Pod Solniskiem \n",
      "\n",
      "AWK \n",
      "\n",
      "Rycerze Okrągłego Stołu \n",
      "\n",
      "Ryszard Natusiewicz \n",
      "\n",
      "Zaćma \n",
      "\n",
      "Metr bieżący \n",
      "\n",
      "Gryf \n",
      "\n",
      "Pozycja birmańska \n",
      "\n",
      "Karawela \n",
      "\n",
      "Cohen Barbarzyńca \n",
      "\n",
      "Astrid Lindgren \n",
      "\n",
      "Choroba Heinego-Medina \n",
      "\n",
      "Jesioniki \n",
      "\n",
      "Ć \n",
      "\n",
      "Abu Kir \n",
      "\n",
      "Oscypek \n",
      "\n",
      "Teologia sukcesu \n",
      "\n",
      "Cyjon rudy \n",
      "\n",
      "Zawias \n",
      "\n",
      "Raut (ornament) \n",
      "\n",
      "Mikrobiologia \n",
      "\n",
      "Łubin żółty \n",
      "\n",
      "Złożenie funkcji \n",
      "\n",
      "Pacynka \n",
      "\n",
      "Jesioniki \n",
      "\n",
      "Sunyer I \n",
      "\n",
      "Binegacja \n",
      "\n",
      "Ćwierćnuta \n",
      "\n",
      "Ania z Zielonego Wzgórza (seria) \n",
      "\n",
      "Lądowisko Nieborów \n",
      "\n",
      "Cyrulik sewilski (opera) \n",
      "\n",
      "Tendrzak \n",
      "\n",
      "Aerobus (kolejka) \n",
      "\n",
      "Deklinacja magnetyczna \n",
      "\n",
      "Azerbejdżan \n",
      "\n",
      "Rybka zwana Wandą \n",
      "\n",
      "Mora (tkanina) \n",
      "\n",
      "AWK \n",
      "\n",
      "Dermatologia \n",
      "\n",
      "Łódzkie Spotkania z Piosenką Żeglarską Kubryk \n",
      "\n",
      "Ama no Nuboko \n",
      "\n",
      "Grek Zorba \n",
      "\n",
      "Turki \n",
      "\n",
      "Singel (karty do gry) \n",
      "\n",
      "Ius soli \n",
      "\n",
      "Norman Davies \n",
      "\n",
      "BMX \n",
      "\n",
      "Wieża ciśnień w Ciechanowie \n",
      "\n"
     ]
    },
    {
     "ename": "KeyboardInterrupt",
     "evalue": "",
     "output_type": "error",
     "traceback": [
      "\u001B[0;31m---------------------------------------------------------------------------\u001B[0m",
      "\u001B[0;31mKeyboardInterrupt\u001B[0m                         Traceback (most recent call last)",
      "Input \u001B[0;32mIn [11]\u001B[0m, in \u001B[0;36m<cell line: 2>\u001B[0;34m()\u001B[0m\n\u001B[1;32m      6\u001B[0m definition \u001B[38;5;241m=\u001B[39m get_definition_from_question(line\u001B[38;5;241m.\u001B[39mstrip())\n\u001B[1;32m      7\u001B[0m \u001B[38;5;28;01mif\u001B[39;00m \u001B[38;5;28mlen\u001B[39m(definition) \u001B[38;5;241m>\u001B[39m \u001B[38;5;241m0\u001B[39m:\n\u001B[0;32m----> 8\u001B[0m     a \u001B[38;5;241m=\u001B[39m \u001B[43manswer\u001B[49m\u001B[43m(\u001B[49m\u001B[43mdefinition\u001B[49m\u001B[43m,\u001B[49m\u001B[43m \u001B[49m\u001B[43mfiltered_titles\u001B[49m\u001B[43m,\u001B[49m\u001B[43m \u001B[49m\u001B[43mfiltered_definition_features\u001B[49m\u001B[43m,\u001B[49m\u001B[43m \u001B[49m\u001B[43mrare_words_freq\u001B[49m\u001B[43m)\u001B[49m\n\u001B[1;32m      9\u001B[0m     \u001B[38;5;28mprint\u001B[39m(a)\n\u001B[1;32m     10\u001B[0m     f_out\u001B[38;5;241m.\u001B[39mwrite(a\u001B[38;5;241m.\u001B[39mstrip()\u001B[38;5;241m+\u001B[39m\u001B[38;5;124m'\u001B[39m\u001B[38;5;124m \u001B[39m\u001B[38;5;130;01m\\n\u001B[39;00m\u001B[38;5;124m'\u001B[39m)\n",
      "Input \u001B[0;32mIn [3]\u001B[0m, in \u001B[0;36manswer\u001B[0;34m(definition, titles, definition_features, rare_words_freq)\u001B[0m\n\u001B[1;32m     85\u001B[0m score \u001B[38;5;241m=\u001B[39m \u001B[38;5;28mlen\u001B[39m(match)\n\u001B[1;32m     86\u001B[0m \u001B[38;5;28;01mif\u001B[39;00m score \u001B[38;5;241m==\u001B[39m max_score:\n\u001B[0;32m---> 87\u001B[0m     \u001B[43mbest_definitions_idx\u001B[49m\u001B[38;5;241;43m.\u001B[39;49m\u001B[43mappend\u001B[49m\u001B[43m(\u001B[49m\u001B[43m(\u001B[49m\u001B[43mi\u001B[49m\u001B[43m,\u001B[49m\u001B[43m \u001B[49m\u001B[43mmatch\u001B[49m\u001B[43m)\u001B[49m\u001B[43m)\u001B[49m\n\u001B[1;32m     88\u001B[0m \u001B[38;5;28;01mif\u001B[39;00m score \u001B[38;5;241m>\u001B[39m max_score:\n\u001B[1;32m     89\u001B[0m     best_definitions_idx \u001B[38;5;241m=\u001B[39m [(i, match)]\n",
      "\u001B[0;31mKeyboardInterrupt\u001B[0m: "
     ]
    }
   ],
   "source": [
    "# 13 / 189\n",
    "with open('../List_2/data/pytania.txt', 'r') as questions:\n",
    "    with open('t2_odpowiedzi_tylko_wektory.txt', 'w') as f_out:\n",
    "        line = questions.readline()\n",
    "        while line:\n",
    "            definition = get_definition_from_question(line.strip())\n",
    "            if len(definition) > 0:\n",
    "                a = answer(definition, filtered_titles, filtered_definition_features, rare_words_freq)\n",
    "                print(a)\n",
    "                f_out.write(a.strip()+' \\n')\n",
    "            else:\n",
    "                f_out.write(\"Nie o definicję\" +' \\n')\n",
    "            line = questions.readline()"
   ],
   "metadata": {
    "collapsed": false,
    "pycharm": {
     "name": "#%%\n"
    }
   }
  },
  {
   "cell_type": "code",
   "execution_count": 12,
   "outputs": [
    {
     "name": "stdout",
     "output_type": "stream",
     "text": [
      "[11569, 10159, 11572, 11576, 11579, 12827, 12881, 12882, 12883, 15824]\n",
      "Alfa \n",
      "\n",
      "Alfa \n",
      "\n",
      "[47598, 13205, 15916, 1072840, 696166, 789530, 15205, 542025, 15915, 599494]\n",
      "Okrąg dziewięciu punktów \n",
      "\n",
      "Okrąg dziewięciu punktów \n",
      "\n",
      "[]\n",
      "[]\n",
      "[]\n",
      "[]\n",
      "[]\n",
      "[]\n",
      "[]\n",
      "[]\n",
      "nie mam pojęcia, sorry \n",
      "\n",
      "[]\n",
      "[]\n",
      "[]\n",
      "[]\n",
      "[]\n",
      "[]\n",
      "[]\n",
      "nie mam pojęcia, sorry \n",
      "\n",
      "[]\n",
      "[]\n",
      "[]\n",
      "[]\n",
      "[]\n",
      "[]\n",
      "[]\n",
      "[]\n",
      "nie mam pojęcia, sorry \n",
      "\n",
      "[]\n",
      "[]\n",
      "[]\n",
      "[]\n",
      "nie mam pojęcia, sorry \n",
      "\n",
      "[]\n",
      "[]\n",
      "[]\n",
      "[]\n",
      "[]\n",
      "[]\n",
      "[]\n",
      "[]\n",
      "nie mam pojęcia, sorry \n",
      "\n",
      "[]\n",
      "[]\n",
      "[]\n",
      "[]\n",
      "[]\n",
      "[]\n",
      "[]\n",
      "nie mam pojęcia, sorry \n",
      "\n",
      "[]\n",
      "[]\n",
      "[]\n",
      "[]\n",
      "[]\n",
      "[]\n",
      "nie mam pojęcia, sorry \n",
      "\n",
      "[]\n",
      "[]\n",
      "[]\n",
      "[]\n",
      "nie mam pojęcia, sorry \n",
      "\n",
      "[]\n",
      "[]\n",
      "[]\n",
      "[]\n",
      "[]\n",
      "[]\n",
      "nie mam pojęcia, sorry \n",
      "\n",
      "[3066, 15943, 941131, 15027, 765295, 807455, 808056, 968930, 47106, 215942]\n",
      "Pierwiastek chemiczny \n",
      "\n",
      "Pierwiastek chemiczny \n",
      "\n",
      "[]\n",
      "[]\n",
      "[]\n",
      "[]\n",
      "[]\n",
      "[]\n",
      "[]\n",
      "nie mam pojęcia, sorry \n",
      "\n",
      "[]\n",
      "[]\n",
      "[]\n",
      "[]\n",
      "[]\n",
      "[]\n",
      "[]\n",
      "[]\n"
     ]
    },
    {
     "ename": "KeyboardInterrupt",
     "evalue": "",
     "output_type": "error",
     "traceback": [
      "\u001B[0;31m---------------------------------------------------------------------------\u001B[0m",
      "\u001B[0;31mKeyboardInterrupt\u001B[0m                         Traceback (most recent call last)",
      "Input \u001B[0;32mIn [12]\u001B[0m, in \u001B[0;36m<cell line: 1>\u001B[0;34m()\u001B[0m\n\u001B[1;32m      3\u001B[0m line \u001B[38;5;241m=\u001B[39m questions\u001B[38;5;241m.\u001B[39mreadline()\n\u001B[1;32m      4\u001B[0m \u001B[38;5;28;01mwhile\u001B[39;00m line:\n\u001B[0;32m----> 5\u001B[0m     a \u001B[38;5;241m=\u001B[39m \u001B[43manswer_mod\u001B[49m\u001B[43m(\u001B[49m\u001B[43mline\u001B[49m\u001B[38;5;241;43m.\u001B[39;49m\u001B[43mstrip\u001B[49m\u001B[43m(\u001B[49m\u001B[43m)\u001B[49m\u001B[43m,\u001B[49m\u001B[43m \u001B[49m\u001B[43mweights\u001B[49m\u001B[38;5;241;43m=\u001B[39;49m\u001B[43m[\u001B[49m\u001B[38;5;241;43m1\u001B[39;49m\u001B[43m,\u001B[49m\u001B[43m \u001B[49m\u001B[38;5;241;43m1\u001B[39;49m\u001B[43m,\u001B[49m\u001B[43m \u001B[49m\u001B[38;5;241;43m0.3\u001B[39;49m\u001B[43m,\u001B[49m\u001B[43m \u001B[49m\u001B[38;5;241;43m0.3\u001B[39;49m\u001B[43m,\u001B[49m\u001B[43m \u001B[49m\u001B[38;5;241;43m2\u001B[39;49m\u001B[43m]\u001B[49m\u001B[43m,\u001B[49m\u001B[43m \u001B[49m\u001B[43mthreshold\u001B[49m\u001B[38;5;241;43m=\u001B[39;49m\u001B[38;5;241;43m0.5\u001B[39;49m\u001B[43m,\u001B[49m\u001B[43m \u001B[49m\u001B[43mtitles\u001B[49m\u001B[38;5;241;43m=\u001B[39;49m\u001B[43mfiltered_titles\u001B[49m\u001B[43m,\u001B[49m\u001B[43m \u001B[49m\u001B[43mdefinitions\u001B[49m\u001B[38;5;241;43m=\u001B[39;49m\u001B[43mfiltered_definitions\u001B[49m\u001B[43m,\u001B[49m\u001B[43m \u001B[49m\u001B[43mdefinition_features\u001B[49m\u001B[38;5;241;43m=\u001B[39;49m\u001B[43mfiltered_definition_features\u001B[49m\u001B[43m)\u001B[49m\n\u001B[1;32m      6\u001B[0m     \u001B[38;5;28mprint\u001B[39m(a)\n\u001B[1;32m      7\u001B[0m     f_out\u001B[38;5;241m.\u001B[39mwrite(a\u001B[38;5;241m.\u001B[39mstrip()\u001B[38;5;241m+\u001B[39m\u001B[38;5;124m'\u001B[39m\u001B[38;5;124m \u001B[39m\u001B[38;5;130;01m\\n\u001B[39;00m\u001B[38;5;124m'\u001B[39m)\n",
      "Input \u001B[0;32mIn [4]\u001B[0m, in \u001B[0;36manswer_mod\u001B[0;34m(question, weights, threshold, titles, definitions, definition_features)\u001B[0m\n\u001B[1;32m     10\u001B[0m \u001B[38;5;28;01mwhile\u001B[39;00m question:\n\u001B[1;32m     11\u001B[0m     query \u001B[38;5;241m=\u001B[39m \u001B[38;5;124m'\u001B[39m\u001B[38;5;124m \u001B[39m\u001B[38;5;124m'\u001B[39m\u001B[38;5;241m.\u001B[39mjoin(q \u001B[38;5;28;01mfor\u001B[39;00m q \u001B[38;5;129;01min\u001B[39;00m question)\n\u001B[0;32m---> 12\u001B[0m     results \u001B[38;5;241m=\u001B[39m \u001B[43mscore_documents\u001B[49m\u001B[43m(\u001B[49m\u001B[43mquery\u001B[49m\u001B[43m,\u001B[49m\u001B[43m \u001B[49m\u001B[43mweights\u001B[49m\u001B[43m,\u001B[49m\u001B[43m \u001B[49m\u001B[43mmorph\u001B[49m\u001B[43m,\u001B[49m\u001B[43m \u001B[49m\u001B[43mcandidates\u001B[49m\u001B[43m)\u001B[49m\n\u001B[1;32m     13\u001B[0m     search_results \u001B[38;5;241m=\u001B[39m \u001B[38;5;28mlist\u001B[39m(results\u001B[38;5;241m.\u001B[39mkeys())[:\u001B[38;5;241m10\u001B[39m]\n\u001B[1;32m     14\u001B[0m     \u001B[38;5;28mprint\u001B[39m(search_results)\n",
      "File \u001B[0;32m~/Documents/ET/List_4/utils.py:97\u001B[0m, in \u001B[0;36mscore_documents\u001B[0;34m(question, weights, morph, candidates)\u001B[0m\n\u001B[1;32m     96\u001B[0m \u001B[38;5;28;01mdef\u001B[39;00m \u001B[38;5;21mscore_documents\u001B[39m(question, weights, morph, candidates):\n\u001B[0;32m---> 97\u001B[0m     exact_hits, lematized_hits \u001B[38;5;241m=\u001B[39m \u001B[43mprepare_hits\u001B[49m\u001B[43m(\u001B[49m\u001B[43mquestion\u001B[49m\u001B[43m,\u001B[49m\u001B[43m \u001B[49m\u001B[43mmorph\u001B[49m\u001B[43m)\u001B[49m\n\u001B[1;32m     98\u001B[0m     exact_contents_hits, exact_titles_hits \u001B[38;5;241m=\u001B[39m count_hits(exact_hits, candidates)\n\u001B[1;32m     99\u001B[0m     lematized_contents_hits, lematized_titles_hits \u001B[38;5;241m=\u001B[39m count_hits(lematized_hits, candidates)\n",
      "File \u001B[0;32m~/Documents/ET/List_4/utils.py:76\u001B[0m, in \u001B[0;36mprepare_hits\u001B[0;34m(question, morph)\u001B[0m\n\u001B[1;32m     74\u001B[0m lematized_hits \u001B[38;5;241m=\u001B[39m []\n\u001B[1;32m     75\u001B[0m \u001B[38;5;28;01mfor\u001B[39;00m word \u001B[38;5;129;01min\u001B[39;00m question:\n\u001B[0;32m---> 76\u001B[0m     exact_hits\u001B[38;5;241m.\u001B[39mappend(\u001B[43mfind_word\u001B[49m\u001B[43m(\u001B[49m\u001B[43mword\u001B[49m\u001B[43m,\u001B[49m\u001B[43m \u001B[49m\u001B[43mEXACT\u001B[49m\u001B[43m)\u001B[49m)\n\u001B[1;32m     77\u001B[0m \u001B[38;5;28;01mfor\u001B[39;00m word \u001B[38;5;129;01min\u001B[39;00m lematized_question:\n\u001B[1;32m     78\u001B[0m     lematized_hits\u001B[38;5;241m.\u001B[39mappend(find_word(word, LEMATIZED))\n",
      "File \u001B[0;32m~/Documents/ET/List_4/utils.py:43\u001B[0m, in \u001B[0;36mfind_word\u001B[0;34m(word, paths)\u001B[0m\n\u001B[1;32m     41\u001B[0m idx \u001B[38;5;241m=\u001B[39m []\n\u001B[1;32m     42\u001B[0m \u001B[38;5;28;01mfor\u001B[39;00m line \u001B[38;5;129;01min\u001B[39;00m file:\n\u001B[0;32m---> 43\u001B[0m     partitioned \u001B[38;5;241m=\u001B[39m \u001B[43mline\u001B[49m\u001B[38;5;241;43m.\u001B[39;49m\u001B[43mpartition\u001B[49m\u001B[43m(\u001B[49m\u001B[38;5;124;43m\"\u001B[39;49m\u001B[38;5;124;43m:\u001B[39;49m\u001B[38;5;124;43m\"\u001B[39;49m\u001B[43m)\u001B[49m\n\u001B[1;32m     44\u001B[0m     key \u001B[38;5;241m=\u001B[39m partitioned[\u001B[38;5;241m0\u001B[39m]\n\u001B[1;32m     45\u001B[0m     \u001B[38;5;28;01mif\u001B[39;00m key \u001B[38;5;241m==\u001B[39m word:\n",
      "\u001B[0;31mKeyboardInterrupt\u001B[0m: "
     ]
    }
   ],
   "source": [
    "with open('../List_2/data/pytania.txt', 'r') as questions:\n",
    "    with open('t2_odpowiedzi_mieszane.txt', 'w') as f_out:\n",
    "        line = questions.readline()\n",
    "        while line:\n",
    "            a = answer_mod(line.strip(), weights=[1, 1, 0.3, 0.3, 2], threshold=0.5, titles=filtered_titles, definitions=filtered_definitions, definition_features=filtered_definition_features)\n",
    "            print(a)\n",
    "            f_out.write(a.strip()+' \\n')\n",
    "            line = questions.readline()"
   ],
   "metadata": {
    "collapsed": false,
    "pycharm": {
     "name": "#%%\n"
    }
   }
  },
  {
   "cell_type": "code",
   "execution_count": null,
   "outputs": [],
   "source": [],
   "metadata": {
    "collapsed": false,
    "pycharm": {
     "name": "#%%\n"
    }
   }
  }
 ],
 "metadata": {
  "kernelspec": {
   "display_name": "Python 3",
   "language": "python",
   "name": "python3"
  },
  "language_info": {
   "codemirror_mode": {
    "name": "ipython",
    "version": 2
   },
   "file_extension": ".py",
   "mimetype": "text/x-python",
   "name": "python",
   "nbconvert_exporter": "python",
   "pygments_lexer": "ipython2",
   "version": "2.7.6"
  }
 },
 "nbformat": 4,
 "nbformat_minor": 0
}