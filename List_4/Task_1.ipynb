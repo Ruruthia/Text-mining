{
 "cells": [
  {
   "cell_type": "code",
   "execution_count": 5,
   "outputs": [],
   "source": [
    "import itertools\n",
    "\n",
    "import editdistance\n",
    "from nltk import ngrams"
   ],
   "metadata": {
    "collapsed": false,
    "pycharm": {
     "name": "#%%\n"
    }
   }
  },
  {
   "cell_type": "code",
   "execution_count": 6,
   "outputs": [],
   "source": [
    "with open(\"../List_2/outputs/indexed_contents.txt\", \"r\") as f:\n",
    "    content_lines = f.readlines()\n",
    "\n",
    "with open(\"../List_2/outputs/indexed_titles.txt\", \"r\") as f:\n",
    "    titles_lines = f.readlines()"
   ],
   "metadata": {
    "collapsed": false,
    "pycharm": {
     "name": "#%%\n"
    }
   }
  },
  {
   "cell_type": "code",
   "execution_count": 7,
   "outputs": [],
   "source": [
    "def preprocess(word):\n",
    "\n",
    "    new_word = \"\"\n",
    "    final_word = \"\"\n",
    "\n",
    "    s1 = {\"ó\": \"o\",\n",
    "     \"ę\": \"e\",\n",
    "     \"ą\": \"a\",\n",
    "     \"ć\": \"c\",\n",
    "     \"ź\": \"z\",\n",
    "     \"ż\": \"z\"}\n",
    "\n",
    "    s2 = {\"rz\": \"ż\",\n",
    "     \"ch\": \"h\"}\n",
    "\n",
    "    for i in range(len(word)):\n",
    "        if (i+1 < len(word)) and (word[i] + word[i+1] in s2):\n",
    "            new_word += s2[word[i] + word[i+1]]\n",
    "        else:\n",
    "            new_word += word[i]\n",
    "\n",
    "    for i in range(len(new_word)):\n",
    "        if new_word[i] in s1:\n",
    "            final_word += s1[new_word[i]]\n",
    "        else:\n",
    "            final_word += new_word[i]\n",
    "\n",
    "    final_word = ''.join(c[0] for c in itertools.groupby(final_word))\n",
    "    return final_word"
   ],
   "metadata": {
    "collapsed": false,
    "pycharm": {
     "name": "#%%\n"
    }
   }
  },
  {
   "cell_type": "code",
   "execution_count": 8,
   "outputs": [],
   "source": [
    "titles_lines = [title.strip() for title in titles_lines]"
   ],
   "metadata": {
    "collapsed": false,
    "pycharm": {
     "name": "#%%\n"
    }
   }
  },
  {
   "cell_type": "code",
   "execution_count": 73,
   "outputs": [],
   "source": [
    "titles_with_brackets = [(title, idx) for idx, title in enumerate(titles_lines) if title.find('(') != -1]"
   ],
   "metadata": {
    "collapsed": false,
    "pycharm": {
     "name": "#%%\n"
    }
   }
  },
  {
   "cell_type": "code",
   "execution_count": 74,
   "outputs": [
    {
     "data": {
      "text/plain": "[('Andrzejewo (województwo mazowieckie)', 30),\n ('Alabama (ujednoznacznienie)', 72),\n ('Alaska (ujednoznacznienie)', 73),\n ('Arizona (ujednoznacznienie)', 74),\n ('Alabama (rzeka)', 79),\n ('Aidan (król Dalriady)', 93),\n ('Albion (Anglia)', 99),\n ('Athene (system operacyjny)', 124),\n ('Ada (imię)', 137),\n ('Alan Cox (informatyk)', 142),\n ('Ares (mitologia)', 145),\n ('AK (ujednoznacznienie)', 161),\n ('Aurelian (imię)', 169),\n ('Arkadiusz (cesarz bizantyński)', 172),\n ('Auto (teatr)', 192),\n ('Apollo 11 (archeologia)', 195),\n ('A (ujednoznacznienie)', 203),\n ('As (moneta)', 227),\n ('Absolwent (film)', 242),\n ('Aida (opera)', 283),\n ('Akcydens (poligrafia)', 290),\n ('Apsyda (architektura)', 292),\n ('Apollo (mitologia)', 308),\n ('ALICE (sztuczna inteligencja)', 311),\n ('Bajt (ujednoznacznienie)', 336),\n ('Buchta (żegluga)', 337),\n ('Białka (ujednoznacznienie)', 346),\n ('Beryl (pierwiastek)', 351),\n ('Bolesław Chrobry (powieść)', 372),\n ('Bałtyk (ujednoznacznienie)', 373),\n ('Biskupin (powiat żniński)', 376),\n ('Blender (program)', 397),\n ('Bobina (poligrafia)', 418),\n ('Balbin (imię)', 425),\n ('Bonosus (Rzymianin)', 428),\n ('B (ujednoznacznienie)', 436),\n ('Bogurodzica (pieśń)', 444),\n ('Borys Godunow (opera)', 486),\n ('Bohemia (jaskinia)', 507),\n ('Bison (program)', 514),\n ('Bronisław Malinowski (antropolog)', 515),\n ('Baza danych (prawo)', 528),\n ('C (ujednoznacznienie)', 537),\n ('Calvados (napój alkoholowy)', 549),\n ('Casablanca (film)', 581),\n ('Cochise (wódz Apaczów)', 586),\n ('Cypr (wyspa)', 592),\n ('Cyrkiel (ujednoznacznienie)', 595),\n ('Centaury (mitologia)', 596),\n ('Ciało (matematyka)', 637),\n ('CD (ujednoznaczenie)', 640),\n ('C (język programowania)', 652),\n ('Cps (informatyka)', 684),\n ('Così fan tutte (KV 588)', 710),\n ('Cyrulik sewilski (opera)', 712),\n ('Czarodziejski flet (KV 620)', 713),\n ('Dymitr Iwanowicz (1582-1591)', 716),\n ('Charon (mitologia)', 720),\n ('Charon (księżyc)', 721),\n ('Charon (zespół muzyczny)', 722),\n ('Ciąg (matematyka)', 741),\n ('Clarion (język programowania)', 742),\n ('Ceres (mitologia)', 743),\n ('Dobra (ekonomia)', 752),\n ('Dowodzenie (logika)', 753),\n ('Dowód (matematyka)', 764),\n ('Dc (informatyka)', 820),\n ('D (ujednoznacznienie)', 847),\n ('Dom (ujednoznacznienie)', 851),\n ('Dolní Věstonice (stanowisko archeologiczne)', 883),\n ('Deflacja (ekonomia)', 892),\n ('Domena (biologia)', 906),\n ('Energia (fizyka)', 969),\n ('E (ujednoznacznienie)', 973),\n ('Ekslibris (znak)', 975),\n ('Elektron (stop magnezu)', 985),\n ('Ekspozycja (fotografia)', 997),\n ('Elbląg (rzeka)', 1009),\n ('Eos (mitologia)', 1028),\n ('Flisz (geologia)', 1065),\n ('Funkcja (ujednoznacznienie)', 1069),\n ('Floryda (ujednoznacznienie)', 1071),\n ('Fotorealizm (grafika komputerowa)', 1103),\n ('Folusz (maszyna)', 1105),\n ('Funt (masa)', 1130),\n ('Faust (imię)', 1143),\n ('Feniks (ujednoznacznienie)', 1156),\n ('Flex (program)', 1161),\n ('Góra (ujednoznacznienie)', 1186),\n ('Grupa (matematyka)', 1190),\n ('Geronimo (wódz Indian Chiricahua)', 1220),\n ('George Berkeley (filozof)', 1276),\n ('Geta (cesarz)', 1293),\n ('Gracjan (cesarz rzymski)', 1309),\n ('G (ujednoznacznienie)', 1314),\n ('Galeon (przeglądarka)', 1317),\n ('Giaur (islam)', 1333),\n ('Grunwald (wieś w województwie warmińsko-mazurskim)', 1336),\n ('GG (komunikator)', 1339),\n ('Gwinea (moneta)', 1375),\n ('Hulk (okręt)', 1416),\n ('Hals (żeglarstwo)', 1419),\n ('Heurystyka (logika)', 1447),\n ('Harlem (Nowy Jork)', 1463),\n ('Hawaje (archipelag)', 1471),\n ('Haker (slang komputerowy)', 1479),\n ('Hel (pierwiastek)', 1489),\n ('H (ujednoznacznienie)', 1506),\n ('He (litera)', 1510),\n ('Hem (biochemia)', 1527),\n ('Harmonia (muzyka)', 1550),\n ('Hypnos (mitologia)', 1561),\n ('Ha (ujednoznacznienie)', 1566),\n ('Interpolacja (grafika komputerowa)', 1577),\n ('Idol (program telewizyjny)', 1628),\n ('I (ujednoznacznienie)', 1632),\n ('Interpreter (program komputerowy)', 1641),\n ('Inteligencja (ujednoznacznienie)', 1657),\n ('John Davis (żeglarz)', 1670),\n ('Junga (żegluga)', 1671),\n ('Jeżów (województwo małopolskie)', 1680),\n ('Księgowanie (informatyka)', 1681),\n ('Juszczyn (województwo małopolskie)', 1683),\n ('Jowisz (ujednoznacznienie)', 1686),\n ('Michigan (jezioro)', 1710),\n ('John Acton (1. baron Acton)', 1719),\n ('Język (anatomia)', 1749),\n ('Język (mowa)', 1759),\n ('Juliusz Cezar (opera)', 1858),\n ('Jan Długosz (ujednoznacznienie)', 1882),\n ('Kwadrat (ujednoznacznienie)', 1907),\n ('Komponent (informatyka)', 1908),\n ('Koniunkcja (logika)', 1912),\n ('Kliper (żaglowiec)', 1918),\n ('Kryształ (ujednoznacznienie)', 1923),\n ('Kingston (ujednoznacznienie)', 1959),\n ('Kwasy (ujednoznacznienie)', 1962),\n ('Kompresja (informatyka)', 1966),\n ('Kreda (okres)', 1971),\n ('Kana (pismo)', 1982),\n ('Kościół (organizacja)', 2075),\n ('Kościół (budynek)', 2076),\n ('Klaudiusz (cesarz)', 2081),\n ('Klucz (kryptografia)', 2101),\n ('Konstantyn III (cesarz rzymski)', 2108),\n ('Konstans II (cesarz bizantyński)', 2109),\n ('Kolumna (poligrafia)', 2113),\n ('K (ujednoznacznienie)', 2116),\n ('Konstantyn II (cesarz rzymski)', 2131),\n ('Kaligula (film)', 2137),\n ('Krzyżacy (film)', 2155),\n ('Krupy (powiat sokołowski)', 2173),\n ('Kult (zespół muzyczny)', 2185),\n ('Kiki (literatura japońska)', 2192),\n ('Kreacjonizm (pseudonauka)', 2197),\n ('Kopciuszek (baśń)', 2211),\n ('Kopciuszek (opera)', 2212),\n ('Kolonia (geografia polityczna)', 2219),\n ('Kubuś (samochód pancerny)', 2221),\n ('Kanon (muzyka)', 2225),\n ('Kabaret (film)', 2236),\n ('Kameleon (ujednoznacznienie)', 2239),\n ('Konsulat (Francja)', 2246),\n ('Kula (rytuał)', 2254),\n ('Klauzula (matematyka)', 2258),\n ('Layout (DTP)', 2280),\n ('Ligatura (pismo)', 2281),\n ('L4 (informatyka)', 2287),\n ('Luksemburg (ujednoznacznienie)', 2291),\n ('Lis (ujednoznacznienie)', 2329),\n ('Lew (ujednoznacznienie)', 2330),\n ('Klasyfikator (językoznawstwo)', 2346),\n ('Luksemburg (miasto)', 2350),\n ('Latawiec (demon)', 2375),\n ('Lucjan Rydel (poeta)', 2377),\n ('Licyniusz (cesarz rzymski)', 2378),\n ('L (ujednoznacznienie)', 2383),\n ('Leon I (cesarz bizantyński)', 2398),\n ('Leon II (cesarz bizantyński)', 2399),\n ('Lepton (mechanika kwantowa)', 2410),\n ('Lot nad kukułczym gniazdem (film)', 2419),\n ('Luks (fotometria)', 2432),\n ('Lex (informatyka)', 2453),\n ('Mer (chemia)', 2469),\n ('Morgan (rasa koni)', 2484),\n ('Mars (ujednoznacznienie)', 2493),\n ('Metoda porównawcza (językoznawstwo)', 2494),\n ('MMX (zestaw instrukcji)', 2503),\n ('Mechowo (województwo pomorskie)', 2512),\n ('Masa (fizyka)', 2577),\n ('Modelowanie (3D)', 2585),\n ('Magazyn (czasopismo)', 2597),\n ('Marcjan (cesarz bizantyński)', 2613),\n ('MIT (ujednoznacznienie)', 2622),\n ('M (ujednoznacznienie)', 2640),\n ('Mila (jednostka długości)', 2641),\n ('Monitor (okręt)', 2642),\n ('Monitor (program)', 2645),\n ('Mors (człowiek)', 2670),\n ('Medyna (Arabia Saudyjska)', 2682),\n ('Maksencjusz (cesarz rzymski)', 2691),\n ('Mikronezja (wyspy)', 2716),\n ('Montserrat (wyspa)', 2727),\n ('Mucha (ujednoznacznienie)', 2741),\n ('Marta (imię)', 2755),\n ('Neon (pierwiastek)', 2792),\n ('Neptun (ujednoznacznienie)', 2793),\n ('Nowy Jork (stan)', 2810),\n ('NeXTStep (system operacyjny)', 2828),\n ('Network File System (protokół)', 2845),\n ('N (ujednoznacznienie)', 2856),\n ('Nowy Świat (ulica)', 2881),\n ('Objętość (ujednoznacznienie)', 2929),\n ('Orawa (region)', 2936),\n ('Oscar (ujednoznacznienie)', 2940),\n ('Oświetlenie (grafika komputerowa)', 2958),\n ('Odra (ujednoznacznienie)', 2973),\n ('Odra (komputer)', 2974),\n ('Odra (choroba)', 2975),\n ('O (ujednoznacznienie)', 2976),\n ('ORP Orzeł (1985)', 2979),\n ('Offset (poligrafia)', 2980),\n ('Oaza (geografia)', 2982),\n ('Ort (moneta)', 2985),\n ('ORP Sęp (1938)', 2987),\n ('ORP Grom (1936)', 2988),\n ('Ouragan (1924)', 2990),\n ('ORP Wicher (1928)', 2993),\n ('Oskar (imię)', 3001),\n ('Otton III (cesarz rzymski)', 3035),\n ('Pascal (język programowania)', 3054),\n ('Piaski (powiat gostyński)', 3109),\n ('Prolog (język programowania)', 3121),\n ('Pierścień (matematyka)', 3146),\n ('Puchar Gordona Bennetta (balonowy)', 3193),\n ('Paradygmat (ujednoznacznienie)', 3195),\n ('Paweł III (papież)', 3196),\n ('(134340) Pluton', 3210),\n ('Wielokąt (grafika)', 3216),\n ('Paser (poligrafia)', 3227),\n ('Przychód (ekonomia)', 3232),\n ('Pole Marsowe (Rzym)', 3252),\n ('Pielgrzym (religia)', 3278),\n ('Pielgrzym (czasopismo)', 3279),\n ('P (ujednoznacznienie)', 3293),\n ('Piramida (ujednoznacznienie)', 3297),\n ('Pałacyk Michla (piosenka powstańcza)', 3307),\n ('Pasja (muzyka)', 3392),\n ('Ptak (ujednoznacznienie)', 3398),\n ('Próchnica (humus)', 3401),\n ('Proces (informatyka)', 3432),\n ('Quine (program komputerowy)', 3457),\n ('Równanie Clapeyrona (stan gazu doskonałego)', 3483),\n ('Roanoke (kolonia)', 3501),\n ('Ruby (znaki)', 3508),\n ('Ryś (ujednoznacznienie)', 3518),\n ('Region (geografia)', 3524),\n ('Rod (bóg)', 3557),\n ('Ropa (dopływ Wisłoki)', 3569),\n ('Rota (Maria Konopnicka)', 3581),\n ('Rewers (ujednoznacznienie)', 3592),\n ('Radiostacja (ujednoznacznienie)', 3595),\n ('Radiostacja (polska stacja radiowa)', 3597),\n ('Rakieta (ujednoznacznienie)', 3600),\n ('Rak (choroba)', 3603),\n ('Ruby (język programowania)', 3605),\n ('Rutherford (pierwiastek)', 3616),\n ('Rogowo (powiat toruński)', 3619),\n ('Rad (pierwiastek)', 3629),\n ('Relacja (matematyka)', 3639),\n ('Rejtan (obraz Jana Matejki)', 3648),\n ('Rogowo (powiat żniński)', 3657),\n ('Rynek (ekonomia)', 3659),\n ('Stan obiektu (informatyka)', 3667),\n ('Strop (lina)', 3674),\n ('Solaris (system operacyjny)', 3706),\n ('SDI (internet)', 3707),\n ('Saturn (ujednoznacznienie)', 3719),\n ('Składka (poligrafia)', 3746),\n ('Siemowit (książę Polan)', 3761),\n ('Siemomysł (książę Polan)', 3762),\n ('Smok (ujednoznacznienie)', 3792),\n ('Skawa (rzeka)', 3838),\n ('Spin (fizyka)', 3845),\n ('Supraśl (rzeka)', 3874),\n ('S (ujednoznacznienie)', 3894),\n ('Sekunda (ujednoznacznienie)', 3897),\n ('Sekunda (interwał)', 3899),\n ('Saga (literatura)', 3903),\n ('Saga (miasto)', 3904),\n ('Saga (zespół muzyczny)', 3905),\n ('Stan wojenny w Polsce (1981–1983)', 3907),\n ('Sed (program)', 3920),\n ('Szeląg (moneta)', 3924),\n ('Szóstak (moneta)', 3926),\n ('Stanisław Domański (fitopatolog)', 3957),\n ('Szachownica (ujednoznacznienie)', 3981),\n ('Skała (województwo małopolskie)', 3984),\n ('S.M.A.R.T. (informatyka)', 3987),\n ('Simon Bolivar (1979)', 4013),\n ('Swing (jazz)', 4026),\n ('SOV (Subject Object Verb)', 4039),\n ('Start (aparat)', 4062),\n ('Tautologia (logika)', 4072),\n ('Tcl (język programowania)', 4087),\n ('Tatrzański Park Narodowy (Polska)', 4104),\n ('Trójkąt (ujednoznacznienie)', 4127),\n ('Trójkąt (instrument muzyczny)', 4137),\n ('Teatr (ujednoznacznienie)', 4151),\n ('Teodora (cesarzowa rzymska)', 4170),\n ('Teodozjusz II (cesarz bizantyński)', 4172),\n ('Decjusz (cesarz rzymski)', 4181),\n ('T (ujednoznacznienie)', 4193),\n ('Tytan (pierwiastek)', 4196),\n ('Transakcja (informatyka)', 4201),\n ('Tara (waga)', 4214),\n ('Trias (moneta)', 4216),\n ('Tar (informatyka)', 4243),\n ('Tren (literatura)', 4256),\n ('Terytorium zamorskie (Francja)', 4261),\n ('Teleskop (ujednoznacznienie)', 4270),\n ('Tango (taniec towarzyski)', 4276),\n ('Takt (muzyka)', 4277),\n ('Teofano (cesarzowa rzymska)', 4283),\n ('Uran (ujednoznacznienie)', 4303),\n ('Użytek (poligrafia)', 4304),\n ('U (ujednoznacznienie)', 4331),\n ('Urszula (wokalistka)', 4333),\n ('Ursus (Warszawa)', 4344),\n ('Unifikacja (informatyka)', 4356),\n ('VF (fale)', 4374),\n ('Węgrzce (województwo małopolskie)', 4410),\n ('Wieprzec (województwo małopolskie)', 4415),\n ('Wenus (ujednoznacznienie)', 4425),\n ('Węzeł (jednostka prędkości)', 4441),\n ('Wisconsin (ujednoznacznienie)', 4451),\n ('Warta (ujednoznacznienie)', 4453),\n ('Wrotki (biologia)', 4456),\n ('Waszyngton (stan)', 4457),\n ('Wiedźmin (postać)', 4474),\n ('William Gibson (pisarz science fiction)', 4479),\n ('Wyzwolenie (czasopismo)', 4483),\n ('Widmo (spektroskopia)', 4498),\n ('Wodnik (demon)', 4522),\n ('Weber (jednostka)', 4577),\n ('Feniks (wyspy)', 4587),\n ('Wakat (poligrafia)', 4595),\n ('Wątek (architektura)', 4604),\n ('Wątek (informatyka)', 4605),\n ('Wanda (imię)', 4610),\n ('X2 (protokół)', 4636),\n ('Y (ujednoznacznienie)', 4641),\n ('Zasady (ujednoznacznienie)', 4663),\n ('Zegar (ujednoznacznienie)', 4672),\n ('Zenobia (imię)', 4689),\n ('Złote Wybrzeże (Afryka)', 4713),\n ('Zatoka (geografia)', 4714),\n ('Zawisza (imię)', 4718),\n ('Zasada wzajemności (fizyka)', 4731),\n ('Żelazo (ujednoznacznienie)', 4863),\n ('Żyrafa (ujednoznacznienie)', 4947),\n ('Świerk (Otwock)', 5723),\n ('Łysomice (województwo kujawsko-pomorskie)', 5734),\n ('Żegota (imię)', 5739),\n ('Kita (Mali)', 5781),\n ('Czad (ujednoznacznienie)', 5782),\n ('Akcja (finanse)', 5803),\n ('Aukcja (forma przetargu)', 5812),\n ('Uniemyśl (województwo dolnośląskie)', 5813),\n ('Ami (aparat fotograficzny)', 5831),\n ('Nysa (ujednoznacznienie)', 5836),\n ('Sonda (program telewizyjny)', 5840),\n ('Dług (ekonomia)', 5845),\n ('Ren (ujednoznacznienie)', 5853),\n ('Wieża (ujednoznacznienie)', 5859),\n ('Tender (kolejnictwo)', 5864),\n ('Chrystus (ujednoznacznienie)', 5885),\n ('Rezolucja (matematyka)', 5886),\n ('Rod (pierwiastek)', 5892),\n ('Grzyb (ujednoznacznienie)', 5894),\n ('Galicja (Europa Środkowa)', 5917),\n ('Szarotka (radioodbiornik)', 5923),\n ('Topór (herb szlachecki)', 5931),\n ('Królestwo (biologia)', 6004),\n ('System (geologia)', 6008),\n ('M42 (fotografia)', 6023),\n ('Adam i Ewa (postacie biblijne)', 6035),\n ('Śmiały (pociąg pancerny)', 6101),\n ('Madonna (piosenkarka)', 6102),\n ('León (prowincja)', 6146),\n ('Hel (miasto)', 6157),\n ('Liczba całkowita (typ danych)', 6160),\n ('Heliogabal (cesarz rzymski)', 6177),\n ('Organki (broń)', 6182),\n ('Jordan (rzeka)', 6189),\n ('Jordan (pierwszy biskup Polski)', 6190),\n ('Kazan (cesarz)', 6191),\n ('Stanisław Pilat (chemik)', 6193),\n ('Tyr (miasto)', 6201),\n ('Wisła (miasto)', 6206),\n ('Leon (imię)', 6208),\n ('Piotr Skarga (kaznodzieja)', 6210),\n ('Peryskop (obiektyw fotograficzny)', 6234),\n ('Birka (ujednoznacznienie)', 6240),\n ('Björkö (gmina Ekerö)', 6244),\n ('Normandia (kraina historyczna)', 6252),\n ('Żyronda (estuarium)', 6253),\n ('Meksyk (miasto)', 6265),\n ('Brzeg (miasto)', 6320),\n ('Zabierzów (województwo małopolskie)', 6326),\n ('Bombardier (stopień)', 6333),\n ('Wolin (wyspa)', 6340),\n ('Pluton (wojsko)', 6341),\n ('Kolarz (żołnierz)', 6351),\n ('Łan (miara powierzchni)', 6355),\n ('Galon (miara)', 6365),\n ('Fala (wojsko)', 6377),\n ('Oprawa (poligrafia)', 6402),\n ('Postać normalna (matematyka)', 6475),\n ('Klauzula (prawo)', 6481),\n ('Bateria (wojsko)', 6486),\n ('Graf (matematyka)', 6492),\n ('Drzewo (matematyka)', 6494),\n ('Las (ujednoznacznienie)', 6495),\n ('Las (matematyka)', 6496),\n ('Węgiel (pierwiastek)', 6519),\n ('La Plata (estuarium)', 6558),\n ('Parana (rzeka)', 6568),\n ('Wzmacniacz (ujednoznacznienie)', 6570),\n ('Województwo szczecińskie (1975–1998)', 6593),\n ('Województwo gdańskie (1945–1975)', 6595),\n ('Województwo olsztyńskie (1975–1998)', 6597),\n ('Województwo bydgoskie (1975–1998)', 6601),\n ('Województwo płockie (1975–1998)', 6604),\n ('Województwo białostockie (1944–1975)', 6608),\n ('Noc (ujednoznacznienie)', 6619),\n ('Małżeństwo (instytucja społeczna)', 6621),\n ('Województwo kaliskie (1975–1998)', 6636),\n ('Województwo warszawskie (1975–1998)', 6643),\n ('Otoczenie (matematyka)', 6647),\n ('Województwo wrocławskie (1946–1975)', 6654),\n ('Województwo kieleckie (1975–1998)', 6659),\n ('Województwo krakowskie (1945–1975)', 6660),\n ('Województwo rzeszowskie (1975–1998)', 6664),\n ('Gradient (grafika)', 6678),\n ('Twierdzenie Lagrange’a (teoria grup)', 6679),\n ('Twierdzenie Lagrange’a (rachunek różniczkowy)', 6680),\n ('Pochodna (ujednoznacznienie)', 6683),\n ('Miara (matematyka)', 6689),\n ('Tolerancja (biologia)', 6699),\n ('Tolerancja (socjologia)', 6702),\n ('Tolerancja (technologia)', 6703),\n ('Andora (miasto)', 6707),\n ('Włóka (miara powierzchni)', 6711),\n ('Przedział (matematyka)', 6713),\n ('Tolerancja (ujednoznacznienie)', 6714),\n ('Grupa (województwo kujawsko-pomorskie)', 6719),\n ('Chełmno (ujednoznacznienie)', 6732),\n ('Kapitał (ekonomia)', 6747),\n ('Bardo (województwo dolnośląskie)', 6782),\n ('ORP Orzeł (1954)', 6785),\n ('Piła (miasto)', 6788),\n ('Radzim (imię)', 6790),\n ('Sławnikowice (ród)', 6794),\n ('Województwo wileńskie (II Rzeczpospolita)', 6816),\n ('Województwo wołyńskie (II Rzeczpospolita)', 6817),\n ('Klucze (województwo małopolskie)', 6838),\n ('Wet za wet (teoria gier)', 6846),\n ('Obietnica (teoria gier)', 6851),\n ('Saint Louis (ujednoznacznienie)', 6876),\n ('Kryzys (ujednoznacznienie)', 6877),\n ('Trep (but)', 6881),\n ('Krzemieniec (miasto)', 6904),\n ('Katharsis (psychologia)', 6908),\n ('Katharsis (literatura)', 6909),\n ('Solaris (powieść)', 6920),\n ('Karloman I (król Franków)', 6925),\n ('Równość (matematyka)', 6926),\n ('Subsumpcja (matematyka)', 6929),\n ('Redukcja (chemia)', 6931),\n ('Depresja (geografia)', 6937),\n ('Genesis (zespół muzyczny)', 6942),\n ('Sawa (rzeka)', 6943),\n ('Nowy Jork (ujednoznacznienie)', 6945),\n ('Hobbit (rasa)', 6954),\n ('Śruba (złącze)', 6978),\n ('Świętopełk (imię)', 6983),\n ('Rzut (sztuki walki)', 6988),\n ('Qi (energia życiowa)', 6992),\n ('Nemesis (astronomia)', 7000),\n ('Leading (typografia)', 7006),\n ('Stabilność struktury (statystyka)', 7014),\n ('Logo (język programowania)', 7015),\n ('Przelew (prawo)', 7016),\n ('(1) Ceres', 7018),\n ('Ściek (góry)', 7023),\n ('Komin (formacja skalna)', 7024),\n ('Drawa (dopływ Dunaju)', 7028),\n ('Rysa (formacja skalna)', 7031),\n ('Radzanów (powiat białobrzeski)', 7041),\n ('Syrena (samochód)', 7045),\n ('Wisła (telewizor)', 7050),\n ('Nowa fala (muzyka)', 7062),\n ('Krata (porządek)', 7065),\n ('Klaster (chemia)', 7076),\n ('JIT (informatyka)', 7077),\n ('Grębocin (województwo kujawsko-pomorskie)', 7083),\n ('Gronowo (województwo kujawsko-pomorskie)', 7084),\n ('Turzno (powiat toruński)', 7085),\n ('Złotoria (województwo kujawsko-pomorskie)', 7086),\n ('Genowefa (imię)', 7090),\n ('Melchior (imię)', 7099),\n ('Abel (imię)', 7107),\n ('Daniel (imię)', 7113),\n ('Piotr (imię)', 7114),\n ('Mścisław (imię)', 7126),\n ('Dobrosław (imię)', 7142),\n ('Arkadiusz (imię)', 7150),\n ('Maur (imię)', 7163),\n ('Rościsław (imię)', 7167),\n ('Małgorzata (imię)', 7170),\n ('Bernard (imię)', 7171),\n ('Eufemia (imię)', 7173),\n ('Henryk (imię)', 7175),\n ('Pia (imię)', 7177),\n ('Sebastian (imię)', 7179),\n ('Gaudencjusz (imię)', 7189),\n ('Rafaela (imię)', 7197),\n ('Paulina (imię)', 7201),\n ('Jan Chryzostom (imię)', 7205),\n ('Przybysław (imię)', 7207),\n ('Konstancja (imię)', 7213),\n ('Adelajda (imię)', 7215),\n ('Komentarz (informatyka)', 7230),\n ('Energia (rakieta)', 7232),\n ('Hipolit (imię)', 7242),\n ('Jakub (imię)', 7250),\n ('Justynian (imię)', 7251),\n ('Banat (kraina)', 7260),\n ('Czersk (województwo mazowieckie)', 7262),\n ('Sulisław (imię)', 7264),\n ('Salomon (imię)', 7271),\n ('Gorzysław (imię)', 7283),\n ('Pożegnanie z bronią (ujednoznacznienie)', 7284),\n ('Hiacynt (imię)', 7287),\n ('Tomisław (imię)', 7290),\n ('Łazarz (imię)', 7297),\n ('Olgierd (imię)', 7298),\n ('Dobiesław (imię)', 7304),\n ('Konrad (imię)', 7307),\n ('Radiola (sprzęt)', 7314),\n ('Zbyszko (imię)', 7325),\n ('Albert (imię)', 7326),\n ('Alberta (imię)', 7327),\n ('Sylwan (imię)', 7331),\n ('Arnold (imię)', 7333),\n ('Dan (stopień)', 7338),\n ('Kiejstut (imię)', 7343),\n ('Robert (imię)', 7344),\n ('Romana (imię)', 7345),\n ('Nestor (imię)', 7354),\n ('Lech (imię)', 7359),\n ('Roman (imię)', 7360),\n ('Herkules (imię)', 7366),\n ('Radosław (imię)', 7367),\n ('Adrian (imię)', 7375),\n ('Fryderyk (imię)', 7383),\n ('Pakosław (imię)', 7384),\n ('Proces (powieść)', 7387),\n ('Klaudian (imię)', 7396),\n ('Róża (imię)', 7398),\n ('Wojsław (imię)', 7399),\n ('Beat (imię)', 7401),\n ('Józefina (imię)', 7410),\n ('Patrycjusz (imię)', 7421),\n ('Regina (imię)', 7424),\n ('Anzelm (imię)', 7425),\n ('Narcyz (ujednoznacznienie)', 7427),\n ('Lubomierz (ujednoznacznienie)', 7439),\n ('Godzisław (imię)', 7444),\n ('Ambrozja (pokarm)', 7445),\n ('Klaudiusz (imię)', 7446),\n ('Pelagiusz (imię)', 7451),\n ('Dzierżysław (imię)', 7454),\n ('Irena (imię)', 7459),\n ('Amelia (imię)', 7466),\n ('Jonasz (ujednoznacznienie)', 7472),\n ('Hugo (imię)', 7474),\n ('Teodora (imię)', 7475),\n ('Zachariasz (imię)', 7485),\n ('Przecław (ujednoznacznienie)', 7488),\n ('Zenon (imię)', 7495),\n ('Hermenegild (imię)', 7498),\n ('Ida (imię)', 7500),\n ('Justyn (imię)', 7501),\n ('Przemysław (imię)', 7502),\n ('Lidia (imię)', 7506),\n ('Egbert (imię)', 7529),\n ('Marcelin (imię)', 7532),\n ('Paulin (imię)', 7538),\n ('Chwalisław (imię)', 7542),\n ('Jeremiasz (imię)', 7546),\n ('Lubomir (imię)', 7548),\n ('Liza (biologia)', 7562),\n ('Bożydar (imię)', 7564),\n ('Antonin (imię)', 7566),\n ('Berta (imię)', 7578),\n ('Nadzieja (imię)', 7583),\n ('Zofia (imię)', 7584),\n ('Bruno (imię)', 7585),\n ('Herakliusz (imię)', 7586),\n ('Estera (imię)', 7599),\n ('Tadeusz Zieliński (filolog)', 7601),\n ('Kaukaz (kraina historyczna)', 7610),\n ('Kaukaz (łańcuch górski)', 7612),\n ('Petroniusz (imię)', 7616),\n ('Klotylda (imię)', 7624),\n ('Lukrecja (imię)', 7630),\n ('Medard (imię)', 7631),\n ('Felicjan (imię)', 7632),\n ('Wit (imię)', 7640),\n ('Witold (imię)', 7641),\n ('M4 (informatyka)', 7646),\n ('Benon (imię)', 7649),\n ('Borzysław (imię)', 7655),\n ('Demetriusz (imię)', 7663),\n ('Agenor (imię)', 7669),\n ('Prosper (imię)', 7670),\n ('Drzewo dyskryminacyjne (teoria obliczeń)', 7673),\n ('Jagoda (imię)', 7685),\n ('Kira (imię)', 7691),\n ('Anatolia (imię)', 7692),\n ('Rufina (imię)', 7693),\n ('Bonawentura (imię)', 7700),\n ('Stella (imię)', 7703),\n ('Bolesław (imię)', 7713),\n ('Żelisław (imię)', 7715),\n ('Opera (przeglądarka)', 7720),\n ('Natal (imię)', 7724),\n ('Serafin (imię)', 7730),\n ('Czterej pancerni i pies (serial telewizyjny)', 7741),\n ('August (imię)', 7742),\n ('Augusta (imię)', 7743),\n ('Diana (mitologia)', 7757),\n ('Napoleon (imię)', 7760),\n ('Malina (imię)', 7771),\n ('Sobiesław (imię)', 7775),\n ('Flora (ujednoznacznienie)', 7776),\n ('Racibor (imię)', 7777),\n ('Olza (rzeka)', 7787),\n ('Columbia (wahadłowiec)', 7793),\n ('Tableau (system dowodzenia twierdzeń)', 7808),\n ('Kleopatra (imię)', 7827),\n ('Ema (imię)', 7830),\n ('Charles Cornwallis (1. markiz Cornwallis)', 7838),\n ('Stała (matematyka)', 7843),\n ('Italia (kraina historyczna)', 7880),\n ('Święta Katarzyna (województwo dolnośląskie)', 7895),\n ('Ziemowit (imię)', 7906),\n ('Celina (imię)', 7908),\n ('Sambor (imię)', 7918),\n ('Konradyn (imię)', 7931),\n ('Sylwia (imię)', 7937),\n ('Delfina (imię)', 7960),\n ('Oda (imię)', 7965),\n ('Barbara (imię)', 7973),\n ('Jarogniew (imię)', 7974),\n ('Rudy (czołg)', 8032),\n ('Flint (optyka)', 8034),\n ('Samba (taniec towarzyski)', 8044),\n ('Kłos (ujednoznacznienie)', 8046),\n ('Abdon (imię)', 8049),\n ('Szereg (matematyka)', 8052),\n ('Rytm (muzyka)', 8067),\n ('Horacy (imię)', 8072),\n ('Kankan (taniec)', 8079),\n ('Don Kichot (balet)', 8080),\n ('Horacy (poeta)', 8094),\n ('Spartakus (ujednoznacznienie)', 8117),\n ('Romeo i Julia (ujednoznacznienie)', 8120),\n ('Carmen (opera)', 8122),\n ('Carmen (balet)', 8123),\n ('Romeo i Julia (balet)', 8124),\n ('Pas de quatre (balet)', 8125),\n ('Kopciuszek (balet)', 8128),\n ('Adelina (imię)', 8132),\n ('Bolero (balet)', 8135),\n ('Śpiąca królewna (balet)', 8141),\n ('Don Juan (balet)', 8143),\n ('Cztery temperamenty (balet)', 8145),\n ('Dafnis i Chloe (balet)', 8146),\n ('Dziadek do orzechów (balet)', 8147),\n ('Esmeralda (balet)', 8148),\n ('Pietruszka (balet)', 8149),\n ('Charleston (taniec)', 8165),\n ('Jokasta (mitologia)', 8189),\n ('Cron (ujednoznacznienie)', 8194),\n ('Spartakus (balet)', 8198),\n ('Bolero (kamizelka)', 8200),\n ('Danse macabre (Saint-Saëns)', 8221),\n ('Karnawał (balet)', 8256),\n ('Szeherezada (balet)', 8257),\n ('Aggeusz (imię)', 8265),\n ('Alban (imię)', 8295),\n ('ATA (technologia)', 8296),\n ('Ali (imię)', 8301),\n ('Alma (imię)', 8302),\n ('Międzynarodówka (organizacja)', 8307),\n ('Partia Pracy (Wielka Brytania)', 8310),\n ('Partia Konserwatywna (Wielka Brytania)', 8311),\n ('Kniejówka (broń)', 8335),\n ('Terpsychora (muza)', 8338),\n ('Rajmonda (balet)', 8352),\n ('Urania (muza)', 8354),\n ('Szach-mat (balet)', 8355),\n ('Focus (holenderski zespół muzyczny)', 8356),\n ('Melpomene (mitologia)', 8357),\n ('Klio (muza)', 8358),\n ('Mnemosyne (mitologia)', 8359),\n ('Amadeusz (imię)', 8367),\n ('RPG (język programowania)', 8375),\n ('Euterpe (mitologia)', 8376),\n ('Erato (muza)', 8377),\n ('Talia (muza)', 8379),\n ('Bitwa pod Navarino (1827)', 8412),\n ('Amin (imię)', 8458),\n ('Amon (imię)', 8459),\n ('Teoria (logika)', 8463),\n ('Język (logika)', 8469),\n ('Aszur (miasto)', 8482),\n ('Jagdpanzer 38(t)', 8491),\n ('Tybet (region)', 8494),\n ('Ariel (imię)', 8510),\n ('Robotnik (gazeta)', 8524),\n ('Hemera (mitologia)', 8550),\n ('Eter (mitologia)', 8553),\n ('Gaja (mitologia)', 8556),\n ('Giganci (mitologia grecka)', 8558),\n ('Reja (mitologia)', 8562),\n ('0 (liczba)', 8567),\n ('13 Dywizja Górska SS (1 chorwacka) Handschar', 8570),\n ('14 Dywizja Grenadierów SS (1 ukraińska)', 8571),\n ('15 Dywizja Grenadierów SS (1 łotewska)', 8572),\n ('Skutek uboczny (informatyka)', 8583),\n ('Arseniusz (imię)', 8616),\n ('Hestia (mitologia)', 8618),\n ('Arystarch (imię)', 8619),\n ('Semele (mitologia)', 8620),\n ('Aspazja (ujednoznacznienie)', 8621),\n ('Asteria (imię)', 8626),\n ('19 Dywizja Grenadierów SS (2 łotewska)', 8632),\n ('21 Dywizja Górska SS (1 albańska) Skanderbeg', 8633),\n ('20 Dywizja Grenadierów SS (1 estońska)', 8634),\n ('Konstancja (Niemcy)', 9055),\n ('Moreska (taniec)', 9058),\n ('23 Dywizja Górska SS (2 chorwacka) Kama', 9067),\n ('25 Dywizja Grenadierów SS (1 węgierska) Hunyadi', 9071),\n ('26 Dywizja Grenadierów SS (2 węgierska) Hungaria', 9072),\n ('27 Ochotnicza Dywizja Grenadierów Pancernych SS (1 flamandzka) „Langemarck”',\n  9074),\n ('Moduł (matematyka)', 9078),\n ('28 Ochotnicza Dywizja Grenadierów Pancernych SS (1 walońska) „Wallonien”',\n  9085),\n ('29 Dywizja Grenadierów SS (1 rosyjska)', 9086),\n ('29 Dywizja Grenadierów SS (1 włoska)', 9087),\n ('30 Dywizja Grenadierów SS (1 białoruska)', 9088),\n ('33 Dywizja Grenadierów SS (1 francuska) Charlemagne', 9089),\n ('Oktawa (interwał)', 9096),\n ('Dźwięk (muzyka)', 9097),\n ('Alt (głos)', 9099),\n ('Bajadera (operetka)', 9123),\n ('Lisów (województwo śląskie)', 9130),\n ('Poziom (gry komputerowe)', 9138),\n ('Bufor (programowanie)', 9139),\n ('SMS Schleswig-Holstein (1906)', 9141),\n ('Klucz (muzyka)', 9173),\n ('Polonez (taniec)', 9174),\n ('Mazur (taniec)', 9176),\n ('Berenika (imię)', 9188),\n ('Bernardyn (imię)', 9189),\n ('Bertram (imię)', 9195),\n ('Walec (bryła)', 9213),\n ('Tygrys (rzeka)', 9216),\n ('Bertrand (imię)', 9239),\n ('Koper (roślina)', 9275),\n ('Algol (gwiazda)', 9281),\n ('Por (roślina)', 9311),\n ('Mazur (radioodbiornik)', 9312),\n ('EKG (ujednoznacznienie)', 9322),\n ('EKG (komunikator internetowy)', 9335),\n ('Komi (go)', 9358),\n ('Ko (go)', 9359),\n ('Afraniusz (komediopisarz)', 9379),\n ('Łada (bóstwo)', 9388),\n ('Raróg (mitologia)', 9422),\n ('Terytorium (go)', 9453),\n ('Jeniec (go)', 9456),\n ('Oddech (go)', 9457),\n ('Pauza (notacja muzyczna)', 9458),\n ('Ur (miasto)', 9460),\n ('Ósemka (nuta)', 9463),\n ('Żuraw (urządzenie dźwignicowe)', 9526),\n ('Pieter Bruegel (starszy)', 9561),\n ('Kuba (ujednoznacznienie)', 9580),\n ('Modlin (ujednoznacznienie)', 9599),\n ('Tempo (muzyka)', 9600),\n ('Meiji (okres)', 9610),\n ('Projekt (zarządzanie)', 9625),\n ('Skala (muzyka)', 9630),\n ('Michael Collins (astronauta)', 9634),\n ('Delfin (imię)', 9636),\n ('Dalia (imię)', 9638),\n ('Tolerancja (podstawy konstrukcji maszyn)', 9650),\n ('Dina (postać biblijna)', 9668),\n ('Mana (muzyk)', 9679),\n ('Pasowanie (maszynoznawstwo)', 9680),\n ('Luz (mechanika)', 9681),\n ('Kuba (wyspa)', 9691),\n ('Basra (prowincja Iraku)', 9699),\n ('Arno (rzeka)', 9714),\n ('Gniazdo (telekomunikacja)', 9715),\n ('Lancaster (ujednoznacznienie)', 9732),\n ('Geniusz (mitologia)', 9776),\n ('Karelia (ujednoznacznienie)', 9781),\n ('Nokia (miasto)', 9782),\n ('Palestra (ujednoznacznienie)', 9816),\n ('Palestra (starożytna Grecja)', 9817),\n ('Odeon (architektura)', 9818),\n ('Belkowanie (budownictwo)', 9825),\n ('Agora (ujednoznacznienie)', 9827),\n ('Kolumbia (ujednoznacznienie)', 9850),\n ('Akademia (starożytność)', 9873),\n ('Delfin (ujednoznacznienie)', 9874),\n ('Wibrator (erotyka)', 9888),\n ('Wibrator (muzyka)', 9892),\n ('Narew (ujednoznacznienie)', 9895),\n ('Narew (województwo podlaskie)', 9897),\n ('Wał (maszynoznawstwo)', 9910),\n ('Brzeg (matematyka)', 9911),\n ('Prypeć (rzeka)', 9919),\n ('Twist (taniec)', 9942),\n ('Słucz (województwo podlaskie)', 9950),\n ('Hańcza (jezioro)', 9952),\n ('Nida (dopływ Wisły)', 9955),\n ('Des (dźwięk)', 9972),\n ('Ges (dźwięk)', 9973),\n ('Ais (dźwięk)', 9977),\n ('Dominanta (muzyka)', 9982),\n ('Wda (rzeka)', 9986),\n ('Walka (wojsko)', 9988),\n ('Kingston (żeglarstwo)', 9994),\n ('Raster (poligrafia)', 10006),\n ('Sedan (nadwozie)', 10040),\n ('Okres archaiczny (starożytna Grecja)', 10048),\n ('August (tytuł)', 10050),\n ('Kolumna (architektura)', 10059),\n ('Gorgonzola (ser)', 10076),\n ('Akcent (muzyka)', 10086),\n ('Podkładka (technika)', 10093),\n ('1000 (liczba)', 10119),\n ('100 (ujednoznacznienie)', 10120),\n ('10 (liczba)', 10121),\n ('Dynamika (muzyka)', 10125),\n ('13 (liczba)', 10131),\n ('Brie (ser)', 10134),\n ('Pole (fizyka)', 10138),\n ('Kopa (liczba)', 10144),\n ('Artykulacja (muzyka)', 10167),\n ('Optymalizacja (matematyka)', 10173),\n ('Bala (Sumer)', 10204),\n ('Cezar (tytuł)', 10207),\n ('Set (bóg)', 10213),\n ('Graffiti (ujednoznacznienie)', 10222),\n ('Jota (taniec)', 10223),\n ('Trojak (taniec)', 10224),\n ('Kozak (taniec)', 10226),\n ('Pax (mitologia)', 10230),\n ('Dux (wódz)', 10231),\n ('Dyktator (starożytny Rzym)', 10233),\n ('Pas (balet)', 10235),\n ('Madison (taniec)', 10244),\n ('Calypso (muzyka)', 10248),\n ('Falanga (ujednoznacznienie)', 10254),\n ('Courante (taniec)', 10266),\n ('Forum (Rzym)', 10274),\n ('Oliwka (roślina)', 10290),\n ('Berenika (żona Antiocha II)', 10304),\n ('Berenika (księżniczka Judei)', 10309),\n ('Eutropiusz (imię)', 10315),\n ('Arnis (sztuka walki)', 10337),\n ('Tryl (muzyka)', 10339),\n ('Franciszek Salezy (imię)', 10361),\n ('Palatyn (wzgórze)', 10364),\n ('Arsinoe (miasto w Egipcie)', 10376),\n ('Arsinoe (miasto w Libii)', 10377),\n ('Oś (część maszyny)', 10379),\n ('Gouda (miasto)', 10385),\n ('Kadencja (harmonia)', 10390),\n ('Gouda (ser)', 10392),\n ('Hasta (broń)', 10401),\n ('Łeba (rzeka)', 10404),\n ('Podział administracyjny Polski (1975–1998)', 10424),\n ('Tarsus (miasto)', 10430),\n ('Muzak (przedsiębiorstwo)', 10434),\n ('Motyw (muzyka)', 10467),\n ('Fraza (muzyka)', 10470),\n ('Okres (muzyka)', 10472),\n ('Wieprz (rzeka)', 10476),\n ('Mesa (żegluga)', 10485),\n ('Pirs (budowla)', 10486),\n ('Antiochia (Turcja)', 10489),\n ('David Murray (saksofonista)', 10493),\n ('Kami (mitologia japońska)', 10495),\n ('Pilica (ujednoznacznienie)', 10498),\n ('Marsz (muzyka)', 10507),\n ('Pigmalion (król Cypru)', 10508),\n ('Mors (ujednoznacznienie)', 10516),\n ('Vision (dystrybutor filmów)', 10519),\n ('Taniec (muzyka)', 10524),\n ('Miniatura (muzyka)', 10527),\n ('Ballada (muzyka)', 10529),\n ('Polonez (muzyka)', 10531),\n ('Arabeska (muzyka)', 10532),\n ('Burleska (muzyka)', 10544),\n ('Elegia (muzyka)', 10545),\n ('Etiuda (muzyka)', 10547),\n ('Bagatela (muzyka)', 10556),\n ('Fantazja (muzyka)', 10560),\n ('Humoreska (muzyka)', 10565),\n ('Kaprys (muzyka)', 10566),\n ('Legenda (muzyka)', 10567),\n ('Noweleta (muzyka)', 10568),\n ('Preludium (muzyka)', 10571),\n ('Allemande (muzyka)', 10580),\n ('Courante (muzyka)', 10582),\n ('Canzona (muzyka)', 10583),\n ('Gigue (muzyka)', 10584),\n ('Gawot (muzyka)', 10585),\n ('Menuet (muzyka)', 10586),\n ('Mazurek (muzyka)', 10592),\n ('Kujawiak (muzyka)', 10593),\n ('Krakowiak (muzyka)', 10594),\n ('Oberek (muzyka)', 10595),\n ('Front wschodni (II wojna światowa)', 10597),\n ('Kozak (muzyka)', 10598),\n ('Kamarinskaja (muzyka)', 10599),\n ('Polka (muzyka)', 10601),\n ('Czardasz (muzyka)', 10613),\n ('Walc (muzyka)', 10614),\n ('Canarie (muzyka)', 10615),\n ('Loure (muzyka)', 10616),\n ('Musette (muzyka)', 10619),\n ('Rigaudon (muzyka)', 10620),\n ('Tarantela (muzyka)', 10622),\n ('Pluton (mitologia rzymska)', 10624),\n ('Tango (muzyka)', 10625),\n ('Rondo (muzyka)', 10642),\n ('Kosa (ujednoznacznienie)', 10645),\n ('Henryk Dembiński (generał)', 10655),\n ('Koncert (forma muzyczna)', 10656),\n ('Msza (muzyka)', 10665),\n ('Requiem (muzyka)', 10666),\n ('Kontrapunkt (muzyka)', 10690),\n ('Temat (muzyka)', 10696),\n ('Interludium (muzyka)', 10712),\n ('Jota (muzyka)', 10713),\n ('Lauda (muzyka)', 10714),\n ('Perpetuum mobile (muzyka)', 10718),\n ('Warcisław I (książę pomorski)', 10744),\n ('Królewiec (ujednoznacznienie)', 10764),\n ('Smyczek (muzyka)', 10791),\n ('Miecz (żeglarstwo)', 10807),\n ('Skrzydło (zoologia)', 10810),\n ('Pióro (ujednoznacznienie)', 10813),\n ('Pustelnik (województwo dolnośląskie)', 10819),\n ('Wanta (żeglarstwo)', 10851),\n ('Eol (syn Hippotesa)', 10854),\n ('Birka (żeglarstwo)', 10865),\n ('Fregata (okręt)', 10871),\n ('Halka (opera)', 10898),\n ('Coda (muzyka)', 10935),\n ('Coda (system plików)', 10936),\n ('Lido (geomorfologia)', 10984),\n ('Równość (polityka i socjologia)', 10989),\n ('John Watson (psycholog)', 11005),\n ('Ślinochron (koferdam)', 11012),\n ('Chwaliszewo (Poznań)', 11015),\n ('Hel (bogini)', 11036),\n ('Funkcja charakterystyczna (teoria prawdopodobieństwa)', 11081),\n ('Akwarium (ujednoznacznienie)', 11099),\n ('Józef Baran (poeta)', 11147),\n ('Zadruga (pismo)', 11160),\n ('Nawarra (prowincja)', 11212),\n ('Kwadrat (poligrafia)', 11229),\n ('Bark (żaglowiec)', 11264),\n ('Zamek (ujednoznacznienie)', 11269),\n ('Zamek (broń)', 11271),\n ('Klucz (do zamka)', 11293),\n ('Zamek (mechanizm)', 11294),\n ('Tor (jednostka)', 11299),\n ('Drachma (moneta)', 11304),\n ('Bismarck (1939)', 11305),\n ...]"
     },
     "execution_count": 74,
     "metadata": {},
     "output_type": "execute_result"
    }
   ],
   "source": [
    "titles_with_brackets"
   ],
   "metadata": {
    "collapsed": false,
    "pycharm": {
     "name": "#%%\n"
    }
   }
  },
  {
   "cell_type": "code",
   "execution_count": 9,
   "outputs": [],
   "source": [
    "N_GRAMS = {title: set(map(\"\".join, ngrams(preprocess(title), 2))) for title in titles_lines}"
   ],
   "metadata": {
    "collapsed": false,
    "pycharm": {
     "name": "#%%\n"
    }
   }
  },
  {
   "cell_type": "code",
   "execution_count": 72,
   "outputs": [],
   "source": [
    "def correct_error(word):\n",
    "    processed_word = preprocess(word)\n",
    "    possible_words = {}\n",
    "    word_ngrams = set(map(\"\".join, ngrams(processed_word, 2)))\n",
    "\n",
    "    for idx, (correct_word, correct_ngrams) in enumerate(N_GRAMS.items()):\n",
    "        if len(word_ngrams & correct_ngrams) > 0.45 * len(word_ngrams):\n",
    "            possible_words[correct_word] = (preprocess(correct_word), idx)\n",
    "\n",
    "    min_editdist = 100\n",
    "    best_word = []\n",
    "    for correct_word, (processed_correct_word, idx) in possible_words.items():\n",
    "        editdist = editdistance.eval(processed_correct_word, processed_word)\n",
    "        if editdist == min_editdist:\n",
    "            best_word.append((correct_word, idx))\n",
    "        if editdist < min_editdist:\n",
    "            min_editdist = editdist\n",
    "            best_word = [(correct_word, idx)]\n",
    "\n",
    "    return best_word"
   ],
   "metadata": {
    "collapsed": false,
    "pycharm": {
     "name": "#%%\n"
    }
   }
  },
  {
   "cell_type": "code",
   "execution_count": 86,
   "outputs": [],
   "source": [
    "def postprocess(best_titles):\n",
    "\n",
    "    current = []\n",
    "    min_len = 1000\n",
    "\n",
    "    # shortest\n",
    "    for (title, idx) in best_titles:\n",
    "        current_len = len(title)\n",
    "        if len(title) < min_len:\n",
    "            min_len = current_len\n",
    "            current = [(title, idx)]\n",
    "        elif len(title) == min_len:\n",
    "            current.append((title, idx))\n",
    "\n",
    "    best_titles = current\n",
    "    best_title = None\n",
    "    min_idx = 100000000\n",
    "\n",
    "    # lowest nr\n",
    "    for (title, idx) in best_titles:\n",
    "        if idx < min_idx:\n",
    "            min_idx = idx\n",
    "            best_title = (title, idx)\n",
    "\n",
    "    output = [best_title]\n",
    "\n",
    "    # in brackets\n",
    "    for title, idx in titles_with_brackets:\n",
    "        if best_title[0] in title:\n",
    "            output.append((title, idx))\n",
    "\n",
    "    return output"
   ],
   "metadata": {
    "collapsed": false,
    "pycharm": {
     "name": "#%%\n"
    }
   }
  },
  {
   "cell_type": "code",
   "execution_count": 76,
   "outputs": [
    {
     "name": "stdout",
     "output_type": "stream",
     "text": [
      "CPU times: user 796 ms, sys: 0 ns, total: 796 ms\n",
      "Wall time: 795 ms\n"
     ]
    },
    {
     "data": {
      "text/plain": "[('Uniwersytet Wrocławski', 22546)]"
     },
     "execution_count": 76,
     "metadata": {},
     "output_type": "execute_result"
    }
   ],
   "source": [
    "%%time\n",
    "correct_error(\"uniweraytrer wroclawaski\")"
   ],
   "metadata": {
    "collapsed": false,
    "pycharm": {
     "name": "#%%\n"
    }
   }
  },
  {
   "cell_type": "code",
   "execution_count": 77,
   "outputs": [
    {
     "name": "stdout",
     "output_type": "stream",
     "text": [
      "CPU times: user 777 ms, sys: 180 µs, total: 777 ms\n",
      "Wall time: 778 ms\n"
     ]
    },
    {
     "data": {
      "text/plain": "[('Programowanie logiczne', 14326)]"
     },
     "execution_count": 77,
     "metadata": {},
     "output_type": "execute_result"
    }
   ],
   "source": [
    "%%time\n",
    "correct_error(\"progamownaienie lfogiczne\")"
   ],
   "metadata": {
    "collapsed": false,
    "pycharm": {
     "name": "#%%\n"
    }
   }
  },
  {
   "cell_type": "code",
   "execution_count": 78,
   "outputs": [
    {
     "name": "stdout",
     "output_type": "stream",
     "text": [
      "CPU times: user 797 ms, sys: 3.51 ms, total: 800 ms\n",
      "Wall time: 803 ms\n"
     ]
    },
    {
     "data": {
      "text/plain": "[('Programowanie logiczne', 14326)]"
     },
     "execution_count": 78,
     "metadata": {},
     "output_type": "execute_result"
    }
   ],
   "source": [
    "%%time\n",
    "correct_error(\"programwowanielogiczne\")"
   ],
   "metadata": {
    "collapsed": false,
    "pycharm": {
     "name": "#%%\n"
    }
   }
  },
  {
   "cell_type": "code",
   "execution_count": 87,
   "outputs": [
    {
     "name": "stdout",
     "output_type": "stream",
     "text": [
      "CPU times: user 814 ms, sys: 0 ns, total: 814 ms\n",
      "Wall time: 814 ms\n"
     ]
    },
    {
     "data": {
      "text/plain": "[('To nie jest kraj dla starych ludzi', 462778),\n ('To nie jest kraj dla starych ludzi (film)', 448258),\n ('To nie jest kraj dla starych ludzi (powieść)', 462784)]"
     },
     "execution_count": 87,
     "metadata": {},
     "output_type": "execute_result"
    }
   ],
   "source": [
    "%%time\n",
    "postprocess(correct_error(\"to nie jest kraej dla styartrych liddzo\"))"
   ],
   "metadata": {
    "collapsed": false,
    "pycharm": {
     "name": "#%%\n"
    }
   }
  },
  {
   "cell_type": "code",
   "execution_count": null,
   "outputs": [],
   "source": [],
   "metadata": {
    "collapsed": false,
    "pycharm": {
     "name": "#%%\n"
    }
   }
  }
 ],
 "metadata": {
  "kernelspec": {
   "display_name": "Python 3",
   "language": "python",
   "name": "python3"
  },
  "language_info": {
   "codemirror_mode": {
    "name": "ipython",
    "version": 2
   },
   "file_extension": ".py",
   "mimetype": "text/x-python",
   "name": "python",
   "nbconvert_exporter": "python",
   "pygments_lexer": "ipython2",
   "version": "2.7.6"
  }
 },
 "nbformat": 4,
 "nbformat_minor": 0
}