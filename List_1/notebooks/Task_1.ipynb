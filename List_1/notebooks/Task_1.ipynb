{
 "cells": [
  {
   "cell_type": "code",
   "execution_count": 96,
   "outputs": [],
   "source": [
    "from collections import defaultdict\n",
    "import unicodedata"
   ],
   "metadata": {
    "collapsed": false,
    "pycharm": {
     "name": "#%%\n"
    }
   }
  },
  {
   "cell_type": "code",
   "execution_count": 97,
   "outputs": [],
   "source": [
    "def process_text(text):\n",
    "    preprocessed = []\n",
    "    for w in text:\n",
    "        stripped = w.strip()\n",
    "        if stripped:\n",
    "            preprocessed.append(stripped)\n",
    "    titles, contents = [], []\n",
    "    for i in range(len(preprocessed)//2):\n",
    "        titles.append(preprocessed[2*i])\n",
    "        contents.append(preprocessed[2*i+1])\n",
    "    return titles, contents"
   ],
   "metadata": {
    "collapsed": false,
    "pycharm": {
     "name": "#%%\n"
    }
   }
  },
  {
   "cell_type": "code",
   "execution_count": 98,
   "outputs": [],
   "source": [
    "def find_closed_marks(text, start, stop, max_len):\n",
    "    if len(text[start]) > 6 and text[start][:3] == \"'''\" and text[stop][-3:] == \"'''\":\n",
    "        return start, stop\n",
    "    else:\n",
    "        while start < min(len(text) - 1, max_len):\n",
    "            if len(text[start]) > 3 and text[start][:3] == \"'''\":\n",
    "                break\n",
    "            start += 1\n",
    "        while stop < min(len(text) - 1, max_len):\n",
    "            if len(text[stop]) > 3 and text[stop][-3:] == \"'''\":\n",
    "                break\n",
    "            stop += 1\n",
    "        if len(text[start]) > 3 and text[start][:3] == \"'''\" and len(text[stop]) > 3 and text[stop][-3:] == \"'''\":\n",
    "            return start, stop\n",
    "    return None\n",
    "\n",
    "def strip_unwanted_punctuation(text):\n",
    "    unwanted = [\",\", \")\", \"(\"]\n",
    "    stripped = []\n",
    "    for word in text:\n",
    "        if word:\n",
    "            start = 0\n",
    "            while start < len(word) and word[start] in unwanted:\n",
    "                start += 1\n",
    "            stop = len(word) - 1\n",
    "            while stop > 1 and word[stop] in unwanted:\n",
    "                stop -= 1\n",
    "            if stop - start > 0:\n",
    "                stripped.append(word[start:(stop+1)])\n",
    "    return stripped\n",
    "\n",
    "def strip_all_punctuation(text):\n",
    "    stripped = []\n",
    "    for word in text:\n",
    "        if word:\n",
    "            start = 0\n",
    "            while start < len(word) and unicodedata.category(word[start])[0] == 'P' :\n",
    "                start += 1\n",
    "            stop = len(word) - 1\n",
    "            while stop > 1 and unicodedata.category(word[stop])[0] == 'P':\n",
    "                stop -= 1\n",
    "            if stop - start > 0:\n",
    "                stripped.append(word[start:(stop+1)])\n",
    "    return stripped"
   ],
   "metadata": {
    "collapsed": false,
    "pycharm": {
     "name": "#%%\n"
    }
   }
  },
  {
   "cell_type": "code",
   "execution_count": 99,
   "outputs": [],
   "source": [
    "def find_synonyms_1(text):\n",
    "    results = []\n",
    "    for idx in range(1, min(len(text), 10)):\n",
    "        if text[idx] in [\"lub\", \"synonimy\", \"właściwie\", \"potocznie\"] and len(text) > idx + 1:\n",
    "            res = find_closed_marks(text, idx+1, idx+1, 10)\n",
    "            if res is not None:\n",
    "                results.append(text[res[0]:res[1]+1])\n",
    "    return results\n",
    "\n",
    "def find_synonyms_2(text):\n",
    "    results = []\n",
    "    for idx in range(1, min(len(text), 10)):\n",
    "        if text[idx][-1] == \",\" and len(text) > idx + 1:\n",
    "            res = find_closed_marks(text, idx+1, idx+1, 10)\n",
    "            if res is not None:\n",
    "                results.append(text[res[0]:res[1]+1])\n",
    "    return results"
   ],
   "metadata": {
    "collapsed": false,
    "pycharm": {
     "name": "#%%\n"
    }
   }
  },
  {
   "cell_type": "code",
   "execution_count": 100,
   "outputs": [],
   "source": [
    "with open(\"../data/poczatki_wikipediowe.txt\", \"r\") as f:\n",
    "    text = f.readlines()\n",
    "\n",
    "titles, contents = process_text(text)"
   ],
   "metadata": {
    "collapsed": false,
    "pycharm": {
     "name": "#%%\n"
    }
   }
  },
  {
   "cell_type": "code",
   "execution_count": 101,
   "outputs": [],
   "source": [
    "synonyms = defaultdict(list)\n",
    "for title, content in zip(titles, contents):\n",
    "    clean_content = strip_unwanted_punctuation(content.split(\" \"))\n",
    "    synonyms_1 = find_synonyms_1(clean_content)\n",
    "    synonyms_2 = find_synonyms_2(clean_content)\n",
    "    synonyms[title].extend(synonyms_1)\n",
    "    synonyms[title].extend(synonyms_2)"
   ],
   "metadata": {
    "collapsed": false,
    "pycharm": {
     "name": "#%%\n"
    }
   }
  },
  {
   "cell_type": "code",
   "execution_count": 108,
   "outputs": [],
   "source": [
    "with open(\"../other/output_1.txt\", \"w\") as f:\n",
    "    for k, v in synonyms.items():\n",
    "        if v:\n",
    "            v = strip_all_punctuation([\" \".join(s) for s in v])\n",
    "            filtered = list(set([k[4:]] + v))\n",
    "            if len(filtered) > 1:\n",
    "                f.write(\" # \".join(filtered))\n",
    "                f.write('\\n')"
   ],
   "metadata": {
    "collapsed": false,
    "pycharm": {
     "name": "#%%\n"
    }
   }
  }
 ],
 "metadata": {
  "kernelspec": {
   "display_name": "Python 3",
   "language": "python",
   "name": "python3"
  },
  "language_info": {
   "codemirror_mode": {
    "name": "ipython",
    "version": 2
   },
   "file_extension": ".py",
   "mimetype": "text/x-python",
   "name": "python",
   "nbconvert_exporter": "python",
   "pygments_lexer": "ipython2",
   "version": "2.7.6"
  }
 },
 "nbformat": 4,
 "nbformat_minor": 0
}