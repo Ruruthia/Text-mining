{
 "cells": [
  {
   "cell_type": "code",
   "execution_count": 3,
   "outputs": [],
   "source": [
    "import unicodedata\n",
    "from collections import defaultdict"
   ],
   "metadata": {
    "collapsed": false,
    "pycharm": {
     "name": "#%%\n"
    }
   }
  },
  {
   "cell_type": "code",
   "execution_count": 4,
   "outputs": [],
   "source": [
    "with open(\"../data/znaki_wikipedii.txt\", \"r\") as f:\n",
    "    chars = f.read()"
   ],
   "metadata": {
    "collapsed": false,
    "pycharm": {
     "name": "#%%\n"
    }
   }
  },
  {
   "cell_type": "code",
   "execution_count": 5,
   "outputs": [],
   "source": [
    "def group_by_type(chars):\n",
    "    type_dict = defaultdict(list)\n",
    "    for ch in chars:\n",
    "        type_dict[unicodedata.category(ch)[0]].append(ch)\n",
    "    for k, v in type_dict.items():\n",
    "        type_dict[k] = list(set(v))\n",
    "    return type_dict"
   ],
   "metadata": {
    "collapsed": false,
    "pycharm": {
     "name": "#%%\n"
    }
   }
  },
  {
   "cell_type": "code",
   "execution_count": 6,
   "outputs": [
    {
     "name": "stdout",
     "output_type": "stream",
     "text": [
      "S\n",
      "675\n",
      "Z\n",
      "16\n",
      "L\n",
      "10965\n",
      "P\n",
      "197\n",
      "N\n",
      "335\n",
      "C\n",
      "75\n",
      "M\n",
      "544\n"
     ]
    }
   ],
   "source": [
    "types = group_by_type(chars)\n",
    "for k,v in types.items():\n",
    "    print(k)\n",
    "    print(len(v))"
   ],
   "metadata": {
    "collapsed": false,
    "pycharm": {
     "name": "#%%\n"
    }
   }
  },
  {
   "cell_type": "code",
   "execution_count": 7,
   "outputs": [],
   "source": [
    "def group_by_code(type_dict, type, gap1, gap2):\n",
    "\n",
    "    chars = type_dict[type]\n",
    "    chars.sort(key=lambda n: ord(n))\n",
    "\n",
    "    idx = 0\n",
    "    batch = 0\n",
    "    grouped = defaultdict(list)\n",
    "\n",
    "    while idx < len(chars) - 1:\n",
    "        curr = chars[idx]\n",
    "        next = chars[idx + 1]\n",
    "        grouped[batch].append(curr)\n",
    "\n",
    "        if (ord(next) - ord(curr)) > gap1 and (ord(next)/ord(curr)) > gap2:\n",
    "            batch += 1\n",
    "        idx += 1\n",
    "\n",
    "    return grouped"
   ],
   "metadata": {
    "collapsed": false,
    "pycharm": {
     "name": "#%%\n"
    }
   }
  },
  {
   "cell_type": "code",
   "execution_count": 8,
   "outputs": [],
   "source": [
    "def name_groups(grouped, type):\n",
    "    named = defaultdict(list)\n",
    "    for k in grouped:\n",
    "        group = grouped[k]\n",
    "        min = ord(group[0])\n",
    "        max = ord(group[-1])\n",
    "        named[type + \":\" + str(min) + \"-\" + str(max)] = group\n",
    "    return named"
   ],
   "metadata": {
    "collapsed": false,
    "pycharm": {
     "name": "#%%\n"
    }
   }
  },
  {
   "cell_type": "code",
   "execution_count": 9,
   "outputs": [],
   "source": [
    "def prepare_file(chars, path):\n",
    "    f = open(path, 'w')\n",
    "    types = group_by_type(chars)\n",
    "    big_categories = [\"L\"]\n",
    "    for codetype in big_categories:\n",
    "        grouped_letters = group_by_code(types, codetype, 100, 1.05)\n",
    "        named_letters = name_groups(grouped_letters, codetype)\n",
    "        for k, g in named_letters.items():\n",
    "            f.write(k)\n",
    "            f.write(\"\\n\")\n",
    "            f.write(\" \".join(list(g)))\n",
    "            f.write(\"\\n\")\n",
    "    for k, g in types.items():\n",
    "        if k not in big_categories:\n",
    "            f.write(k)\n",
    "            f.write(\"\\n\")\n",
    "            f.write(\" \".join(list(g)))\n",
    "            f.write(\"\\n\")"
   ],
   "metadata": {
    "collapsed": false,
    "pycharm": {
     "name": "#%%\n"
    }
   }
  },
  {
   "cell_type": "code",
   "execution_count": 10,
   "outputs": [],
   "source": [
    "prepare_file(chars, \"../other/output2.txt\")"
   ],
   "metadata": {
    "collapsed": false,
    "pycharm": {
     "name": "#%%\n"
    }
   }
  },
  {
   "cell_type": "code",
   "execution_count": null,
   "outputs": [],
   "source": [],
   "metadata": {
    "collapsed": false,
    "pycharm": {
     "name": "#%%\n"
    }
   }
  }
 ],
 "metadata": {
  "kernelspec": {
   "display_name": "Python 3",
   "language": "python",
   "name": "python3"
  },
  "language_info": {
   "codemirror_mode": {
    "name": "ipython",
    "version": 2
   },
   "file_extension": ".py",
   "mimetype": "text/x-python",
   "name": "python",
   "nbconvert_exporter": "python",
   "pygments_lexer": "ipython2",
   "version": "2.7.6"
  }
 },
 "nbformat": 4,
 "nbformat_minor": 0
}